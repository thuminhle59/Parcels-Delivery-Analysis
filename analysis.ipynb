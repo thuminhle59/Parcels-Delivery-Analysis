{
 "cells": [
  {
   "cell_type": "markdown",
   "metadata": {},
   "source": [
    "# ------------------ PARCELS DELIVERY ANALYSIS ------------------"
   ]
  },
  {
   "cell_type": "markdown",
   "metadata": {},
   "source": [
    "## A. IMPORT & SETUP"
   ]
  },
  {
   "cell_type": "code",
   "execution_count": 3247,
   "metadata": {},
   "outputs": [],
   "source": [
    "import pandas as pd\n",
    "import numpy as np\n",
    "from datetime import datetime\n",
    "import plotly\n",
    "import plotly.graph_objects as go\n",
    "import plotly.express as px\n",
    "\n",
    "import seaborn as sns\n",
    "import matplotlib.pyplot as plt\n",
    "import matplotlib as mpl\n",
    "# mpl.rcParams['figure.facecolor'] = 'white'\n",
    "pd.options.display.float_format = '{:,.2f}'.format\n",
    "import warnings\n",
    "warnings.filterwarnings(\"ignore\")\n",
    "plt.rcParams['axes.facecolor'] = 'aliceblue'\n",
    "plt.rcParams.update({'font.size': 14})"
   ]
  },
  {
   "cell_type": "markdown",
   "metadata": {},
   "source": [
    "This project contains 2 datasets:\n",
    "\n",
    "- parcel_table: information about parcels such as pickup_date, final_delivery_date, origin_country, carrier_name, etc..\n",
    "\n",
    "- log_table: detailed logs of delivery date prediction"
   ]
  },
  {
   "cell_type": "markdown",
   "metadata": {},
   "source": [
    "### 1. Parcel table"
   ]
  },
  {
   "cell_type": "code",
   "execution_count": 3248,
   "metadata": {},
   "outputs": [
    {
     "data": {
      "text/html": [
       "<div>\n",
       "<style scoped>\n",
       "    .dataframe tbody tr th:only-of-type {\n",
       "        vertical-align: middle;\n",
       "    }\n",
       "\n",
       "    .dataframe tbody tr th {\n",
       "        vertical-align: top;\n",
       "    }\n",
       "\n",
       "    .dataframe thead th {\n",
       "        text-align: right;\n",
       "    }\n",
       "</style>\n",
       "<table border=\"1\" class=\"dataframe\">\n",
       "  <thead>\n",
       "    <tr style=\"text-align: right;\">\n",
       "      <th></th>\n",
       "      <th>parcel_id</th>\n",
       "      <th>carrier_name</th>\n",
       "      <th>picked_up_date</th>\n",
       "      <th>out_for_delivery_date</th>\n",
       "      <th>first_attempt_date</th>\n",
       "      <th>final_delivery_date</th>\n",
       "      <th>origin_country</th>\n",
       "      <th>destination_country</th>\n",
       "      <th>is_delivered</th>\n",
       "    </tr>\n",
       "  </thead>\n",
       "  <tbody>\n",
       "    <tr>\n",
       "      <th>0</th>\n",
       "      <td>2981186961</td>\n",
       "      <td>Initech</td>\n",
       "      <td>2023-06-20 07:00:11</td>\n",
       "      <td>2023-06-20 20:57:51</td>\n",
       "      <td>2023-06-20 22:18:27</td>\n",
       "      <td>2023-06-20 22:18:27</td>\n",
       "      <td>Australia</td>\n",
       "      <td>Australia</td>\n",
       "      <td>True</td>\n",
       "    </tr>\n",
       "    <tr>\n",
       "      <th>1</th>\n",
       "      <td>2948380100</td>\n",
       "      <td>Initech</td>\n",
       "      <td>2023-06-08 06:00:06</td>\n",
       "      <td>2023-06-18 00:12:26</td>\n",
       "      <td>2023-06-18 03:33:55</td>\n",
       "      <td>2023-06-18 03:33:55</td>\n",
       "      <td>Australia</td>\n",
       "      <td>Australia</td>\n",
       "      <td>True</td>\n",
       "    </tr>\n",
       "    <tr>\n",
       "      <th>2</th>\n",
       "      <td>2948508927</td>\n",
       "      <td>Initech</td>\n",
       "      <td>2023-06-21 01:45:00</td>\n",
       "      <td>2023-06-21 21:53:58</td>\n",
       "      <td>2023-06-21 23:42:15</td>\n",
       "      <td>2023-06-21 23:42:15</td>\n",
       "      <td>Australia</td>\n",
       "      <td>Australia</td>\n",
       "      <td>True</td>\n",
       "    </tr>\n",
       "    <tr>\n",
       "      <th>3</th>\n",
       "      <td>2941258771</td>\n",
       "      <td>Initech</td>\n",
       "      <td>NaT</td>\n",
       "      <td>2023-06-12 00:06:19</td>\n",
       "      <td>2023-06-12 01:18:39</td>\n",
       "      <td>2023-06-12 01:18:39</td>\n",
       "      <td>Australia</td>\n",
       "      <td>Australia</td>\n",
       "      <td>True</td>\n",
       "    </tr>\n",
       "    <tr>\n",
       "      <th>4</th>\n",
       "      <td>2980427311</td>\n",
       "      <td>Massive</td>\n",
       "      <td>NaT</td>\n",
       "      <td>2023-06-22 23:09:38</td>\n",
       "      <td>2023-06-23 02:43:15</td>\n",
       "      <td>2023-06-23 02:43:15</td>\n",
       "      <td>Australia</td>\n",
       "      <td>Australia</td>\n",
       "      <td>True</td>\n",
       "    </tr>\n",
       "  </tbody>\n",
       "</table>\n",
       "</div>"
      ],
      "text/plain": [
       "    parcel_id carrier_name      picked_up_date out_for_delivery_date  \\\n",
       "0  2981186961      Initech 2023-06-20 07:00:11   2023-06-20 20:57:51   \n",
       "1  2948380100      Initech 2023-06-08 06:00:06   2023-06-18 00:12:26   \n",
       "2  2948508927      Initech 2023-06-21 01:45:00   2023-06-21 21:53:58   \n",
       "3  2941258771      Initech                 NaT   2023-06-12 00:06:19   \n",
       "4  2980427311      Massive                 NaT   2023-06-22 23:09:38   \n",
       "\n",
       "   first_attempt_date final_delivery_date origin_country destination_country  \\\n",
       "0 2023-06-20 22:18:27 2023-06-20 22:18:27      Australia           Australia   \n",
       "1 2023-06-18 03:33:55 2023-06-18 03:33:55      Australia           Australia   \n",
       "2 2023-06-21 23:42:15 2023-06-21 23:42:15      Australia           Australia   \n",
       "3 2023-06-12 01:18:39 2023-06-12 01:18:39      Australia           Australia   \n",
       "4 2023-06-23 02:43:15 2023-06-23 02:43:15      Australia           Australia   \n",
       "\n",
       "   is_delivered  \n",
       "0          True  \n",
       "1          True  \n",
       "2          True  \n",
       "3          True  \n",
       "4          True  "
      ]
     },
     "metadata": {},
     "output_type": "display_data"
    },
    {
     "name": "stdout",
     "output_type": "stream",
     "text": [
      "<class 'pandas.core.frame.DataFrame'>\n",
      "RangeIndex: 50083 entries, 0 to 50082\n",
      "Data columns (total 9 columns):\n",
      " #   Column                 Non-Null Count  Dtype         \n",
      "---  ------                 --------------  -----         \n",
      " 0   parcel_id              50083 non-null  object        \n",
      " 1   carrier_name           50063 non-null  object        \n",
      " 2   picked_up_date         21594 non-null  datetime64[ns]\n",
      " 3   out_for_delivery_date  49277 non-null  datetime64[ns]\n",
      " 4   first_attempt_date     49616 non-null  datetime64[ns]\n",
      " 5   final_delivery_date    49381 non-null  datetime64[ns]\n",
      " 6   origin_country         50060 non-null  object        \n",
      " 7   destination_country    50055 non-null  object        \n",
      " 8   is_delivered           50083 non-null  bool          \n",
      "dtypes: bool(1), datetime64[ns](4), object(4)\n",
      "memory usage: 3.1+ MB\n"
     ]
    }
   ],
   "source": [
    "parcel_tbl = pd.read_csv(r\"/Users/thule/Desktop/DSProjects/ParcelPerform/parcel_table.csv\", \n",
    "                           parse_dates=['picked_up_date', 'out_for_delivery_date', 'first_attempt_date', 'final_delivery_date'])\n",
    "parcel_tbl[\"parcel_id\"] = parcel_tbl[\"parcel_id\"].astype('str')                          \n",
    "display(parcel_tbl.head())\n",
    "parcel_tbl.info()"
   ]
  },
  {
   "cell_type": "code",
   "execution_count": 3249,
   "metadata": {},
   "outputs": [
    {
     "name": "stdout",
     "output_type": "stream",
     "text": [
      "\n",
      "There are 8727 parcels in the parcel_table dataset\n"
     ]
    }
   ],
   "source": [
    "print(f'\\nThere are {parcel_tbl[\"parcel_id\"].nunique()} parcels in the parcel_table dataset')"
   ]
  },
  {
   "cell_type": "markdown",
   "metadata": {},
   "source": [
    "This table has 50k rows, 8 columns and 8727. Some columns have lots of missing values"
   ]
  },
  {
   "cell_type": "markdown",
   "metadata": {},
   "source": [
    "### 2. Log table"
   ]
  },
  {
   "cell_type": "code",
   "execution_count": 3250,
   "metadata": {},
   "outputs": [
    {
     "data": {
      "text/html": [
       "<div>\n",
       "<style scoped>\n",
       "    .dataframe tbody tr th:only-of-type {\n",
       "        vertical-align: middle;\n",
       "    }\n",
       "\n",
       "    .dataframe tbody tr th {\n",
       "        vertical-align: top;\n",
       "    }\n",
       "\n",
       "    .dataframe thead th {\n",
       "        text-align: right;\n",
       "    }\n",
       "</style>\n",
       "<table border=\"1\" class=\"dataframe\">\n",
       "  <thead>\n",
       "    <tr style=\"text-align: right;\">\n",
       "      <th></th>\n",
       "      <th>log_id</th>\n",
       "      <th>parcel_id</th>\n",
       "      <th>raw_log_description</th>\n",
       "      <th>log_key</th>\n",
       "      <th>log_timestamp</th>\n",
       "      <th>additional_params</th>\n",
       "    </tr>\n",
       "  </thead>\n",
       "  <tbody>\n",
       "    <tr>\n",
       "      <th>0</th>\n",
       "      <td>935869563</td>\n",
       "      <td>2928654176</td>\n",
       "      <td>Carrier EDD generated</td>\n",
       "      <td>EDD101</td>\n",
       "      <td>2023-06-04 00:08:08</td>\n",
       "      <td>{\"event_type_master_data_id\": \"EDD101\"}</td>\n",
       "    </tr>\n",
       "    <tr>\n",
       "      <th>1</th>\n",
       "      <td>910688054</td>\n",
       "      <td>2928669922</td>\n",
       "      <td>Carrier EDD generated</td>\n",
       "      <td>EDD101</td>\n",
       "      <td>2023-06-02 12:20:39</td>\n",
       "      <td>{\"event_type_master_data_id\": \"EDD101\"}</td>\n",
       "    </tr>\n",
       "    <tr>\n",
       "      <th>2</th>\n",
       "      <td>910688054</td>\n",
       "      <td>2928669922</td>\n",
       "      <td>Carrier EDD generated</td>\n",
       "      <td>EDD101</td>\n",
       "      <td>2023-06-02 12:20:39</td>\n",
       "      <td>{\"event_type_master_data_id\": \"EDD101\"}</td>\n",
       "    </tr>\n",
       "    <tr>\n",
       "      <th>3</th>\n",
       "      <td>910688054</td>\n",
       "      <td>2928669922</td>\n",
       "      <td>Carrier EDD generated</td>\n",
       "      <td>EDD101</td>\n",
       "      <td>2023-06-02 12:20:39</td>\n",
       "      <td>{\"event_type_master_data_id\": \"EDD101\"}</td>\n",
       "    </tr>\n",
       "    <tr>\n",
       "      <th>4</th>\n",
       "      <td>910688054</td>\n",
       "      <td>2928669922</td>\n",
       "      <td>Carrier EDD generated</td>\n",
       "      <td>EDD101</td>\n",
       "      <td>2023-06-02 12:20:39</td>\n",
       "      <td>{\"event_type_master_data_id\": \"EDD101\"}</td>\n",
       "    </tr>\n",
       "  </tbody>\n",
       "</table>\n",
       "</div>"
      ],
      "text/plain": [
       "      log_id   parcel_id    raw_log_description log_key       log_timestamp  \\\n",
       "0  935869563  2928654176  Carrier EDD generated  EDD101 2023-06-04 00:08:08   \n",
       "1  910688054  2928669922  Carrier EDD generated  EDD101 2023-06-02 12:20:39   \n",
       "2  910688054  2928669922  Carrier EDD generated  EDD101 2023-06-02 12:20:39   \n",
       "3  910688054  2928669922  Carrier EDD generated  EDD101 2023-06-02 12:20:39   \n",
       "4  910688054  2928669922  Carrier EDD generated  EDD101 2023-06-02 12:20:39   \n",
       "\n",
       "                         additional_params  \n",
       "0  {\"event_type_master_data_id\": \"EDD101\"}  \n",
       "1  {\"event_type_master_data_id\": \"EDD101\"}  \n",
       "2  {\"event_type_master_data_id\": \"EDD101\"}  \n",
       "3  {\"event_type_master_data_id\": \"EDD101\"}  \n",
       "4  {\"event_type_master_data_id\": \"EDD101\"}  "
      ]
     },
     "metadata": {},
     "output_type": "display_data"
    },
    {
     "name": "stdout",
     "output_type": "stream",
     "text": [
      "<class 'pandas.core.frame.DataFrame'>\n",
      "RangeIndex: 94771 entries, 0 to 94770\n",
      "Data columns (total 6 columns):\n",
      " #   Column               Non-Null Count  Dtype         \n",
      "---  ------               --------------  -----         \n",
      " 0   log_id               94771 non-null  object        \n",
      " 1   parcel_id            94771 non-null  object        \n",
      " 2   raw_log_description  94771 non-null  object        \n",
      " 3   log_key              94771 non-null  object        \n",
      " 4   log_timestamp        94771 non-null  datetime64[ns]\n",
      " 5   additional_params    94771 non-null  object        \n",
      "dtypes: datetime64[ns](1), object(5)\n",
      "memory usage: 4.3+ MB\n"
     ]
    }
   ],
   "source": [
    "log_tbl = pd.read_csv(r\"/Users/thule/Desktop/DSProjects/ParcelPerform/log_table.csv\", \n",
    "                           parse_dates=['log_timestamp'])\n",
    "log_tbl[\"parcel_id\"] = log_tbl[\"parcel_id\"].astype('str')  \n",
    "log_tbl[\"log_id\"] = log_tbl[\"log_id\"].astype('str')                          \n",
    "display(log_tbl.head())\n",
    "log_tbl.info()"
   ]
  },
  {
   "cell_type": "code",
   "execution_count": 3251,
   "metadata": {},
   "outputs": [
    {
     "name": "stdout",
     "output_type": "stream",
     "text": [
      "\n",
      "There are 8707 parcels in the parcel_table dataset\n"
     ]
    }
   ],
   "source": [
    "print(f'\\nThere are {log_tbl[\"parcel_id\"].nunique()} parcels in the parcel_table dataset')"
   ]
  },
  {
   "cell_type": "markdown",
   "metadata": {},
   "source": [
    "This table has around 95k rows, no columns with missing values, and 8707 parcels.\n",
    "\n",
    "- Column additional_params needs to be json_normalized to extract detailed EDD"
   ]
  },
  {
   "cell_type": "markdown",
   "metadata": {},
   "source": [
    "## B. QUESTIONS TO ANALYZE\n",
    "\n",
    "1. Which carrier has the highest EDD accuracy percentage\n",
    "\n",
    "2. How accurate is EDD?\n",
    "\n",
    "3. Successful delivery rate\n",
    "\n",
    "4. Are there any abnormality in the parcels?\n",
    "\n",
    "5. Characteristics of the accurate EDDs vs inaccurate EDDs."
   ]
  },
  {
   "cell_type": "markdown",
   "metadata": {},
   "source": [
    "## C. PRE-PROCESSING"
   ]
  },
  {
   "cell_type": "markdown",
   "metadata": {},
   "source": [
    "### I. Parcel table\n",
    "\n",
    "- drop duplicates\n",
    "\n",
    "- drop cols with lots of missing values\n",
    "\n",
    "- fillna for some columns\n",
    "\n",
    "- abnormal values"
   ]
  },
  {
   "cell_type": "markdown",
   "metadata": {},
   "source": [
    "#### 1. Duplications"
   ]
  },
  {
   "cell_type": "code",
   "execution_count": 3252,
   "metadata": {},
   "outputs": [
    {
     "name": "stdout",
     "output_type": "stream",
     "text": [
      "82.52 % duplicated values are dropped\n"
     ]
    }
   ],
   "source": [
    "# PERCENTAGE OF DUPLICATIONS\n",
    "perc = (parcel_tbl.shape[0] - parcel_tbl[~parcel_tbl.duplicated()].shape[0]) / parcel_tbl.shape[0] * 100\n",
    "\n",
    "# DROP DUPLICATES\n",
    "parcel_tbl = parcel_tbl.drop_duplicates()\n",
    "# VERIFY\n",
    "if parcel_tbl[parcel_tbl.duplicated()].shape[0] == 0:\n",
    "    print(f'{round(perc,2)} % duplicated values are dropped')"
   ]
  },
  {
   "cell_type": "markdown",
   "metadata": {},
   "source": [
    "#### 2. Missing values"
   ]
  },
  {
   "cell_type": "markdown",
   "metadata": {},
   "source": [
    "DROP ROWS WITH MISSING DELIVERY_DATE & CARRIER_NAME"
   ]
  },
  {
   "cell_type": "code",
   "execution_count": 3253,
   "metadata": {},
   "outputs": [
    {
     "name": "stdout",
     "output_type": "stream",
     "text": [
      "<class 'pandas.core.frame.DataFrame'>\n",
      "Int64Index: 8737 entries, 0 to 50069\n",
      "Data columns (total 9 columns):\n",
      " #   Column                 Non-Null Count  Dtype         \n",
      "---  ------                 --------------  -----         \n",
      " 0   parcel_id              8737 non-null   object        \n",
      " 1   carrier_name           8737 non-null   object        \n",
      " 2   picked_up_date         4112 non-null   datetime64[ns]\n",
      " 3   out_for_delivery_date  8638 non-null   datetime64[ns]\n",
      " 4   first_attempt_date     8684 non-null   datetime64[ns]\n",
      " 5   final_delivery_date    8663 non-null   datetime64[ns]\n",
      " 6   origin_country         8734 non-null   object        \n",
      " 7   destination_country    8729 non-null   object        \n",
      " 8   is_delivered           8737 non-null   bool          \n",
      "dtypes: bool(1), datetime64[ns](4), object(4)\n",
      "memory usage: 622.9+ KB\n"
     ]
    }
   ],
   "source": [
    "parcel_tbl = parcel_tbl[~((parcel_tbl['carrier_name'].isna()) &\n",
    "                           (parcel_tbl['out_for_delivery_date'].isna()) &\n",
    "                            (parcel_tbl['final_delivery_date'].isna()) )\n",
    "                            ]\n",
    "parcel_tbl.info()"
   ]
  },
  {
   "cell_type": "markdown",
   "metadata": {},
   "source": [
    "FILL MISSING PICKED_UP_DATE & OUT_FOR_DELIVERY_DATE BY ADDING AVG DAYSBW_PICKUP_N_OUT_FOR_DELIVERY"
   ]
  },
  {
   "cell_type": "code",
   "execution_count": 3254,
   "metadata": {},
   "outputs": [
    {
     "name": "stdout",
     "output_type": "stream",
     "text": [
      "<class 'pandas.core.frame.DataFrame'>\n",
      "Int64Index: 8737 entries, 0 to 50069\n",
      "Data columns (total 9 columns):\n",
      " #   Column                 Non-Null Count  Dtype         \n",
      "---  ------                 --------------  -----         \n",
      " 0   parcel_id              8737 non-null   object        \n",
      " 1   carrier_name           8737 non-null   object        \n",
      " 2   picked_up_date         8679 non-null   datetime64[ns]\n",
      " 3   out_for_delivery_date  8679 non-null   datetime64[ns]\n",
      " 4   first_attempt_date     8684 non-null   datetime64[ns]\n",
      " 5   final_delivery_date    8663 non-null   datetime64[ns]\n",
      " 6   origin_country         8734 non-null   object        \n",
      " 7   destination_country    8729 non-null   object        \n",
      " 8   is_delivered           8737 non-null   bool          \n",
      "dtypes: bool(1), datetime64[ns](4), object(4)\n",
      "memory usage: 622.9+ KB\n"
     ]
    }
   ],
   "source": [
    "# CALCULATE AVG DATES BETWEEN PICKED_UP_DATE & OUT_FOR_DELIVERY_DATE OF NORMAL PARCELS\n",
    "abnormal_parcels = parcel_tbl[parcel_tbl['out_for_delivery_date'] < parcel_tbl['picked_up_date']]\n",
    "mask = ~parcel_tbl['parcel_id'].isin(abnormal_parcels['parcel_id'])\n",
    "parcel_tbl['daysbw_pickup_n_out_for_delivery'] = (parcel_tbl[mask]['out_for_delivery_date'] - parcel_tbl[mask]['picked_up_date']) / pd.Timedelta(1, \"D\")\n",
    "# parcel_tbl.groupby('parcel_id')['daysbw_pickup_n_out_for_delivery'].mean().describe()\n",
    "\n",
    "FILLNA_INTERVAL = parcel_tbl.groupby('parcel_id')['daysbw_pickup_n_out_for_delivery'].mean().mean()\n",
    "parcel_tbl.drop(columns=['daysbw_pickup_n_out_for_delivery'], inplace=True)\n",
    "# FILLNA FOR PICKED_UP_DATE\n",
    "parcel_tbl['picked_up_date'].fillna(parcel_tbl['out_for_delivery_date'] - pd.Timedelta(FILLNA_INTERVAL, \"D\"), inplace=True)\n",
    "# FILLNA FOR OUT_FOR_DELIVERY_DATE \n",
    "parcel_tbl['out_for_delivery_date'].fillna(parcel_tbl['picked_up_date'] + pd.Timedelta(FILLNA_INTERVAL, \"D\"), inplace=True)\n",
    "parcel_tbl.info()"
   ]
  },
  {
   "cell_type": "markdown",
   "metadata": {},
   "source": [
    "FILLNA FOR FIRST_ATTEMPT_DATE"
   ]
  },
  {
   "cell_type": "code",
   "execution_count": 3255,
   "metadata": {},
   "outputs": [
    {
     "name": "stdout",
     "output_type": "stream",
     "text": [
      "<class 'pandas.core.frame.DataFrame'>\n",
      "Int64Index: 8737 entries, 0 to 50069\n",
      "Data columns (total 9 columns):\n",
      " #   Column                 Non-Null Count  Dtype         \n",
      "---  ------                 --------------  -----         \n",
      " 0   parcel_id              8737 non-null   object        \n",
      " 1   carrier_name           8737 non-null   object        \n",
      " 2   picked_up_date         8679 non-null   datetime64[ns]\n",
      " 3   out_for_delivery_date  8679 non-null   datetime64[ns]\n",
      " 4   first_attempt_date     8686 non-null   datetime64[ns]\n",
      " 5   final_delivery_date    8663 non-null   datetime64[ns]\n",
      " 6   origin_country         8734 non-null   object        \n",
      " 7   destination_country    8729 non-null   object        \n",
      " 8   is_delivered           8737 non-null   bool          \n",
      "dtypes: bool(1), datetime64[ns](4), object(4)\n",
      "memory usage: 622.9+ KB\n"
     ]
    }
   ],
   "source": [
    "# CALCULATE AVG DATES BETWEEN FINAL_DELIVERY_DATE & FIRST_ATTEMPT_DATE OF NORMAL PARCELS\n",
    "abnormal_parcels_2 = parcel_tbl[parcel_tbl['first_attempt_date'] > parcel_tbl['final_delivery_date']]\n",
    "mask = ~parcel_tbl['parcel_id'].isin(abnormal_parcels_2['parcel_id'])\n",
    "parcel_tbl['daysbw_first_attempt_n_final_delivery'] = (parcel_tbl[mask]['final_delivery_date'] - parcel_tbl[mask]['first_attempt_date']) / pd.Timedelta(1, \"D\")\n",
    "# parcel_tbl.groupby('parcel_id')['daysbw_first_attempt_n_final_delivery'].mean().describe()\n",
    "\n",
    "FILLNA_INTERVAL_2 = parcel_tbl.groupby('parcel_id')['daysbw_first_attempt_n_final_delivery'].mean().mean()\n",
    "parcel_tbl.drop(columns=['daysbw_first_attempt_n_final_delivery'], inplace=True)\n",
    "# FILLNA FOR FIRST_ATTEMPT_DATE\n",
    "parcel_tbl['first_attempt_date'].fillna(parcel_tbl['final_delivery_date'] - pd.Timedelta(FILLNA_INTERVAL_2, \"D\"), inplace=True)\n",
    "parcel_tbl.info()"
   ]
  },
  {
   "cell_type": "markdown",
   "metadata": {},
   "source": [
    "REMOVE PARCELS WHICH HAVE NOT BEEN DELIVERED (MISSING FINAL_DELIVERY_DATE)"
   ]
  },
  {
   "cell_type": "code",
   "execution_count": 3256,
   "metadata": {},
   "outputs": [
    {
     "name": "stdout",
     "output_type": "stream",
     "text": [
      "<class 'pandas.core.frame.DataFrame'>\n",
      "Int64Index: 8626 entries, 0 to 50069\n",
      "Data columns (total 6 columns):\n",
      " #   Column                 Non-Null Count  Dtype         \n",
      "---  ------                 --------------  -----         \n",
      " 0   parcel_id              8626 non-null   object        \n",
      " 1   carrier_name           8626 non-null   object        \n",
      " 2   picked_up_date         8626 non-null   datetime64[ns]\n",
      " 3   out_for_delivery_date  8626 non-null   datetime64[ns]\n",
      " 4   first_attempt_date     8626 non-null   datetime64[ns]\n",
      " 5   final_delivery_date    8626 non-null   datetime64[ns]\n",
      "dtypes: datetime64[ns](4), object(2)\n",
      "memory usage: 471.7+ KB\n"
     ]
    }
   ],
   "source": [
    "parcel_tbl = parcel_tbl[(~parcel_tbl['final_delivery_date'].isna() & (~parcel_tbl['out_for_delivery_date'].isna()))].drop(columns=['is_delivered', 'origin_country', 'destination_country'])\n",
    "parcel_tbl.info()"
   ]
  },
  {
   "cell_type": "markdown",
   "metadata": {},
   "source": [
    "#### 3. Abnormal values"
   ]
  },
  {
   "cell_type": "markdown",
   "metadata": {},
   "source": [
    "CHECK TIMELINE"
   ]
  },
  {
   "cell_type": "code",
   "execution_count": 3257,
   "metadata": {},
   "outputs": [
    {
     "data": {
      "image/png": "[encoded data removed]",
      "text/plain": [
       "<Figure size 720x360 with 1 Axes>"
      ]
     },
     "metadata": {
      "needs_background": "light"
     },
     "output_type": "display_data"
    }
   ],
   "source": [
    "plot_data = parcel_tbl.copy()\n",
    "plot_data['final_delivery_date'] = plot_data['final_delivery_date'].dt.year\n",
    "\n",
    "plt.figure(figsize=(10,5))\n",
    "sns.barplot(\n",
    "    x=plot_data.groupby('final_delivery_date')['parcel_id'].count().index,\n",
    "    y=plot_data.groupby('final_delivery_date')['parcel_id'].count().values, \n",
    "    color='cornflowerblue'\n",
    ")\n",
    "plt.show()"
   ]
  },
  {
   "cell_type": "markdown",
   "metadata": {},
   "source": [
    "There are some parcels with delivery_date in 1970 which would be removed"
   ]
  },
  {
   "cell_type": "code",
   "execution_count": 3258,
   "metadata": {},
   "outputs": [
    {
     "name": "stdout",
     "output_type": "stream",
     "text": [
      "<class 'pandas.core.frame.DataFrame'>\n",
      "Int64Index: 8596 entries, 0 to 50069\n",
      "Data columns (total 6 columns):\n",
      " #   Column                 Non-Null Count  Dtype         \n",
      "---  ------                 --------------  -----         \n",
      " 0   parcel_id              8596 non-null   object        \n",
      " 1   carrier_name           8596 non-null   object        \n",
      " 2   picked_up_date         8596 non-null   datetime64[ns]\n",
      " 3   out_for_delivery_date  8596 non-null   datetime64[ns]\n",
      " 4   first_attempt_date     8596 non-null   datetime64[ns]\n",
      " 5   final_delivery_date    8596 non-null   datetime64[ns]\n",
      "dtypes: datetime64[ns](4), object(2)\n",
      "memory usage: 470.1+ KB\n"
     ]
    }
   ],
   "source": [
    "# REMOVE PARCELS WHICH TIMELINE FROM 1970\n",
    "parcel_tbl = parcel_tbl[parcel_tbl['final_delivery_date'].dt.year==2023]\n",
    "parcel_tbl.info()"
   ]
  },
  {
   "cell_type": "markdown",
   "metadata": {},
   "source": [
    "### II. Log table\n",
    "\n",
    "- drop duplicates\n",
    "\n",
    "- extract columns from json\n",
    "\n",
    "- remove duplicated consecutive EDD"
   ]
  },
  {
   "cell_type": "markdown",
   "metadata": {},
   "source": [
    "#### 1. DUPLICATIONS"
   ]
  },
  {
   "cell_type": "code",
   "execution_count": 3259,
   "metadata": {},
   "outputs": [
    {
     "name": "stdout",
     "output_type": "stream",
     "text": [
      "43.65 % duplicated values are dropped\n"
     ]
    }
   ],
   "source": [
    "# PERCENTAGE OF DUPLICATIONS\n",
    "perc = (log_tbl.shape[0] - log_tbl[~log_tbl.duplicated()].shape[0]) / log_tbl.shape[0] * 100\n",
    "\n",
    "# DROP DUPLICATES\n",
    "log_tbl = log_tbl.drop_duplicates()\n",
    "# VERIFY\n",
    "if log_tbl[log_tbl.duplicated()].shape[0] == 0:\n",
    "    print(f'{round(perc,2)} % duplicated values are dropped')"
   ]
  },
  {
   "cell_type": "markdown",
   "metadata": {},
   "source": [
    "#### 2. EXTRACT COLUMNS FROM JSON"
   ]
  },
  {
   "cell_type": "code",
   "execution_count": 3260,
   "metadata": {},
   "outputs": [
    {
     "data": {
      "text/html": [
       "<div>\n",
       "<style scoped>\n",
       "    .dataframe tbody tr th:only-of-type {\n",
       "        vertical-align: middle;\n",
       "    }\n",
       "\n",
       "    .dataframe tbody tr th {\n",
       "        vertical-align: top;\n",
       "    }\n",
       "\n",
       "    .dataframe thead th {\n",
       "        text-align: right;\n",
       "    }\n",
       "</style>\n",
       "<table border=\"1\" class=\"dataframe\">\n",
       "  <thead>\n",
       "    <tr style=\"text-align: right;\">\n",
       "      <th></th>\n",
       "      <th>parcel_id</th>\n",
       "      <th>log_timestamp</th>\n",
       "      <th>new_parcel_expected_time_first_start</th>\n",
       "      <th>new_parcel_expected_time_first_end</th>\n",
       "    </tr>\n",
       "  </thead>\n",
       "  <tbody>\n",
       "    <tr>\n",
       "      <th>2</th>\n",
       "      <td>2928669922</td>\n",
       "      <td>2023-06-02 13:15:55</td>\n",
       "      <td>2023-06-05</td>\n",
       "      <td>2023-06-08 23:59:59</td>\n",
       "    </tr>\n",
       "    <tr>\n",
       "      <th>3</th>\n",
       "      <td>2928669922</td>\n",
       "      <td>2023-06-02 14:11:14</td>\n",
       "      <td>2023-06-05</td>\n",
       "      <td>2023-06-08 23:59:59</td>\n",
       "    </tr>\n",
       "    <tr>\n",
       "      <th>4</th>\n",
       "      <td>2928669922</td>\n",
       "      <td>2023-06-02 15:08:06</td>\n",
       "      <td>2023-06-05</td>\n",
       "      <td>2023-06-08 23:59:59</td>\n",
       "    </tr>\n",
       "    <tr>\n",
       "      <th>5</th>\n",
       "      <td>2928669922</td>\n",
       "      <td>2023-06-02 16:03:52</td>\n",
       "      <td>2023-06-05</td>\n",
       "      <td>2023-06-08 23:59:59</td>\n",
       "    </tr>\n",
       "    <tr>\n",
       "      <th>6</th>\n",
       "      <td>2928669922</td>\n",
       "      <td>2023-06-02 17:52:25</td>\n",
       "      <td>2023-06-05</td>\n",
       "      <td>2023-06-08 23:59:59</td>\n",
       "    </tr>\n",
       "  </tbody>\n",
       "</table>\n",
       "</div>"
      ],
      "text/plain": [
       "    parcel_id       log_timestamp new_parcel_expected_time_first_start  \\\n",
       "2  2928669922 2023-06-02 13:15:55                           2023-06-05   \n",
       "3  2928669922 2023-06-02 14:11:14                           2023-06-05   \n",
       "4  2928669922 2023-06-02 15:08:06                           2023-06-05   \n",
       "5  2928669922 2023-06-02 16:03:52                           2023-06-05   \n",
       "6  2928669922 2023-06-02 17:52:25                           2023-06-05   \n",
       "\n",
       "  new_parcel_expected_time_first_end  \n",
       "2                2023-06-08 23:59:59  \n",
       "3                2023-06-08 23:59:59  \n",
       "4                2023-06-08 23:59:59  \n",
       "5                2023-06-08 23:59:59  \n",
       "6                2023-06-08 23:59:59  "
      ]
     },
     "metadata": {},
     "output_type": "display_data"
    },
    {
     "name": "stdout",
     "output_type": "stream",
     "text": [
      "<class 'pandas.core.frame.DataFrame'>\n",
      "Int64Index: 44692 entries, 2 to 53394\n",
      "Data columns (total 4 columns):\n",
      " #   Column                                Non-Null Count  Dtype         \n",
      "---  ------                                --------------  -----         \n",
      " 0   parcel_id                             44692 non-null  object        \n",
      " 1   log_timestamp                         44692 non-null  datetime64[ns]\n",
      " 2   new_parcel_expected_time_first_start  44622 non-null  datetime64[ns]\n",
      " 3   new_parcel_expected_time_first_end    25538 non-null  datetime64[ns]\n",
      "dtypes: datetime64[ns](3), object(1)\n",
      "memory usage: 1.7+ MB\n"
     ]
    }
   ],
   "source": [
    "import json\n",
    "tmp = log_tbl['additional_params'].apply(json.loads)\n",
    "additional_params_df = pd.DataFrame(tmp.tolist())\n",
    "log_tbl.reset_index(drop=True, inplace=True)\n",
    "# CONCAT NEW COLUMNS TO ORIGINAL TABLE\n",
    "logs = pd.concat([log_tbl.iloc[:,:-1], additional_params_df], axis=1)\n",
    "logs = logs[logs['log_key']=='EDD102']\n",
    "logs = logs[['parcel_id', 'log_timestamp', 'new_parcel_expected_time_first_start', 'new_parcel_expected_time_first_end', 'old_parcel_expected_time_first_start', 'old_parcel_expected_time_first_end', 'new_parcel_expected_time_latest_start', 'old_parcel_expected_time_latest_start']]\n",
    "\n",
    "logs['new_parcel_expected_time_first_start'] = logs['new_parcel_expected_time_first_start'].replace('T', ' ').str.rsplit('+').str[0]\n",
    "logs['new_parcel_expected_time_first_end'] = logs['new_parcel_expected_time_first_end'].str.rsplit('+').str[0]\n",
    "logs['new_parcel_expected_time_latest_start'] = logs['new_parcel_expected_time_latest_start'].str.rsplit('+').str[0]\n",
    "\n",
    "# CHANGE DTYPE\n",
    "logs['new_parcel_expected_time_first_start'] = pd.to_datetime(logs['new_parcel_expected_time_first_start'], format=\"%Y-%m-%d %H:%M:%S\") \n",
    "logs['new_parcel_expected_time_first_end'] = pd.to_datetime(logs['new_parcel_expected_time_first_end'])\n",
    "logs['old_parcel_expected_time_first_start'] = pd.to_datetime(logs['old_parcel_expected_time_first_start']).dt.tz_localize(None)\n",
    "logs['old_parcel_expected_time_first_end'] = pd.to_datetime(logs['old_parcel_expected_time_first_end']).dt.tz_localize(None)\n",
    "logs['new_parcel_expected_time_latest_start'] = pd.to_datetime(logs['new_parcel_expected_time_latest_start'])\n",
    "logs['old_parcel_expected_time_latest_start'] = pd.to_datetime(logs['old_parcel_expected_time_latest_start']).dt.tz_localize(None)\n",
    "\n",
    "# FILL MISSING VALUES BECAUSE THESE COLUMNS HAVE SAME MEANING\n",
    "logs['new_parcel_expected_time_first_start'] = logs['new_parcel_expected_time_first_start'].fillna(logs['new_parcel_expected_time_latest_start'])\n",
    "logs['old_parcel_expected_time_first_start'] = logs['old_parcel_expected_time_first_start'].fillna(logs['old_parcel_expected_time_latest_start'])\n",
    "\n",
    "# DROP OLD_EDD & LATEST_START\n",
    "logs.drop(columns=['old_parcel_expected_time_first_start', 'old_parcel_expected_time_first_end', 'new_parcel_expected_time_latest_start', 'old_parcel_expected_time_latest_start'], inplace=True)\n",
    "\n",
    "display(logs.head())\n",
    "logs.info()"
   ]
  },
  {
   "cell_type": "markdown",
   "metadata": {},
   "source": [
    "#### 3. REMOVE DUPLICATED CONSECUTIVE EDD PER PARCEL"
   ]
  },
  {
   "cell_type": "code",
   "execution_count": 3261,
   "metadata": {},
   "outputs": [
    {
     "data": {
      "text/html": [
       "<div>\n",
       "<style scoped>\n",
       "    .dataframe tbody tr th:only-of-type {\n",
       "        vertical-align: middle;\n",
       "    }\n",
       "\n",
       "    .dataframe tbody tr th {\n",
       "        vertical-align: top;\n",
       "    }\n",
       "\n",
       "    .dataframe thead th {\n",
       "        text-align: right;\n",
       "    }\n",
       "</style>\n",
       "<table border=\"1\" class=\"dataframe\">\n",
       "  <thead>\n",
       "    <tr style=\"text-align: right;\">\n",
       "      <th></th>\n",
       "      <th>parcel_id</th>\n",
       "      <th>log_timestamp</th>\n",
       "      <th>new_parcel_expected_time_first_start</th>\n",
       "      <th>new_parcel_expected_time_first_end</th>\n",
       "    </tr>\n",
       "  </thead>\n",
       "  <tbody>\n",
       "    <tr>\n",
       "      <th>45</th>\n",
       "      <td>2928669922</td>\n",
       "      <td>2023-06-04 23:32:09</td>\n",
       "      <td>2023-06-05 00:00:00</td>\n",
       "      <td>2023-06-08 23:59:59</td>\n",
       "    </tr>\n",
       "    <tr>\n",
       "      <th>58</th>\n",
       "      <td>2928713073</td>\n",
       "      <td>2023-06-06 03:33:07</td>\n",
       "      <td>2023-06-07 23:59:59</td>\n",
       "      <td>2023-06-09 23:59:59</td>\n",
       "    </tr>\n",
       "    <tr>\n",
       "      <th>73</th>\n",
       "      <td>2928713073</td>\n",
       "      <td>2023-06-08 03:05:26</td>\n",
       "      <td>2023-06-09 00:00:00</td>\n",
       "      <td>2023-06-14 23:59:59</td>\n",
       "    </tr>\n",
       "    <tr>\n",
       "      <th>75</th>\n",
       "      <td>2928714933</td>\n",
       "      <td>2023-06-05 08:14:37</td>\n",
       "      <td>2023-06-06 23:59:59</td>\n",
       "      <td>2023-06-08 23:59:59</td>\n",
       "    </tr>\n",
       "    <tr>\n",
       "      <th>88</th>\n",
       "      <td>2928718349</td>\n",
       "      <td>2023-06-05 12:51:35</td>\n",
       "      <td>2023-06-06 23:59:59</td>\n",
       "      <td>2023-06-08 23:59:59</td>\n",
       "    </tr>\n",
       "    <tr>\n",
       "      <th>...</th>\n",
       "      <td>...</td>\n",
       "      <td>...</td>\n",
       "      <td>...</td>\n",
       "      <td>...</td>\n",
       "    </tr>\n",
       "    <tr>\n",
       "      <th>53342</th>\n",
       "      <td>3008226906</td>\n",
       "      <td>2023-06-29 20:48:07</td>\n",
       "      <td>2023-07-03 23:59:59</td>\n",
       "      <td>NaT</td>\n",
       "    </tr>\n",
       "    <tr>\n",
       "      <th>53352</th>\n",
       "      <td>3008283416</td>\n",
       "      <td>2023-06-29 21:04:53</td>\n",
       "      <td>2023-07-03 00:00:00</td>\n",
       "      <td>NaT</td>\n",
       "    </tr>\n",
       "    <tr>\n",
       "      <th>53359</th>\n",
       "      <td>3008314095</td>\n",
       "      <td>2023-06-30 06:16:04</td>\n",
       "      <td>2023-07-03 00:00:00</td>\n",
       "      <td>2023-07-05 23:59:59</td>\n",
       "    </tr>\n",
       "    <tr>\n",
       "      <th>53362</th>\n",
       "      <td>3008359149</td>\n",
       "      <td>2023-06-29 18:54:06</td>\n",
       "      <td>2023-07-03 00:00:00</td>\n",
       "      <td>NaT</td>\n",
       "    </tr>\n",
       "    <tr>\n",
       "      <th>53394</th>\n",
       "      <td>3009364991</td>\n",
       "      <td>2023-06-30 05:11:48</td>\n",
       "      <td>2023-06-30 23:59:59</td>\n",
       "      <td>NaT</td>\n",
       "    </tr>\n",
       "  </tbody>\n",
       "</table>\n",
       "<p>6746 rows × 4 columns</p>\n",
       "</div>"
      ],
      "text/plain": [
       "        parcel_id       log_timestamp new_parcel_expected_time_first_start  \\\n",
       "45     2928669922 2023-06-04 23:32:09                  2023-06-05 00:00:00   \n",
       "58     2928713073 2023-06-06 03:33:07                  2023-06-07 23:59:59   \n",
       "73     2928713073 2023-06-08 03:05:26                  2023-06-09 00:00:00   \n",
       "75     2928714933 2023-06-05 08:14:37                  2023-06-06 23:59:59   \n",
       "88     2928718349 2023-06-05 12:51:35                  2023-06-06 23:59:59   \n",
       "...           ...                 ...                                  ...   \n",
       "53342  3008226906 2023-06-29 20:48:07                  2023-07-03 23:59:59   \n",
       "53352  3008283416 2023-06-29 21:04:53                  2023-07-03 00:00:00   \n",
       "53359  3008314095 2023-06-30 06:16:04                  2023-07-03 00:00:00   \n",
       "53362  3008359149 2023-06-29 18:54:06                  2023-07-03 00:00:00   \n",
       "53394  3009364991 2023-06-30 05:11:48                  2023-06-30 23:59:59   \n",
       "\n",
       "      new_parcel_expected_time_first_end  \n",
       "45                   2023-06-08 23:59:59  \n",
       "58                   2023-06-09 23:59:59  \n",
       "73                   2023-06-14 23:59:59  \n",
       "75                   2023-06-08 23:59:59  \n",
       "88                   2023-06-08 23:59:59  \n",
       "...                                  ...  \n",
       "53342                                NaT  \n",
       "53352                                NaT  \n",
       "53359                2023-07-05 23:59:59  \n",
       "53362                                NaT  \n",
       "53394                                NaT  \n",
       "\n",
       "[6746 rows x 4 columns]"
      ]
     },
     "execution_count": 3261,
     "metadata": {},
     "output_type": "execute_result"
    }
   ],
   "source": [
    "# SHIFT EDD DOWN 1 ROW AND CONCAT TO ORIGINAL LOG\n",
    "tmp_log = pd.concat([logs.iloc[:,:3], logs.groupby('parcel_id')['new_parcel_expected_time_first_start'].shift(-1)], axis=1)\n",
    "tmp_log.columns = ['parcel_id', 'log_timestamp', 'new_parcel_expected_time_first_start', 'next_EDD']\n",
    "# IF DUPLICATED CONSECUTIVE EDD THEN REMOVE\n",
    "tmp_log = tmp_log[tmp_log['new_parcel_expected_time_first_start']!=tmp_log['next_EDD']]\n",
    "\n",
    "# MERGE\n",
    "log_tbl2 = tmp_log.drop(columns=['next_EDD']).merge(logs['new_parcel_expected_time_first_end'], left_index=True, right_index=True)\n",
    "log_tbl2"
   ]
  },
  {
   "cell_type": "markdown",
   "metadata": {},
   "source": [
    "### III. Final table\n",
    "\n",
    "- merge parcel_table & log_table\n",
    "\n",
    "- add columns: EDD_is_accurate, is_abnormal, daydiff_bw_FDD_EDD, daydiff_log_FDD,...\n",
    "\n",
    "- remove abnormal EDDs/parcels"
   ]
  },
  {
   "cell_type": "markdown",
   "metadata": {},
   "source": [
    "#### 1. Merge 2 tables"
   ]
  },
  {
   "cell_type": "markdown",
   "metadata": {},
   "source": [
    "This dataset contains EDDs after removing duplicated consecutive EDD logs of both normal & abnormal parcels"
   ]
  },
  {
   "cell_type": "code",
   "execution_count": 3262,
   "metadata": {},
   "outputs": [
    {
     "data": {
      "text/html": [
       "<div>\n",
       "<style scoped>\n",
       "    .dataframe tbody tr th:only-of-type {\n",
       "        vertical-align: middle;\n",
       "    }\n",
       "\n",
       "    .dataframe tbody tr th {\n",
       "        vertical-align: top;\n",
       "    }\n",
       "\n",
       "    .dataframe thead th {\n",
       "        text-align: right;\n",
       "    }\n",
       "</style>\n",
       "<table border=\"1\" class=\"dataframe\">\n",
       "  <thead>\n",
       "    <tr style=\"text-align: right;\">\n",
       "      <th></th>\n",
       "      <th>parcel_id</th>\n",
       "      <th>carrier_name</th>\n",
       "      <th>picked_up_date</th>\n",
       "      <th>out_for_delivery_date</th>\n",
       "      <th>first_attempt_date</th>\n",
       "      <th>final_delivery_date</th>\n",
       "      <th>log_timestamp</th>\n",
       "      <th>new_parcel_expected_time_first_start</th>\n",
       "      <th>new_parcel_expected_time_first_end</th>\n",
       "    </tr>\n",
       "  </thead>\n",
       "  <tbody>\n",
       "    <tr>\n",
       "      <th>0</th>\n",
       "      <td>2948380100</td>\n",
       "      <td>Initech</td>\n",
       "      <td>2023-06-08 06:00:06.000000000</td>\n",
       "      <td>2023-06-18 00:12:26</td>\n",
       "      <td>2023-06-18 03:33:55</td>\n",
       "      <td>2023-06-18 03:33:55</td>\n",
       "      <td>2023-06-17 23:02:33</td>\n",
       "      <td>2023-06-19 00:00:00.000</td>\n",
       "      <td>2023-06-22 23:59:59</td>\n",
       "    </tr>\n",
       "    <tr>\n",
       "      <th>1</th>\n",
       "      <td>2948508927</td>\n",
       "      <td>Initech</td>\n",
       "      <td>2023-06-21 01:45:00.000000000</td>\n",
       "      <td>2023-06-21 21:53:58</td>\n",
       "      <td>2023-06-21 23:42:15</td>\n",
       "      <td>2023-06-21 23:42:15</td>\n",
       "      <td>2023-06-21 19:52:25</td>\n",
       "      <td>2023-06-22 00:00:00.000</td>\n",
       "      <td>NaT</td>\n",
       "    </tr>\n",
       "    <tr>\n",
       "      <th>2</th>\n",
       "      <td>2941258771</td>\n",
       "      <td>Initech</td>\n",
       "      <td>2023-06-08 17:56:42.026329600</td>\n",
       "      <td>2023-06-12 00:06:19</td>\n",
       "      <td>2023-06-12 01:18:39</td>\n",
       "      <td>2023-06-12 01:18:39</td>\n",
       "      <td>2023-06-11 23:59:30</td>\n",
       "      <td>2023-06-12 00:00:00.000</td>\n",
       "      <td>2023-06-15 23:59:59</td>\n",
       "    </tr>\n",
       "    <tr>\n",
       "      <th>3</th>\n",
       "      <td>2980427311</td>\n",
       "      <td>Massive</td>\n",
       "      <td>2023-06-19 17:00:01.026329600</td>\n",
       "      <td>2023-06-22 23:09:38</td>\n",
       "      <td>2023-06-23 02:43:15</td>\n",
       "      <td>2023-06-23 02:43:15</td>\n",
       "      <td>2023-06-20 02:24:09</td>\n",
       "      <td>2023-06-23 21:59:59.999</td>\n",
       "      <td>NaT</td>\n",
       "    </tr>\n",
       "    <tr>\n",
       "      <th>4</th>\n",
       "      <td>2980427311</td>\n",
       "      <td>Massive</td>\n",
       "      <td>2023-06-19 17:00:01.026329600</td>\n",
       "      <td>2023-06-22 23:09:38</td>\n",
       "      <td>2023-06-23 02:43:15</td>\n",
       "      <td>2023-06-23 02:43:15</td>\n",
       "      <td>2023-06-20 04:05:41</td>\n",
       "      <td>2023-06-23 23:59:59.999</td>\n",
       "      <td>NaT</td>\n",
       "    </tr>\n",
       "  </tbody>\n",
       "</table>\n",
       "</div>"
      ],
      "text/plain": [
       "    parcel_id carrier_name                picked_up_date  \\\n",
       "0  2948380100      Initech 2023-06-08 06:00:06.000000000   \n",
       "1  2948508927      Initech 2023-06-21 01:45:00.000000000   \n",
       "2  2941258771      Initech 2023-06-08 17:56:42.026329600   \n",
       "3  2980427311      Massive 2023-06-19 17:00:01.026329600   \n",
       "4  2980427311      Massive 2023-06-19 17:00:01.026329600   \n",
       "\n",
       "  out_for_delivery_date  first_attempt_date final_delivery_date  \\\n",
       "0   2023-06-18 00:12:26 2023-06-18 03:33:55 2023-06-18 03:33:55   \n",
       "1   2023-06-21 21:53:58 2023-06-21 23:42:15 2023-06-21 23:42:15   \n",
       "2   2023-06-12 00:06:19 2023-06-12 01:18:39 2023-06-12 01:18:39   \n",
       "3   2023-06-22 23:09:38 2023-06-23 02:43:15 2023-06-23 02:43:15   \n",
       "4   2023-06-22 23:09:38 2023-06-23 02:43:15 2023-06-23 02:43:15   \n",
       "\n",
       "        log_timestamp new_parcel_expected_time_first_start  \\\n",
       "0 2023-06-17 23:02:33              2023-06-19 00:00:00.000   \n",
       "1 2023-06-21 19:52:25              2023-06-22 00:00:00.000   \n",
       "2 2023-06-11 23:59:30              2023-06-12 00:00:00.000   \n",
       "3 2023-06-20 02:24:09              2023-06-23 21:59:59.999   \n",
       "4 2023-06-20 04:05:41              2023-06-23 23:59:59.999   \n",
       "\n",
       "  new_parcel_expected_time_first_end  \n",
       "0                2023-06-22 23:59:59  \n",
       "1                                NaT  \n",
       "2                2023-06-15 23:59:59  \n",
       "3                                NaT  \n",
       "4                                NaT  "
      ]
     },
     "execution_count": 3262,
     "metadata": {},
     "output_type": "execute_result"
    }
   ],
   "source": [
    "merge_tbl = parcel_tbl.merge(log_tbl2, how='inner', on='parcel_id')\n",
    "merge_tbl.head()"
   ]
  },
  {
   "cell_type": "markdown",
   "metadata": {},
   "source": [
    "#### 2. CHECK IF EDD IS ACCURATE\n",
    "\n",
    "EDD IS CONSIDERED ACCURATE IF:\n",
    "\n",
    "- FINAL DELIVERY DATE (FDD) IS IN RANGE (NEW_PARCEL_EXPECTED_TIME_FIRST_START - NEW_PARCEL_EXPECTED_TIME_FIRST_END)\n",
    "OR\n",
    "\n",
    "- FDD IS ON THE SAME DATE AS EDD (ONLY IF EITHER NEW_PARCEL_EXPECTED_TIME_FIRST_START OR NEW_PARCEL_EXPECTED_TIME_FIRST_END IS MISSING)"
   ]
  },
  {
   "cell_type": "code",
   "execution_count": 3263,
   "metadata": {},
   "outputs": [
    {
     "data": {
      "text/html": [
       "<div>\n",
       "<style scoped>\n",
       "    .dataframe tbody tr th:only-of-type {\n",
       "        vertical-align: middle;\n",
       "    }\n",
       "\n",
       "    .dataframe tbody tr th {\n",
       "        vertical-align: top;\n",
       "    }\n",
       "\n",
       "    .dataframe thead th {\n",
       "        text-align: right;\n",
       "    }\n",
       "</style>\n",
       "<table border=\"1\" class=\"dataframe\">\n",
       "  <thead>\n",
       "    <tr style=\"text-align: right;\">\n",
       "      <th></th>\n",
       "      <th>parcel_id</th>\n",
       "      <th>carrier_name</th>\n",
       "      <th>EDD_is_accurate</th>\n",
       "      <th>log_timestamp</th>\n",
       "      <th>final_delivery_date</th>\n",
       "      <th>new_parcel_expected_time_first_start</th>\n",
       "      <th>new_parcel_expected_time_first_end</th>\n",
       "      <th>picked_up_date</th>\n",
       "      <th>out_for_delivery_date</th>\n",
       "      <th>first_attempt_date</th>\n",
       "    </tr>\n",
       "  </thead>\n",
       "  <tbody>\n",
       "    <tr>\n",
       "      <th>0</th>\n",
       "      <td>2948380100</td>\n",
       "      <td>Initech</td>\n",
       "      <td>False</td>\n",
       "      <td>2023-06-17 23:02:33</td>\n",
       "      <td>2023-06-18 03:33:55</td>\n",
       "      <td>2023-06-19 00:00:00.000</td>\n",
       "      <td>2023-06-22 23:59:59</td>\n",
       "      <td>2023-06-08 06:00:06</td>\n",
       "      <td>2023-06-18 00:12:26</td>\n",
       "      <td>2023-06-18 03:33:55</td>\n",
       "    </tr>\n",
       "    <tr>\n",
       "      <th>1</th>\n",
       "      <td>2948508927</td>\n",
       "      <td>Initech</td>\n",
       "      <td>False</td>\n",
       "      <td>2023-06-21 19:52:25</td>\n",
       "      <td>2023-06-21 23:42:15</td>\n",
       "      <td>2023-06-22 00:00:00.000</td>\n",
       "      <td>NaT</td>\n",
       "      <td>2023-06-21 01:45:00</td>\n",
       "      <td>2023-06-21 21:53:58</td>\n",
       "      <td>2023-06-21 23:42:15</td>\n",
       "    </tr>\n",
       "    <tr>\n",
       "      <th>2</th>\n",
       "      <td>2941258771</td>\n",
       "      <td>Initech</td>\n",
       "      <td>True</td>\n",
       "      <td>2023-06-11 23:59:30</td>\n",
       "      <td>2023-06-12 01:18:39</td>\n",
       "      <td>2023-06-12 00:00:00.000</td>\n",
       "      <td>2023-06-15 23:59:59</td>\n",
       "      <td>2023-06-08 17:56:42</td>\n",
       "      <td>2023-06-12 00:06:19</td>\n",
       "      <td>2023-06-12 01:18:39</td>\n",
       "    </tr>\n",
       "    <tr>\n",
       "      <th>3</th>\n",
       "      <td>2980427311</td>\n",
       "      <td>Massive</td>\n",
       "      <td>True</td>\n",
       "      <td>2023-06-20 02:24:09</td>\n",
       "      <td>2023-06-23 02:43:15</td>\n",
       "      <td>2023-06-23 21:59:59.999</td>\n",
       "      <td>NaT</td>\n",
       "      <td>2023-06-19 17:00:01</td>\n",
       "      <td>2023-06-22 23:09:38</td>\n",
       "      <td>2023-06-23 02:43:15</td>\n",
       "    </tr>\n",
       "    <tr>\n",
       "      <th>4</th>\n",
       "      <td>2980427311</td>\n",
       "      <td>Massive</td>\n",
       "      <td>True</td>\n",
       "      <td>2023-06-20 04:05:41</td>\n",
       "      <td>2023-06-23 02:43:15</td>\n",
       "      <td>2023-06-23 23:59:59.999</td>\n",
       "      <td>NaT</td>\n",
       "      <td>2023-06-19 17:00:01</td>\n",
       "      <td>2023-06-22 23:09:38</td>\n",
       "      <td>2023-06-23 02:43:15</td>\n",
       "    </tr>\n",
       "  </tbody>\n",
       "</table>\n",
       "</div>"
      ],
      "text/plain": [
       "    parcel_id carrier_name  EDD_is_accurate       log_timestamp  \\\n",
       "0  2948380100      Initech            False 2023-06-17 23:02:33   \n",
       "1  2948508927      Initech            False 2023-06-21 19:52:25   \n",
       "2  2941258771      Initech             True 2023-06-11 23:59:30   \n",
       "3  2980427311      Massive             True 2023-06-20 02:24:09   \n",
       "4  2980427311      Massive             True 2023-06-20 04:05:41   \n",
       "\n",
       "  final_delivery_date new_parcel_expected_time_first_start  \\\n",
       "0 2023-06-18 03:33:55              2023-06-19 00:00:00.000   \n",
       "1 2023-06-21 23:42:15              2023-06-22 00:00:00.000   \n",
       "2 2023-06-12 01:18:39              2023-06-12 00:00:00.000   \n",
       "3 2023-06-23 02:43:15              2023-06-23 21:59:59.999   \n",
       "4 2023-06-23 02:43:15              2023-06-23 23:59:59.999   \n",
       "\n",
       "  new_parcel_expected_time_first_end      picked_up_date  \\\n",
       "0                2023-06-22 23:59:59 2023-06-08 06:00:06   \n",
       "1                                NaT 2023-06-21 01:45:00   \n",
       "2                2023-06-15 23:59:59 2023-06-08 17:56:42   \n",
       "3                                NaT 2023-06-19 17:00:01   \n",
       "4                                NaT 2023-06-19 17:00:01   \n",
       "\n",
       "  out_for_delivery_date  first_attempt_date  \n",
       "0   2023-06-18 00:12:26 2023-06-18 03:33:55  \n",
       "1   2023-06-21 21:53:58 2023-06-21 23:42:15  \n",
       "2   2023-06-12 00:06:19 2023-06-12 01:18:39  \n",
       "3   2023-06-22 23:09:38 2023-06-23 02:43:15  \n",
       "4   2023-06-22 23:09:38 2023-06-23 02:43:15  "
      ]
     },
     "execution_count": 3263,
     "metadata": {},
     "output_type": "execute_result"
    }
   ],
   "source": [
    "# ADD EDD_IS_ACCURATE COLUMN\n",
    "merge_tbl.loc[((merge_tbl['final_delivery_date'] > merge_tbl['new_parcel_expected_time_first_start']) & (merge_tbl['final_delivery_date'] < merge_tbl['new_parcel_expected_time_first_end'])) # FDD is in expected range\n",
    "              | ((merge_tbl['new_parcel_expected_time_first_start'].isna()) & (merge_tbl['final_delivery_date'].dt.date == merge_tbl['new_parcel_expected_time_first_end'].dt.date)) # FDD on the same date if range not given\n",
    "              | ((merge_tbl['new_parcel_expected_time_first_end'].isna()) & (merge_tbl['final_delivery_date'].dt.date == merge_tbl['new_parcel_expected_time_first_start'].dt.date))\n",
    "              , 'EDD_is_accurate'] = True\n",
    "merge_tbl['EDD_is_accurate'].fillna(False, inplace=True)\n",
    "merge_tbl['picked_up_date'] = merge_tbl['picked_up_date'].astype('datetime64[s]')\n",
    "\n",
    "merge_tbl = merge_tbl[['parcel_id', 'carrier_name', 'EDD_is_accurate', 'log_timestamp', 'final_delivery_date',\n",
    "                                 'new_parcel_expected_time_first_start', 'new_parcel_expected_time_first_end',\n",
    "                                 'picked_up_date', 'out_for_delivery_date', 'first_attempt_date',\n",
    "       ]]\n",
    "merge_tbl.head()"
   ]
  },
  {
   "cell_type": "code",
   "execution_count": 3264,
   "metadata": {},
   "outputs": [],
   "source": [
    "# ADD MEDIAN EXPECTED_DELIVERY_TIME OF FIRST_START & FIRST_END RANGE\n",
    "merge_tbl['new_parcel_expected_median_time'] = merge_tbl['new_parcel_expected_time_first_start'] + (merge_tbl['new_parcel_expected_time_first_end'] - merge_tbl['new_parcel_expected_time_first_start'])/2 \n",
    "# ADD EDD COLUMN\n",
    "merge_tbl['EDD'] = merge_tbl['new_parcel_expected_median_time']\n",
    "merge_tbl.loc[(merge_tbl['new_parcel_expected_time_first_end'].isna()), 'EDD'] = merge_tbl['new_parcel_expected_time_first_start']\n",
    "merge_tbl.loc[(merge_tbl['new_parcel_expected_time_first_start'].isna()), 'EDD'] = merge_tbl['new_parcel_expected_time_first_end']\n",
    "\n",
    "# DAYS BETWEEN FINAL_DELIVERY_DATE & EXPECTED DELIVERY DATE\n",
    "merge_tbl['daydiff_bw_FDD_EDD'] = (merge_tbl['final_delivery_date']- merge_tbl['EDD']) / pd.Timedelta(1,\"D\")\n",
    "# DAYS  BETWEEN FINAL_DELIVERY_DATE & PREDICTION LOG DATE\n",
    "merge_tbl['daydiff_log_FDD'] = (merge_tbl['log_timestamp'] - merge_tbl['final_delivery_date']) / pd.Timedelta(1,\"D\")\n",
    "\n",
    "# DROP UNNESCESSARY COLUMN\n",
    "merge_tbl.drop(columns=['new_parcel_expected_median_time'], inplace=True)\n",
    "# merge_tbl.drop(columns=['new_parcel_expected_median_time', 'picked_up_date', 'out_for_delivery_date', 'first_attempt_date', 'origin_country', 'destination_country'], inplace=True)"
   ]
  },
  {
   "cell_type": "markdown",
   "metadata": {},
   "source": [
    "#### 2. ADD FLAG IS_ABNORMAL TO FINAL_TABLE"
   ]
  },
  {
   "cell_type": "markdown",
   "metadata": {},
   "source": [
    "An EDD is considered abnormal if either:\n",
    "\n",
    "1. picked_up_date > out_for_delivery_date\n",
    "\n",
    "2. out_for_delivery_date > first_attempt_date\n",
    "\n",
    "3.  out_for_delivery_date >= final_delivery_date\n",
    "\n",
    "4. first_attempt_date > final_delivery_date\n",
    "\n",
    "5. log_timestamp > final_delivery_date"
   ]
  },
  {
   "cell_type": "code",
   "execution_count": 3265,
   "metadata": {},
   "outputs": [],
   "source": [
    "merge_tbl.loc[(merge_tbl['picked_up_date'] > merge_tbl['out_for_delivery_date'])\n",
    "          | (merge_tbl['out_for_delivery_date'] > merge_tbl['first_attempt_date'])\n",
    "          | (merge_tbl['out_for_delivery_date'] >= merge_tbl['final_delivery_date'])\n",
    "          | (merge_tbl['first_attempt_date'] > merge_tbl['final_delivery_date'])\n",
    "          | (merge_tbl['log_timestamp'] > merge_tbl['final_delivery_date'])\n",
    "          , 'is_abnormal'\n",
    "        ] = True\n",
    "merge_tbl['is_abnormal'].fillna(False, inplace=True)\n",
    "\n",
    "# ADD ABNORMAL_REASON COLUMN\n",
    "merge_tbl.loc[merge_tbl['picked_up_date'] > merge_tbl['out_for_delivery_date'], 'abnormal_reason'] = '1'\n",
    "merge_tbl.loc[merge_tbl['out_for_delivery_date'] > merge_tbl['first_attempt_date'], 'abnormal_reason'] = '2'\n",
    "merge_tbl.loc[merge_tbl['out_for_delivery_date'] >= merge_tbl['final_delivery_date'], 'abnormal_reason'] = '3'\n",
    "merge_tbl.loc[merge_tbl['first_attempt_date'] > merge_tbl['final_delivery_date'], 'abnormal_reason'] = '4'\n",
    "merge_tbl.loc[merge_tbl['log_timestamp'] > merge_tbl['final_delivery_date'], 'abnormal_reason'] = '5'\n",
    "\n",
    "merge_tbl['abnormal_reason'].fillna(0, inplace=True)"
   ]
  },
  {
   "cell_type": "code",
   "execution_count": 3266,
   "metadata": {},
   "outputs": [
    {
     "name": "stdout",
     "output_type": "stream",
     "text": [
      "THERE ARE 503 ABNORMAL EDDS\n",
      "ACCOUNTING FOR 7.61 % OF TOTAL EDDS IN THE FINAL DATASET.\n"
     ]
    }
   ],
   "source": [
    "COUNT_ABNORMAL_EDDS = merge_tbl[merge_tbl['is_abnormal']==True].parcel_id.count()\n",
    "TOTAL_PARCELS = merge_tbl.parcel_id.nunique()\n",
    "TOTAL_EDDS = merge_tbl.parcel_id.count()\n",
    "PERC = COUNT_ABNORMAL_EDDS / TOTAL_EDDS * 100\n",
    "\n",
    "print(f'THERE ARE {COUNT_ABNORMAL_EDDS} ABNORMAL EDDS')\n",
    "print(f'ACCOUNTING FOR {round(PERC,2)} % OF TOTAL EDDS IN THE FINAL DATASET.')"
   ]
  },
  {
   "cell_type": "markdown",
   "metadata": {},
   "source": [
    "##### 2.1 Reasons of abnormal EDDs plot"
   ]
  },
  {
   "cell_type": "code",
   "execution_count": 3267,
   "metadata": {},
   "outputs": [
    {
     "data": {
      "application/vnd.plotly.v1+json": {
       "config": {
        "plotlyServerURL": "https://plot.ly"
       },
       "data": [
        {
         "customdata": [
          0.17401392111368907,
          1.8271461716937356,
          5.655452436194896,
          6.93155452436195
         ],
         "marker": {
          "color": "darkblue"
         },
         "name": "abnormal_reason",
         "orientation": "h",
         "textposition": "outside",
         "texttemplate": "%{x:,.0f} parcels<br>(%{customdata:.2f} %)",
         "type": "bar",
         "x": [
          6,
          63,
          195,
          239
         ],
         "y": [
          "out_for_delivery_date after final_delivery_date",
          "out_for_delivery_date after first_attempt_date",
          "EDD_log_date after final_delivery_date",
          "pickup_date after out_for_delivery_date"
         ]
        }
       ],
       "layout": {
        "height": 500,
        "template": {
         "data": {
          "bar": [
           {
            "error_x": {
             "color": "#2a3f5f"
            },
            "error_y": {
             "color": "#2a3f5f"
            },
            "marker": {
             "line": {
              "color": "#E5ECF6",
              "width": 0.5
             },
             "pattern": {
              "fillmode": "overlay",
              "size": 10,
              "solidity": 0.2
             }
            },
            "type": "bar"
           }
          ],
          "barpolar": [
           {
            "marker": {
             "line": {
              "color": "#E5ECF6",
              "width": 0.5
             },
             "pattern": {
              "fillmode": "overlay",
              "size": 10,
              "solidity": 0.2
             }
            },
            "type": "barpolar"
           }
          ],
          "carpet": [
           {
            "aaxis": {
             "endlinecolor": "#2a3f5f",
             "gridcolor": "white",
             "linecolor": "white",
             "minorgridcolor": "white",
             "startlinecolor": "#2a3f5f"
            },
            "baxis": {
             "endlinecolor": "#2a3f5f",
             "gridcolor": "white",
             "linecolor": "white",
             "minorgridcolor": "white",
             "startlinecolor": "#2a3f5f"
            },
            "type": "carpet"
           }
          ],
          "choropleth": [
           {
            "colorbar": {
             "outlinewidth": 0,
             "ticks": ""
            },
            "type": "choropleth"
           }
          ],
          "contour": [
           {
            "colorbar": {
             "outlinewidth": 0,
             "ticks": ""
            },
            "colorscale": [
             [
              0,
              "#0d0887"
             ],
             [
              0.1111111111111111,
              "#46039f"
             ],
             [
              0.2222222222222222,
              "#7201a8"
             ],
             [
              0.3333333333333333,
              "#9c179e"
             ],
             [
              0.4444444444444444,
              "#bd3786"
             ],
             [
              0.5555555555555556,
              "#d8576b"
             ],
             [
              0.6666666666666666,
              "#ed7953"
             ],
             [
              0.7777777777777778,
              "#fb9f3a"
             ],
             [
              0.8888888888888888,
              "#fdca26"
             ],
             [
              1,
              "#f0f921"
             ]
            ],
            "type": "contour"
           }
          ],
          "contourcarpet": [
           {
            "colorbar": {
             "outlinewidth": 0,
             "ticks": ""
            },
            "type": "contourcarpet"
           }
          ],
          "heatmap": [
           {
            "colorbar": {
             "outlinewidth": 0,
             "ticks": ""
            },
            "colorscale": [
             [
              0,
              "#0d0887"
             ],
             [
              0.1111111111111111,
              "#46039f"
             ],
             [
              0.2222222222222222,
              "#7201a8"
             ],
             [
              0.3333333333333333,
              "#9c179e"
             ],
             [
              0.4444444444444444,
              "#bd3786"
             ],
             [
              0.5555555555555556,
              "#d8576b"
             ],
             [
              0.6666666666666666,
              "#ed7953"
             ],
             [
              0.7777777777777778,
              "#fb9f3a"
             ],
             [
              0.8888888888888888,
              "#fdca26"
             ],
             [
              1,
              "#f0f921"
             ]
            ],
            "type": "heatmap"
           }
          ],
          "heatmapgl": [
           {
            "colorbar": {
             "outlinewidth": 0,
             "ticks": ""
            },
            "colorscale": [
             [
              0,
              "#0d0887"
             ],
             [
              0.1111111111111111,
              "#46039f"
             ],
             [
              0.2222222222222222,
              "#7201a8"
             ],
             [
              0.3333333333333333,
              "#9c179e"
             ],
             [
              0.4444444444444444,
              "#bd3786"
             ],
             [
              0.5555555555555556,
              "#d8576b"
             ],
             [
              0.6666666666666666,
              "#ed7953"
             ],
             [
              0.7777777777777778,
              "#fb9f3a"
             ],
             [
              0.8888888888888888,
              "#fdca26"
             ],
             [
              1,
              "#f0f921"
             ]
            ],
            "type": "heatmapgl"
           }
          ],
          "histogram": [
           {
            "marker": {
             "pattern": {
              "fillmode": "overlay",
              "size": 10,
              "solidity": 0.2
             }
            },
            "type": "histogram"
           }
          ],
          "histogram2d": [
           {
            "colorbar": {
             "outlinewidth": 0,
             "ticks": ""
            },
            "colorscale": [
             [
              0,
              "#0d0887"
             ],
             [
              0.1111111111111111,
              "#46039f"
             ],
             [
              0.2222222222222222,
              "#7201a8"
             ],
             [
              0.3333333333333333,
              "#9c179e"
             ],
             [
              0.4444444444444444,
              "#bd3786"
             ],
             [
              0.5555555555555556,
              "#d8576b"
             ],
             [
              0.6666666666666666,
              "#ed7953"
             ],
             [
              0.7777777777777778,
              "#fb9f3a"
             ],
             [
              0.8888888888888888,
              "#fdca26"
             ],
             [
              1,
              "#f0f921"
             ]
            ],
            "type": "histogram2d"
           }
          ],
          "histogram2dcontour": [
           {
            "colorbar": {
             "outlinewidth": 0,
             "ticks": ""
            },
            "colorscale": [
             [
              0,
              "#0d0887"
             ],
             [
              0.1111111111111111,
              "#46039f"
             ],
             [
              0.2222222222222222,
              "#7201a8"
             ],
             [
              0.3333333333333333,
              "#9c179e"
             ],
             [
              0.4444444444444444,
              "#bd3786"
             ],
             [
              0.5555555555555556,
              "#d8576b"
             ],
             [
              0.6666666666666666,
              "#ed7953"
             ],
             [
              0.7777777777777778,
              "#fb9f3a"
             ],
             [
              0.8888888888888888,
              "#fdca26"
             ],
             [
              1,
              "#f0f921"
             ]
            ],
            "type": "histogram2dcontour"
           }
          ],
          "mesh3d": [
           {
            "colorbar": {
             "outlinewidth": 0,
             "ticks": ""
            },
            "type": "mesh3d"
           }
          ],
          "parcoords": [
           {
            "line": {
             "colorbar": {
              "outlinewidth": 0,
              "ticks": ""
             }
            },
            "type": "parcoords"
           }
          ],
          "pie": [
           {
            "automargin": true,
            "type": "pie"
           }
          ],
          "scatter": [
           {
            "marker": {
             "colorbar": {
              "outlinewidth": 0,
              "ticks": ""
             }
            },
            "type": "scatter"
           }
          ],
          "scatter3d": [
           {
            "line": {
             "colorbar": {
              "outlinewidth": 0,
              "ticks": ""
             }
            },
            "marker": {
             "colorbar": {
              "outlinewidth": 0,
              "ticks": ""
             }
            },
            "type": "scatter3d"
           }
          ],
          "scattercarpet": [
           {
            "marker": {
             "colorbar": {
              "outlinewidth": 0,
              "ticks": ""
             }
            },
            "type": "scattercarpet"
           }
          ],
          "scattergeo": [
           {
            "marker": {
             "colorbar": {
              "outlinewidth": 0,
              "ticks": ""
             }
            },
            "type": "scattergeo"
           }
          ],
          "scattergl": [
           {
            "marker": {
             "colorbar": {
              "outlinewidth": 0,
              "ticks": ""
             }
            },
            "type": "scattergl"
           }
          ],
          "scattermapbox": [
           {
            "marker": {
             "colorbar": {
              "outlinewidth": 0,
              "ticks": ""
             }
            },
            "type": "scattermapbox"
           }
          ],
          "scatterpolar": [
           {
            "marker": {
             "colorbar": {
              "outlinewidth": 0,
              "ticks": ""
             }
            },
            "type": "scatterpolar"
           }
          ],
          "scatterpolargl": [
           {
            "marker": {
             "colorbar": {
              "outlinewidth": 0,
              "ticks": ""
             }
            },
            "type": "scatterpolargl"
           }
          ],
          "scatterternary": [
           {
            "marker": {
             "colorbar": {
              "outlinewidth": 0,
              "ticks": ""
             }
            },
            "type": "scatterternary"
           }
          ],
          "surface": [
           {
            "colorbar": {
             "outlinewidth": 0,
             "ticks": ""
            },
            "colorscale": [
             [
              0,
              "#0d0887"
             ],
             [
              0.1111111111111111,
              "#46039f"
             ],
             [
              0.2222222222222222,
              "#7201a8"
             ],
             [
              0.3333333333333333,
              "#9c179e"
             ],
             [
              0.4444444444444444,
              "#bd3786"
             ],
             [
              0.5555555555555556,
              "#d8576b"
             ],
             [
              0.6666666666666666,
              "#ed7953"
             ],
             [
              0.7777777777777778,
              "#fb9f3a"
             ],
             [
              0.8888888888888888,
              "#fdca26"
             ],
             [
              1,
              "#f0f921"
             ]
            ],
            "type": "surface"
           }
          ],
          "table": [
           {
            "cells": {
             "fill": {
              "color": "#EBF0F8"
             },
             "line": {
              "color": "white"
             }
            },
            "header": {
             "fill": {
              "color": "#C8D4E3"
             },
             "line": {
              "color": "white"
             }
            },
            "type": "table"
           }
          ]
         },
         "layout": {
          "annotationdefaults": {
           "arrowcolor": "#2a3f5f",
           "arrowhead": 0,
           "arrowwidth": 1
          },
          "autotypenumbers": "strict",
          "coloraxis": {
           "colorbar": {
            "outlinewidth": 0,
            "ticks": ""
           }
          },
          "colorscale": {
           "diverging": [
            [
             0,
             "#8e0152"
            ],
            [
             0.1,
             "#c51b7d"
            ],
            [
             0.2,
             "#de77ae"
            ],
            [
             0.3,
             "#f1b6da"
            ],
            [
             0.4,
             "#fde0ef"
            ],
            [
             0.5,
             "#f7f7f7"
            ],
            [
             0.6,
             "#e6f5d0"
            ],
            [
             0.7,
             "#b8e186"
            ],
            [
             0.8,
             "#7fbc41"
            ],
            [
             0.9,
             "#4d9221"
            ],
            [
             1,
             "#276419"
            ]
           ],
           "sequential": [
            [
             0,
             "#0d0887"
            ],
            [
             0.1111111111111111,
             "#46039f"
            ],
            [
             0.2222222222222222,
             "#7201a8"
            ],
            [
             0.3333333333333333,
             "#9c179e"
            ],
            [
             0.4444444444444444,
             "#bd3786"
            ],
            [
             0.5555555555555556,
             "#d8576b"
            ],
            [
             0.6666666666666666,
             "#ed7953"
            ],
            [
             0.7777777777777778,
             "#fb9f3a"
            ],
            [
             0.8888888888888888,
             "#fdca26"
            ],
            [
             1,
             "#f0f921"
            ]
           ],
           "sequentialminus": [
            [
             0,
             "#0d0887"
            ],
            [
             0.1111111111111111,
             "#46039f"
            ],
            [
             0.2222222222222222,
             "#7201a8"
            ],
            [
             0.3333333333333333,
             "#9c179e"
            ],
            [
             0.4444444444444444,
             "#bd3786"
            ],
            [
             0.5555555555555556,
             "#d8576b"
            ],
            [
             0.6666666666666666,
             "#ed7953"
            ],
            [
             0.7777777777777778,
             "#fb9f3a"
            ],
            [
             0.8888888888888888,
             "#fdca26"
            ],
            [
             1,
             "#f0f921"
            ]
           ]
          },
          "colorway": [
           "#636efa",
           "#EF553B",
           "#00cc96",
           "#ab63fa",
           "#FFA15A",
           "#19d3f3",
           "#FF6692",
           "#B6E880",
           "#FF97FF",
           "#FECB52"
          ],
          "font": {
           "color": "#2a3f5f"
          },
          "geo": {
           "bgcolor": "white",
           "lakecolor": "white",
           "landcolor": "#E5ECF6",
           "showlakes": true,
           "showland": true,
           "subunitcolor": "white"
          },
          "hoverlabel": {
           "align": "left"
          },
          "hovermode": "closest",
          "mapbox": {
           "style": "light"
          },
          "paper_bgcolor": "white",
          "plot_bgcolor": "#E5ECF6",
          "polar": {
           "angularaxis": {
            "gridcolor": "white",
            "linecolor": "white",
            "ticks": ""
           },
           "bgcolor": "#E5ECF6",
           "radialaxis": {
            "gridcolor": "white",
            "linecolor": "white",
            "ticks": ""
           }
          },
          "scene": {
           "xaxis": {
            "backgroundcolor": "#E5ECF6",
            "gridcolor": "white",
            "gridwidth": 2,
            "linecolor": "white",
            "showbackground": true,
            "ticks": "",
            "zerolinecolor": "white"
           },
           "yaxis": {
            "backgroundcolor": "#E5ECF6",
            "gridcolor": "white",
            "gridwidth": 2,
            "linecolor": "white",
            "showbackground": true,
            "ticks": "",
            "zerolinecolor": "white"
           },
           "zaxis": {
            "backgroundcolor": "#E5ECF6",
            "gridcolor": "white",
            "gridwidth": 2,
            "linecolor": "white",
            "showbackground": true,
            "ticks": "",
            "zerolinecolor": "white"
           }
          },
          "shapedefaults": {
           "line": {
            "color": "#2a3f5f"
           }
          },
          "ternary": {
           "aaxis": {
            "gridcolor": "white",
            "linecolor": "white",
            "ticks": ""
           },
           "baxis": {
            "gridcolor": "white",
            "linecolor": "white",
            "ticks": ""
           },
           "bgcolor": "#E5ECF6",
           "caxis": {
            "gridcolor": "white",
            "linecolor": "white",
            "ticks": ""
           }
          },
          "title": {
           "x": 0.05
          },
          "xaxis": {
           "automargin": true,
           "gridcolor": "white",
           "linecolor": "white",
           "ticks": "",
           "title": {
            "standoff": 15
           },
           "zerolinecolor": "white",
           "zerolinewidth": 2
          },
          "yaxis": {
           "automargin": true,
           "gridcolor": "white",
           "linecolor": "white",
           "ticks": "",
           "title": {
            "standoff": 15
           },
           "zerolinecolor": "white",
           "zerolinewidth": 2
          }
         }
        },
        "title": {
         "font": {
          "size": 20
         },
         "text": "<b>ABNORMAL REASONS</b>",
         "x": 0.5,
         "y": 0.9
        },
        "width": 1000,
        "xaxis": {
         "range": [
          0,
          300
         ]
        }
       }
      }
     },
     "metadata": {},
     "output_type": "display_data"
    }
   ],
   "source": [
    "# MAPPING Y-AXIS LABEL\n",
    "dict = {'1': 'pickup_date after out_for_delivery_date',\n",
    "        '2': 'out_for_delivery_date after first_attempt_date',\n",
    "        '3': 'out_for_delivery_date after final_delivery_date',\n",
    "        '4': 'first_attempt_date after final_delivery_date',\n",
    "        '5': 'EDD_log_date after final_delivery_date'\n",
    "        }\n",
    "plot_data = merge_tbl[merge_tbl['is_abnormal']==True].groupby('abnormal_reason')['parcel_id'].count().reset_index(name='abnormal_EDDs')\\\n",
    "            .sort_values('abnormal_EDDs', ascending=True)\n",
    "plot_data['perc_parcels_%'] = plot_data['abnormal_EDDs'] / merge_tbl['parcel_id'].nunique() * 100\n",
    "plot_data['abnormal_reason'] = plot_data['abnormal_reason'].map(dict)\n",
    "# PLOT\n",
    "# plt.figure(figsize=(10,5))\n",
    "# ax = sns.countplot(data=plot_data, y='abnormal_reason', orient='h',\n",
    "#               color='cornflowerblue'\n",
    "#               )\n",
    "# ax.bar_label(ax.containers[0], labels = [f'{w} ({(w/TOTAL_PARCELS)*100:0.2f}%)' if (w := v.get_width()) > 0 else '' for v in ax.containers[0]])\n",
    "\n",
    "# ax.set_title(\"ABNORMAL REASONS\", size=16)\n",
    "# ax.set_xlabel(\"number of parcels\")\n",
    "# ax.set_ylabel(\"\")\n",
    "# plt.show()\n",
    "\n",
    "fig=go.Figure()\n",
    "fig.add_trace(go.Bar(\n",
    "                    y=plot_data['abnormal_reason'], \n",
    "                    x=plot_data['abnormal_EDDs'], orientation='h',\n",
    "                    name='abnormal_reason', marker_color='darkblue',\n",
    "                    customdata=plot_data['perc_parcels_%'],\n",
    "                    texttemplate = '%{x:,.0f} parcels<br>(%{customdata:.2f} %)',\n",
    "                    textposition='outside'\n",
    "                    ))\n",
    "# fig.add_trace(go.Scatter(\n",
    "#                     x=plot_data['carrier_name'], \n",
    "#                     y=plot_data['EDD_count'], name='EDDs count',\n",
    "#                     mode='markers+lines+text',\n",
    "#                     texttemplate = '%{y:,.0f}',\n",
    "#                     textposition='top right', textfont_color='red'\n",
    "# ))\n",
    "\n",
    "fig.update_layout(\n",
    "    width=1000,\n",
    "    height=500,\n",
    "    title='<b>ABNORMAL REASONS</b>', title_font={'size':20},\n",
    "    title_x=.5, title_y=.9,\n",
    "    xaxis={'range': [0,300]}, \n",
    "    # yaxis2={'range': [0,4500]}, \n",
    ")\n",
    "fig.show()"
   ]
  },
  {
   "cell_type": "markdown",
   "metadata": {},
   "source": [
    "##### 2.2 Abnormal EDDs per carrier plot"
   ]
  },
  {
   "cell_type": "code",
   "execution_count": 3268,
   "metadata": {},
   "outputs": [
    {
     "data": {
      "text/html": [
       "<div>\n",
       "<style scoped>\n",
       "    .dataframe tbody tr th:only-of-type {\n",
       "        vertical-align: middle;\n",
       "    }\n",
       "\n",
       "    .dataframe tbody tr th {\n",
       "        vertical-align: top;\n",
       "    }\n",
       "\n",
       "    .dataframe thead th {\n",
       "        text-align: right;\n",
       "    }\n",
       "</style>\n",
       "<table border=\"1\" class=\"dataframe\">\n",
       "  <thead>\n",
       "    <tr style=\"text-align: right;\">\n",
       "      <th></th>\n",
       "      <th>carrier_name</th>\n",
       "      <th>total_EDDs</th>\n",
       "      <th>is_abnormal</th>\n",
       "      <th>not_abnormal</th>\n",
       "      <th>perc_is_abnormal</th>\n",
       "      <th>perc_not_abnormal</th>\n",
       "    </tr>\n",
       "  </thead>\n",
       "  <tbody>\n",
       "    <tr>\n",
       "      <th>0</th>\n",
       "      <td>Globex</td>\n",
       "      <td>57.00</td>\n",
       "      <td>6.00</td>\n",
       "      <td>51.00</td>\n",
       "      <td>10.53</td>\n",
       "      <td>89.47</td>\n",
       "    </tr>\n",
       "    <tr>\n",
       "      <th>2</th>\n",
       "      <td>Massive</td>\n",
       "      <td>2,261.00</td>\n",
       "      <td>190.00</td>\n",
       "      <td>2,071.00</td>\n",
       "      <td>8.40</td>\n",
       "      <td>91.60</td>\n",
       "    </tr>\n",
       "    <tr>\n",
       "      <th>1</th>\n",
       "      <td>Initech</td>\n",
       "      <td>4,295.00</td>\n",
       "      <td>307.00</td>\n",
       "      <td>3,988.00</td>\n",
       "      <td>7.15</td>\n",
       "      <td>92.85</td>\n",
       "    </tr>\n",
       "  </tbody>\n",
       "</table>\n",
       "</div>"
      ],
      "text/plain": [
       "  carrier_name  total_EDDs  is_abnormal  not_abnormal  perc_is_abnormal  \\\n",
       "0       Globex       57.00         6.00         51.00             10.53   \n",
       "2      Massive    2,261.00       190.00      2,071.00              8.40   \n",
       "1      Initech    4,295.00       307.00      3,988.00              7.15   \n",
       "\n",
       "   perc_not_abnormal  \n",
       "0              89.47  \n",
       "2              91.60  \n",
       "1              92.85  "
      ]
     },
     "metadata": {},
     "output_type": "display_data"
    },
    {
     "data": {
      "application/vnd.plotly.v1+json": {
       "config": {
        "plotlyServerURL": "https://plot.ly"
       },
       "data": [
        {
         "marker": {
          "color": "darkblue"
         },
         "name": "is_abnormal",
         "textfont": {
          "color": "black"
         },
         "textposition": "outside",
         "texttemplate": [
          "10.53 %<br>(6 EDDs)",
          "8.40 %<br>(190 EDDs)",
          "7.15 %<br>(307 EDDs)"
         ],
         "type": "bar",
         "x": [
          "Globex",
          "Massive",
          "Initech"
         ],
         "y": [
          10.526315789473683,
          8.403361344537815,
          7.147846332945285
         ]
        }
       ],
       "layout": {
        "height": 500,
        "template": {
         "data": {
          "bar": [
           {
            "error_x": {
             "color": "#2a3f5f"
            },
            "error_y": {
             "color": "#2a3f5f"
            },
            "marker": {
             "line": {
              "color": "#E5ECF6",
              "width": 0.5
             },
             "pattern": {
              "fillmode": "overlay",
              "size": 10,
              "solidity": 0.2
             }
            },
            "type": "bar"
           }
          ],
          "barpolar": [
           {
            "marker": {
             "line": {
              "color": "#E5ECF6",
              "width": 0.5
             },
             "pattern": {
              "fillmode": "overlay",
              "size": 10,
              "solidity": 0.2
             }
            },
            "type": "barpolar"
           }
          ],
          "carpet": [
           {
            "aaxis": {
             "endlinecolor": "#2a3f5f",
             "gridcolor": "white",
             "linecolor": "white",
             "minorgridcolor": "white",
             "startlinecolor": "#2a3f5f"
            },
            "baxis": {
             "endlinecolor": "#2a3f5f",
             "gridcolor": "white",
             "linecolor": "white",
             "minorgridcolor": "white",
             "startlinecolor": "#2a3f5f"
            },
            "type": "carpet"
           }
          ],
          "choropleth": [
           {
            "colorbar": {
             "outlinewidth": 0,
             "ticks": ""
            },
            "type": "choropleth"
           }
          ],
          "contour": [
           {
            "colorbar": {
             "outlinewidth": 0,
             "ticks": ""
            },
            "colorscale": [
             [
              0,
              "#0d0887"
             ],
             [
              0.1111111111111111,
              "#46039f"
             ],
             [
              0.2222222222222222,
              "#7201a8"
             ],
             [
              0.3333333333333333,
              "#9c179e"
             ],
             [
              0.4444444444444444,
              "#bd3786"
             ],
             [
              0.5555555555555556,
              "#d8576b"
             ],
             [
              0.6666666666666666,
              "#ed7953"
             ],
             [
              0.7777777777777778,
              "#fb9f3a"
             ],
             [
              0.8888888888888888,
              "#fdca26"
             ],
             [
              1,
              "#f0f921"
             ]
            ],
            "type": "contour"
           }
          ],
          "contourcarpet": [
           {
            "colorbar": {
             "outlinewidth": 0,
             "ticks": ""
            },
            "type": "contourcarpet"
           }
          ],
          "heatmap": [
           {
            "colorbar": {
             "outlinewidth": 0,
             "ticks": ""
            },
            "colorscale": [
             [
              0,
              "#0d0887"
             ],
             [
              0.1111111111111111,
              "#46039f"
             ],
             [
              0.2222222222222222,
              "#7201a8"
             ],
             [
              0.3333333333333333,
              "#9c179e"
             ],
             [
              0.4444444444444444,
              "#bd3786"
             ],
             [
              0.5555555555555556,
              "#d8576b"
             ],
             [
              0.6666666666666666,
              "#ed7953"
             ],
             [
              0.7777777777777778,
              "#fb9f3a"
             ],
             [
              0.8888888888888888,
              "#fdca26"
             ],
             [
              1,
              "#f0f921"
             ]
            ],
            "type": "heatmap"
           }
          ],
          "heatmapgl": [
           {
            "colorbar": {
             "outlinewidth": 0,
             "ticks": ""
            },
            "colorscale": [
             [
              0,
              "#0d0887"
             ],
             [
              0.1111111111111111,
              "#46039f"
             ],
             [
              0.2222222222222222,
              "#7201a8"
             ],
             [
              0.3333333333333333,
              "#9c179e"
             ],
             [
              0.4444444444444444,
              "#bd3786"
             ],
             [
              0.5555555555555556,
              "#d8576b"
             ],
             [
              0.6666666666666666,
              "#ed7953"
             ],
             [
              0.7777777777777778,
              "#fb9f3a"
             ],
             [
              0.8888888888888888,
              "#fdca26"
             ],
             [
              1,
              "#f0f921"
             ]
            ],
            "type": "heatmapgl"
           }
          ],
          "histogram": [
           {
            "marker": {
             "pattern": {
              "fillmode": "overlay",
              "size": 10,
              "solidity": 0.2
             }
            },
            "type": "histogram"
           }
          ],
          "histogram2d": [
           {
            "colorbar": {
             "outlinewidth": 0,
             "ticks": ""
            },
            "colorscale": [
             [
              0,
              "#0d0887"
             ],
             [
              0.1111111111111111,
              "#46039f"
             ],
             [
              0.2222222222222222,
              "#7201a8"
             ],
             [
              0.3333333333333333,
              "#9c179e"
             ],
             [
              0.4444444444444444,
              "#bd3786"
             ],
             [
              0.5555555555555556,
              "#d8576b"
             ],
             [
              0.6666666666666666,
              "#ed7953"
             ],
             [
              0.7777777777777778,
              "#fb9f3a"
             ],
             [
              0.8888888888888888,
              "#fdca26"
             ],
             [
              1,
              "#f0f921"
             ]
            ],
            "type": "histogram2d"
           }
          ],
          "histogram2dcontour": [
           {
            "colorbar": {
             "outlinewidth": 0,
             "ticks": ""
            },
            "colorscale": [
             [
              0,
              "#0d0887"
             ],
             [
              0.1111111111111111,
              "#46039f"
             ],
             [
              0.2222222222222222,
              "#7201a8"
             ],
             [
              0.3333333333333333,
              "#9c179e"
             ],
             [
              0.4444444444444444,
              "#bd3786"
             ],
             [
              0.5555555555555556,
              "#d8576b"
             ],
             [
              0.6666666666666666,
              "#ed7953"
             ],
             [
              0.7777777777777778,
              "#fb9f3a"
             ],
             [
              0.8888888888888888,
              "#fdca26"
             ],
             [
              1,
              "#f0f921"
             ]
            ],
            "type": "histogram2dcontour"
           }
          ],
          "mesh3d": [
           {
            "colorbar": {
             "outlinewidth": 0,
             "ticks": ""
            },
            "type": "mesh3d"
           }
          ],
          "parcoords": [
           {
            "line": {
             "colorbar": {
              "outlinewidth": 0,
              "ticks": ""
             }
            },
            "type": "parcoords"
           }
          ],
          "pie": [
           {
            "automargin": true,
            "type": "pie"
           }
          ],
          "scatter": [
           {
            "marker": {
             "colorbar": {
              "outlinewidth": 0,
              "ticks": ""
             }
            },
            "type": "scatter"
           }
          ],
          "scatter3d": [
           {
            "line": {
             "colorbar": {
              "outlinewidth": 0,
              "ticks": ""
             }
            },
            "marker": {
             "colorbar": {
              "outlinewidth": 0,
              "ticks": ""
             }
            },
            "type": "scatter3d"
           }
          ],
          "scattercarpet": [
           {
            "marker": {
             "colorbar": {
              "outlinewidth": 0,
              "ticks": ""
             }
            },
            "type": "scattercarpet"
           }
          ],
          "scattergeo": [
           {
            "marker": {
             "colorbar": {
              "outlinewidth": 0,
              "ticks": ""
             }
            },
            "type": "scattergeo"
           }
          ],
          "scattergl": [
           {
            "marker": {
             "colorbar": {
              "outlinewidth": 0,
              "ticks": ""
             }
            },
            "type": "scattergl"
           }
          ],
          "scattermapbox": [
           {
            "marker": {
             "colorbar": {
              "outlinewidth": 0,
              "ticks": ""
             }
            },
            "type": "scattermapbox"
           }
          ],
          "scatterpolar": [
           {
            "marker": {
             "colorbar": {
              "outlinewidth": 0,
              "ticks": ""
             }
            },
            "type": "scatterpolar"
           }
          ],
          "scatterpolargl": [
           {
            "marker": {
             "colorbar": {
              "outlinewidth": 0,
              "ticks": ""
             }
            },
            "type": "scatterpolargl"
           }
          ],
          "scatterternary": [
           {
            "marker": {
             "colorbar": {
              "outlinewidth": 0,
              "ticks": ""
             }
            },
            "type": "scatterternary"
           }
          ],
          "surface": [
           {
            "colorbar": {
             "outlinewidth": 0,
             "ticks": ""
            },
            "colorscale": [
             [
              0,
              "#0d0887"
             ],
             [
              0.1111111111111111,
              "#46039f"
             ],
             [
              0.2222222222222222,
              "#7201a8"
             ],
             [
              0.3333333333333333,
              "#9c179e"
             ],
             [
              0.4444444444444444,
              "#bd3786"
             ],
             [
              0.5555555555555556,
              "#d8576b"
             ],
             [
              0.6666666666666666,
              "#ed7953"
             ],
             [
              0.7777777777777778,
              "#fb9f3a"
             ],
             [
              0.8888888888888888,
              "#fdca26"
             ],
             [
              1,
              "#f0f921"
             ]
            ],
            "type": "surface"
           }
          ],
          "table": [
           {
            "cells": {
             "fill": {
              "color": "#EBF0F8"
             },
             "line": {
              "color": "white"
             }
            },
            "header": {
             "fill": {
              "color": "#C8D4E3"
             },
             "line": {
              "color": "white"
             }
            },
            "type": "table"
           }
          ]
         },
         "layout": {
          "annotationdefaults": {
           "arrowcolor": "#2a3f5f",
           "arrowhead": 0,
           "arrowwidth": 1
          },
          "autotypenumbers": "strict",
          "coloraxis": {
           "colorbar": {
            "outlinewidth": 0,
            "ticks": ""
           }
          },
          "colorscale": {
           "diverging": [
            [
             0,
             "#8e0152"
            ],
            [
             0.1,
             "#c51b7d"
            ],
            [
             0.2,
             "#de77ae"
            ],
            [
             0.3,
             "#f1b6da"
            ],
            [
             0.4,
             "#fde0ef"
            ],
            [
             0.5,
             "#f7f7f7"
            ],
            [
             0.6,
             "#e6f5d0"
            ],
            [
             0.7,
             "#b8e186"
            ],
            [
             0.8,
             "#7fbc41"
            ],
            [
             0.9,
             "#4d9221"
            ],
            [
             1,
             "#276419"
            ]
           ],
           "sequential": [
            [
             0,
             "#0d0887"
            ],
            [
             0.1111111111111111,
             "#46039f"
            ],
            [
             0.2222222222222222,
             "#7201a8"
            ],
            [
             0.3333333333333333,
             "#9c179e"
            ],
            [
             0.4444444444444444,
             "#bd3786"
            ],
            [
             0.5555555555555556,
             "#d8576b"
            ],
            [
             0.6666666666666666,
             "#ed7953"
            ],
            [
             0.7777777777777778,
             "#fb9f3a"
            ],
            [
             0.8888888888888888,
             "#fdca26"
            ],
            [
             1,
             "#f0f921"
            ]
           ],
           "sequentialminus": [
            [
             0,
             "#0d0887"
            ],
            [
             0.1111111111111111,
             "#46039f"
            ],
            [
             0.2222222222222222,
             "#7201a8"
            ],
            [
             0.3333333333333333,
             "#9c179e"
            ],
            [
             0.4444444444444444,
             "#bd3786"
            ],
            [
             0.5555555555555556,
             "#d8576b"
            ],
            [
             0.6666666666666666,
             "#ed7953"
            ],
            [
             0.7777777777777778,
             "#fb9f3a"
            ],
            [
             0.8888888888888888,
             "#fdca26"
            ],
            [
             1,
             "#f0f921"
            ]
           ]
          },
          "colorway": [
           "#636efa",
           "#EF553B",
           "#00cc96",
           "#ab63fa",
           "#FFA15A",
           "#19d3f3",
           "#FF6692",
           "#B6E880",
           "#FF97FF",
           "#FECB52"
          ],
          "font": {
           "color": "#2a3f5f"
          },
          "geo": {
           "bgcolor": "white",
           "lakecolor": "white",
           "landcolor": "#E5ECF6",
           "showlakes": true,
           "showland": true,
           "subunitcolor": "white"
          },
          "hoverlabel": {
           "align": "left"
          },
          "hovermode": "closest",
          "mapbox": {
           "style": "light"
          },
          "paper_bgcolor": "white",
          "plot_bgcolor": "#E5ECF6",
          "polar": {
           "angularaxis": {
            "gridcolor": "white",
            "linecolor": "white",
            "ticks": ""
           },
           "bgcolor": "#E5ECF6",
           "radialaxis": {
            "gridcolor": "white",
            "linecolor": "white",
            "ticks": ""
           }
          },
          "scene": {
           "xaxis": {
            "backgroundcolor": "#E5ECF6",
            "gridcolor": "white",
            "gridwidth": 2,
            "linecolor": "white",
            "showbackground": true,
            "ticks": "",
            "zerolinecolor": "white"
           },
           "yaxis": {
            "backgroundcolor": "#E5ECF6",
            "gridcolor": "white",
            "gridwidth": 2,
            "linecolor": "white",
            "showbackground": true,
            "ticks": "",
            "zerolinecolor": "white"
           },
           "zaxis": {
            "backgroundcolor": "#E5ECF6",
            "gridcolor": "white",
            "gridwidth": 2,
            "linecolor": "white",
            "showbackground": true,
            "ticks": "",
            "zerolinecolor": "white"
           }
          },
          "shapedefaults": {
           "line": {
            "color": "#2a3f5f"
           }
          },
          "ternary": {
           "aaxis": {
            "gridcolor": "white",
            "linecolor": "white",
            "ticks": ""
           },
           "baxis": {
            "gridcolor": "white",
            "linecolor": "white",
            "ticks": ""
           },
           "bgcolor": "#E5ECF6",
           "caxis": {
            "gridcolor": "white",
            "linecolor": "white",
            "ticks": ""
           }
          },
          "title": {
           "x": 0.05
          },
          "xaxis": {
           "automargin": true,
           "gridcolor": "white",
           "linecolor": "white",
           "ticks": "",
           "title": {
            "standoff": 15
           },
           "zerolinecolor": "white",
           "zerolinewidth": 2
          },
          "yaxis": {
           "automargin": true,
           "gridcolor": "white",
           "linecolor": "white",
           "ticks": "",
           "title": {
            "standoff": 15
           },
           "zerolinecolor": "white",
           "zerolinewidth": 2
          }
         }
        },
        "title": {
         "font": {
          "size": 20
         },
         "text": "<b>ABNORMAL EDDs PER CARRIER</b>",
         "x": 0.5,
         "y": 0.9
        },
        "width": 800,
        "xaxis": {
         "showgrid": false
        },
        "yaxis": {
         "dtick": 25,
         "range": [
          0,
          100
         ],
         "title": {
          "text": "Percentage %"
         }
        }
       }
      }
     },
     "metadata": {},
     "output_type": "display_data"
    }
   ],
   "source": [
    "def func(df):\n",
    "    cols = {\n",
    "    'total_EDDs': df['parcel_id'].count(),\n",
    "    'is_abnormal' : df[df['is_abnormal']==True]['parcel_id'].count(),\n",
    "    'not_abnormal' : df[df['is_abnormal']==False]['parcel_id'].count(),\n",
    "    'perc_is_abnormal' : df[df['is_abnormal']==True]['parcel_id'].count() / df['parcel_id'].count() * 100,\n",
    "    'perc_not_abnormal' : df[df['is_abnormal']==False]['parcel_id'].count() / df['parcel_id'].count() * 100,\n",
    "    }\n",
    "    return pd.Series(cols)\n",
    "plot_data = merge_tbl.groupby('carrier_name').apply(func).reset_index().sort_values('perc_is_abnormal', ascending=False)\n",
    "\n",
    "fig = go.Figure()\n",
    "\n",
    "fig.add_trace(go.Bar(x=plot_data['carrier_name'], y=plot_data['perc_is_abnormal'],\n",
    "                    texttemplate=[f'{x:.2f} %<br>({y:,.0f} EDDs)' for x,y in zip(plot_data['perc_is_abnormal'], plot_data['is_abnormal'])],\n",
    "                      marker_color='darkblue', name='is_abnormal'))\n",
    "# fig.add_trace(go.Bar(y=plot_data['carrier_name'], x=plot_data['perc_not_abnormal'], \n",
    "#                     texttemplate=[f'{x:.2f}%<br>({y:,.0f} EDDs)' for x,y in zip(plot_data['perc_not_abnormal'], plot_data['not_abnormal'])],\n",
    "#                      marker_color='cornflowerblue', name='not_abnormal', orientation='h'))\n",
    "\n",
    "# fig.update_layout(barmode='stack')\n",
    "fig.update_traces(textposition='outside', textfont_color='black')\n",
    "fig.update_layout(\n",
    "    width=800,\n",
    "    height=500,\n",
    "    title='<b>ABNORMAL EDDs PER CARRIER</b>', title_font={'size':20},\n",
    "    title_x=.5, title_y=.9,\n",
    "    xaxis={'showgrid':False}, \n",
    "    yaxis={'title':'Percentage %', 'range':[0,100], 'dtick':25}\n",
    ")\n",
    "display(plot_data)\n",
    "fig.show()"
   ]
  },
  {
   "cell_type": "markdown",
   "metadata": {},
   "source": [
    "THE ABNORMAL EDDS WILL BE REMOVED FROM THE ANALYSIS BELOW"
   ]
  },
  {
   "cell_type": "markdown",
   "metadata": {},
   "source": [
    "#### 2. REMOVE ABNORMAL EDDS"
   ]
  },
  {
   "cell_type": "markdown",
   "metadata": {},
   "source": [
    "This dataset contains only normal EDDs of parcels after removing consecutive duplicated EDDs per parcel."
   ]
  },
  {
   "cell_type": "code",
   "execution_count": 3269,
   "metadata": {},
   "outputs": [
    {
     "data": {
      "text/html": [
       "<div>\n",
       "<style scoped>\n",
       "    .dataframe tbody tr th:only-of-type {\n",
       "        vertical-align: middle;\n",
       "    }\n",
       "\n",
       "    .dataframe tbody tr th {\n",
       "        vertical-align: top;\n",
       "    }\n",
       "\n",
       "    .dataframe thead th {\n",
       "        text-align: right;\n",
       "    }\n",
       "</style>\n",
       "<table border=\"1\" class=\"dataframe\">\n",
       "  <thead>\n",
       "    <tr style=\"text-align: right;\">\n",
       "      <th></th>\n",
       "      <th>parcel_id</th>\n",
       "      <th>carrier_name</th>\n",
       "      <th>EDD_is_accurate</th>\n",
       "      <th>log_timestamp</th>\n",
       "      <th>final_delivery_date</th>\n",
       "      <th>new_parcel_expected_time_first_start</th>\n",
       "      <th>new_parcel_expected_time_first_end</th>\n",
       "      <th>EDD</th>\n",
       "      <th>picked_up_date</th>\n",
       "      <th>out_for_delivery_date</th>\n",
       "      <th>first_attempt_date</th>\n",
       "      <th>daydiff_bw_FDD_EDD</th>\n",
       "      <th>daydiff_log_FDD</th>\n",
       "    </tr>\n",
       "  </thead>\n",
       "  <tbody>\n",
       "    <tr>\n",
       "      <th>0</th>\n",
       "      <td>2948380100</td>\n",
       "      <td>Initech</td>\n",
       "      <td>False</td>\n",
       "      <td>2023-06-17 23:02:33</td>\n",
       "      <td>2023-06-18 03:33:55</td>\n",
       "      <td>2023-06-19 00:00:00.000</td>\n",
       "      <td>2023-06-22 23:59:59</td>\n",
       "      <td>2023-06-20 23:59:59.500</td>\n",
       "      <td>2023-06-08 06:00:06</td>\n",
       "      <td>2023-06-18 00:12:26</td>\n",
       "      <td>2023-06-18 03:33:55</td>\n",
       "      <td>-2.85</td>\n",
       "      <td>-0.19</td>\n",
       "    </tr>\n",
       "    <tr>\n",
       "      <th>1</th>\n",
       "      <td>2948508927</td>\n",
       "      <td>Initech</td>\n",
       "      <td>False</td>\n",
       "      <td>2023-06-21 19:52:25</td>\n",
       "      <td>2023-06-21 23:42:15</td>\n",
       "      <td>2023-06-22 00:00:00.000</td>\n",
       "      <td>NaT</td>\n",
       "      <td>2023-06-22 00:00:00.000</td>\n",
       "      <td>2023-06-21 01:45:00</td>\n",
       "      <td>2023-06-21 21:53:58</td>\n",
       "      <td>2023-06-21 23:42:15</td>\n",
       "      <td>-0.01</td>\n",
       "      <td>-0.16</td>\n",
       "    </tr>\n",
       "    <tr>\n",
       "      <th>2</th>\n",
       "      <td>2941258771</td>\n",
       "      <td>Initech</td>\n",
       "      <td>True</td>\n",
       "      <td>2023-06-11 23:59:30</td>\n",
       "      <td>2023-06-12 01:18:39</td>\n",
       "      <td>2023-06-12 00:00:00.000</td>\n",
       "      <td>2023-06-15 23:59:59</td>\n",
       "      <td>2023-06-13 23:59:59.500</td>\n",
       "      <td>2023-06-08 17:56:42</td>\n",
       "      <td>2023-06-12 00:06:19</td>\n",
       "      <td>2023-06-12 01:18:39</td>\n",
       "      <td>-1.95</td>\n",
       "      <td>-0.05</td>\n",
       "    </tr>\n",
       "    <tr>\n",
       "      <th>3</th>\n",
       "      <td>2980427311</td>\n",
       "      <td>Massive</td>\n",
       "      <td>True</td>\n",
       "      <td>2023-06-20 02:24:09</td>\n",
       "      <td>2023-06-23 02:43:15</td>\n",
       "      <td>2023-06-23 21:59:59.999</td>\n",
       "      <td>NaT</td>\n",
       "      <td>2023-06-23 21:59:59.999</td>\n",
       "      <td>2023-06-19 17:00:01</td>\n",
       "      <td>2023-06-22 23:09:38</td>\n",
       "      <td>2023-06-23 02:43:15</td>\n",
       "      <td>-0.80</td>\n",
       "      <td>-3.01</td>\n",
       "    </tr>\n",
       "    <tr>\n",
       "      <th>4</th>\n",
       "      <td>2980427311</td>\n",
       "      <td>Massive</td>\n",
       "      <td>True</td>\n",
       "      <td>2023-06-20 04:05:41</td>\n",
       "      <td>2023-06-23 02:43:15</td>\n",
       "      <td>2023-06-23 23:59:59.999</td>\n",
       "      <td>NaT</td>\n",
       "      <td>2023-06-23 23:59:59.999</td>\n",
       "      <td>2023-06-19 17:00:01</td>\n",
       "      <td>2023-06-22 23:09:38</td>\n",
       "      <td>2023-06-23 02:43:15</td>\n",
       "      <td>-0.89</td>\n",
       "      <td>-2.94</td>\n",
       "    </tr>\n",
       "  </tbody>\n",
       "</table>\n",
       "</div>"
      ],
      "text/plain": [
       "    parcel_id carrier_name  EDD_is_accurate       log_timestamp  \\\n",
       "0  2948380100      Initech            False 2023-06-17 23:02:33   \n",
       "1  2948508927      Initech            False 2023-06-21 19:52:25   \n",
       "2  2941258771      Initech             True 2023-06-11 23:59:30   \n",
       "3  2980427311      Massive             True 2023-06-20 02:24:09   \n",
       "4  2980427311      Massive             True 2023-06-20 04:05:41   \n",
       "\n",
       "  final_delivery_date new_parcel_expected_time_first_start  \\\n",
       "0 2023-06-18 03:33:55              2023-06-19 00:00:00.000   \n",
       "1 2023-06-21 23:42:15              2023-06-22 00:00:00.000   \n",
       "2 2023-06-12 01:18:39              2023-06-12 00:00:00.000   \n",
       "3 2023-06-23 02:43:15              2023-06-23 21:59:59.999   \n",
       "4 2023-06-23 02:43:15              2023-06-23 23:59:59.999   \n",
       "\n",
       "  new_parcel_expected_time_first_end                     EDD  \\\n",
       "0                2023-06-22 23:59:59 2023-06-20 23:59:59.500   \n",
       "1                                NaT 2023-06-22 00:00:00.000   \n",
       "2                2023-06-15 23:59:59 2023-06-13 23:59:59.500   \n",
       "3                                NaT 2023-06-23 21:59:59.999   \n",
       "4                                NaT 2023-06-23 23:59:59.999   \n",
       "\n",
       "       picked_up_date out_for_delivery_date  first_attempt_date  \\\n",
       "0 2023-06-08 06:00:06   2023-06-18 00:12:26 2023-06-18 03:33:55   \n",
       "1 2023-06-21 01:45:00   2023-06-21 21:53:58 2023-06-21 23:42:15   \n",
       "2 2023-06-08 17:56:42   2023-06-12 00:06:19 2023-06-12 01:18:39   \n",
       "3 2023-06-19 17:00:01   2023-06-22 23:09:38 2023-06-23 02:43:15   \n",
       "4 2023-06-19 17:00:01   2023-06-22 23:09:38 2023-06-23 02:43:15   \n",
       "\n",
       "   daydiff_bw_FDD_EDD  daydiff_log_FDD  \n",
       "0               -2.85            -0.19  \n",
       "1               -0.01            -0.16  \n",
       "2               -1.95            -0.05  \n",
       "3               -0.80            -3.01  \n",
       "4               -0.89            -2.94  "
      ]
     },
     "execution_count": 3269,
     "metadata": {},
     "output_type": "execute_result"
    }
   ],
   "source": [
    "normal_edd_tbl = merge_tbl[merge_tbl['is_abnormal']==False]\n",
    "normal_edd_tbl = normal_edd_tbl[['parcel_id', 'carrier_name', 'EDD_is_accurate', 'log_timestamp', 'final_delivery_date',\n",
    "                                 'new_parcel_expected_time_first_start', 'new_parcel_expected_time_first_end', 'EDD',\n",
    "                                 'picked_up_date', 'out_for_delivery_date', 'first_attempt_date', \n",
    "                                'daydiff_bw_FDD_EDD', 'daydiff_log_FDD'\n",
    "                                 ]]\n",
    "normal_edd_tbl.head()"
   ]
  },
  {
   "cell_type": "markdown",
   "metadata": {},
   "source": [
    "## D. ANALYSIS"
   ]
  },
  {
   "cell_type": "markdown",
   "metadata": {},
   "source": [
    "### **I. OVERVIEW**\n",
    "\n",
    "- Dataset info\n",
    "\n",
    "- Number of parcels\n",
    "\n",
    "- Timeline of dataset\n",
    "\n",
    "- Carrier volume\n",
    "\n",
    "- EDD Frequency"
   ]
  },
  {
   "cell_type": "markdown",
   "metadata": {},
   "source": [
    "#### 1. DATASET"
   ]
  },
  {
   "cell_type": "code",
   "execution_count": 3270,
   "metadata": {},
   "outputs": [
    {
     "name": "stdout",
     "output_type": "stream",
     "text": [
      "<class 'pandas.core.frame.DataFrame'>\n",
      "Int64Index: 6110 entries, 0 to 6612\n",
      "Data columns (total 13 columns):\n",
      " #   Column                                Non-Null Count  Dtype         \n",
      "---  ------                                --------------  -----         \n",
      " 0   parcel_id                             6110 non-null   object        \n",
      " 1   carrier_name                          6110 non-null   object        \n",
      " 2   EDD_is_accurate                       6110 non-null   bool          \n",
      " 3   log_timestamp                         6110 non-null   datetime64[ns]\n",
      " 4   final_delivery_date                   6110 non-null   datetime64[ns]\n",
      " 5   new_parcel_expected_time_first_start  6040 non-null   datetime64[ns]\n",
      " 6   new_parcel_expected_time_first_end    2201 non-null   datetime64[ns]\n",
      " 7   EDD                                   6110 non-null   datetime64[ns]\n",
      " 8   picked_up_date                        6110 non-null   datetime64[ns]\n",
      " 9   out_for_delivery_date                 6110 non-null   datetime64[ns]\n",
      " 10  first_attempt_date                    6110 non-null   datetime64[ns]\n",
      " 11  daydiff_bw_FDD_EDD                    6110 non-null   float64       \n",
      " 12  daydiff_log_FDD                       6110 non-null   float64       \n",
      "dtypes: bool(1), datetime64[ns](8), float64(2), object(2)\n",
      "memory usage: 626.5+ KB\n"
     ]
    }
   ],
   "source": [
    "normal_edd_tbl.info()"
   ]
  },
  {
   "cell_type": "code",
   "execution_count": 3271,
   "metadata": {},
   "outputs": [
    {
     "name": "stdout",
     "output_type": "stream",
     "text": [
      "The final dataset contains only normal EDDs and has 6110 rows (EDDs) and 13 columns\n"
     ]
    }
   ],
   "source": [
    "print(f'The final dataset contains only normal EDDs and has {normal_edd_tbl.shape[0]} rows (EDDs) and {normal_edd_tbl.shape[1]} columns')"
   ]
  },
  {
   "cell_type": "markdown",
   "metadata": {},
   "source": [
    "#### 2. NUMBER OF PARCELS"
   ]
  },
  {
   "cell_type": "code",
   "execution_count": 3272,
   "metadata": {},
   "outputs": [
    {
     "name": "stdout",
     "output_type": "stream",
     "text": [
      "There are 3205 parcels in the final dataset\n"
     ]
    }
   ],
   "source": [
    "TOTAL_PARCELS = normal_edd_tbl[\"parcel_id\"].nunique()\n",
    "print(f'There are {TOTAL_PARCELS} parcels in the final dataset')"
   ]
  },
  {
   "cell_type": "markdown",
   "metadata": {},
   "source": [
    "There are about more than 8k parcels in the original tables. \n",
    "\n",
    "This number dropped down to 3291 parcels in the final table because:\n",
    "\n",
    "- Many parcels don't have EDD predictions updated (log_key = 'EDD102') in the log_table and were removed.\n",
    "\n",
    "- Some parcels don't have information in parcel_table nor log_table and were removed.\n",
    "\n",
    "- Some parcels don't have final_delivery_date & out_for_delivery_date & carrier_name and were removed.\n",
    "\n",
    "- Some parcels have delivery date in 1970 which are invalid and were removed.\n",
    "\n",
    "- Some parcels only have abnormal EDDs and were removed.\n"
   ]
  },
  {
   "cell_type": "markdown",
   "metadata": {},
   "source": [
    "#### 3. TIMELINE"
   ]
  },
  {
   "cell_type": "code",
   "execution_count": 3273,
   "metadata": {},
   "outputs": [
    {
     "data": {
      "image/png": "[encoded data removed]",
      "text/plain": [
       "<Figure size 1152x360 with 1 Axes>"
      ]
     },
     "metadata": {
      "needs_background": "light"
     },
     "output_type": "display_data"
    }
   ],
   "source": [
    "import matplotlib.dates as mdates\n",
    "plot_data = normal_edd_tbl.copy()\n",
    "plot_data['final_delivery_date'] = plot_data['final_delivery_date'].dt.date\n",
    "\n",
    "plt.figure(figsize=(16,5))\n",
    "ax = sns.lineplot(\n",
    "    x=plot_data.groupby('final_delivery_date')['parcel_id'].nunique().index,\n",
    "    y=plot_data.groupby('final_delivery_date')['parcel_id'].nunique().values,   \n",
    ")\n",
    "XTICK_INTERVAL = 5\n",
    "ax.xaxis.set_major_locator(mdates.DayLocator(interval=XTICK_INTERVAL))\n",
    "plt.title('FINAL DELIVERY DATE TIMELINE', size=16)\n",
    "plt.xlabel('')\n",
    "plt.ylabel('Number of parcels')\n",
    "plt.grid(axis='both', which='both', linestyle='--')\n",
    "plt.show()"
   ]
  },
  {
   "cell_type": "markdown",
   "metadata": {},
   "source": [
    "The final dataset contains parcels delivered from 04-June-2023 to 08-July-2023."
   ]
  },
  {
   "cell_type": "markdown",
   "metadata": {},
   "source": [
    "#### 4. CARRIERS"
   ]
  },
  {
   "cell_type": "code",
   "execution_count": 3274,
   "metadata": {},
   "outputs": [
    {
     "data": {
      "text/html": [
       "<div>\n",
       "<style scoped>\n",
       "    .dataframe tbody tr th:only-of-type {\n",
       "        vertical-align: middle;\n",
       "    }\n",
       "\n",
       "    .dataframe tbody tr th {\n",
       "        vertical-align: top;\n",
       "    }\n",
       "\n",
       "    .dataframe thead th {\n",
       "        text-align: right;\n",
       "    }\n",
       "</style>\n",
       "<table border=\"1\" class=\"dataframe\">\n",
       "  <thead>\n",
       "    <tr style=\"text-align: right;\">\n",
       "      <th></th>\n",
       "      <th>carrier_name</th>\n",
       "      <th>parcels_count</th>\n",
       "      <th>perc_parcels_%</th>\n",
       "    </tr>\n",
       "  </thead>\n",
       "  <tbody>\n",
       "    <tr>\n",
       "      <th>0</th>\n",
       "      <td>Globex</td>\n",
       "      <td>45</td>\n",
       "      <td>1.40</td>\n",
       "    </tr>\n",
       "    <tr>\n",
       "      <th>1</th>\n",
       "      <td>Massive</td>\n",
       "      <td>91</td>\n",
       "      <td>2.84</td>\n",
       "    </tr>\n",
       "    <tr>\n",
       "      <th>2</th>\n",
       "      <td>Initech</td>\n",
       "      <td>3069</td>\n",
       "      <td>95.76</td>\n",
       "    </tr>\n",
       "    <tr>\n",
       "      <th>3</th>\n",
       "      <td>All carriers</td>\n",
       "      <td>3205</td>\n",
       "      <td>100.00</td>\n",
       "    </tr>\n",
       "  </tbody>\n",
       "</table>\n",
       "</div>"
      ],
      "text/plain": [
       "   carrier_name  parcels_count  perc_parcels_%\n",
       "0        Globex             45            1.40\n",
       "1       Massive             91            2.84\n",
       "2       Initech           3069           95.76\n",
       "3  All carriers           3205          100.00"
      ]
     },
     "metadata": {},
     "output_type": "display_data"
    },
    {
     "data": {
      "application/vnd.plotly.v1+json": {
       "config": {
        "plotlyServerURL": "https://plot.ly"
       },
       "data": [
        {
         "customdata": [
          1.40405616224649,
          2.8393135725429017,
          95.7566302652106
         ],
         "marker": {
          "color": "darkblue"
         },
         "name": "Parcels count",
         "orientation": "h",
         "textposition": "outside",
         "texttemplate": "%{x:,.0f} parcels<br>(%{customdata:.2f} %)",
         "type": "bar",
         "x": [
          45,
          91,
          3069
         ],
         "y": [
          "Globex",
          "Massive",
          "Initech"
         ]
        }
       ],
       "layout": {
        "height": 500,
        "template": {
         "data": {
          "bar": [
           {
            "error_x": {
             "color": "#2a3f5f"
            },
            "error_y": {
             "color": "#2a3f5f"
            },
            "marker": {
             "line": {
              "color": "#E5ECF6",
              "width": 0.5
             },
             "pattern": {
              "fillmode": "overlay",
              "size": 10,
              "solidity": 0.2
             }
            },
            "type": "bar"
           }
          ],
          "barpolar": [
           {
            "marker": {
             "line": {
              "color": "#E5ECF6",
              "width": 0.5
             },
             "pattern": {
              "fillmode": "overlay",
              "size": 10,
              "solidity": 0.2
             }
            },
            "type": "barpolar"
           }
          ],
          "carpet": [
           {
            "aaxis": {
             "endlinecolor": "#2a3f5f",
             "gridcolor": "white",
             "linecolor": "white",
             "minorgridcolor": "white",
             "startlinecolor": "#2a3f5f"
            },
            "baxis": {
             "endlinecolor": "#2a3f5f",
             "gridcolor": "white",
             "linecolor": "white",
             "minorgridcolor": "white",
             "startlinecolor": "#2a3f5f"
            },
            "type": "carpet"
           }
          ],
          "choropleth": [
           {
            "colorbar": {
             "outlinewidth": 0,
             "ticks": ""
            },
            "type": "choropleth"
           }
          ],
          "contour": [
           {
            "colorbar": {
             "outlinewidth": 0,
             "ticks": ""
            },
            "colorscale": [
             [
              0,
              "#0d0887"
             ],
             [
              0.1111111111111111,
              "#46039f"
             ],
             [
              0.2222222222222222,
              "#7201a8"
             ],
             [
              0.3333333333333333,
              "#9c179e"
             ],
             [
              0.4444444444444444,
              "#bd3786"
             ],
             [
              0.5555555555555556,
              "#d8576b"
             ],
             [
              0.6666666666666666,
              "#ed7953"
             ],
             [
              0.7777777777777778,
              "#fb9f3a"
             ],
             [
              0.8888888888888888,
              "#fdca26"
             ],
             [
              1,
              "#f0f921"
             ]
            ],
            "type": "contour"
           }
          ],
          "contourcarpet": [
           {
            "colorbar": {
             "outlinewidth": 0,
             "ticks": ""
            },
            "type": "contourcarpet"
           }
          ],
          "heatmap": [
           {
            "colorbar": {
             "outlinewidth": 0,
             "ticks": ""
            },
            "colorscale": [
             [
              0,
              "#0d0887"
             ],
             [
              0.1111111111111111,
              "#46039f"
             ],
             [
              0.2222222222222222,
              "#7201a8"
             ],
             [
              0.3333333333333333,
              "#9c179e"
             ],
             [
              0.4444444444444444,
              "#bd3786"
             ],
             [
              0.5555555555555556,
              "#d8576b"
             ],
             [
              0.6666666666666666,
              "#ed7953"
             ],
             [
              0.7777777777777778,
              "#fb9f3a"
             ],
             [
              0.8888888888888888,
              "#fdca26"
             ],
             [
              1,
              "#f0f921"
             ]
            ],
            "type": "heatmap"
           }
          ],
          "heatmapgl": [
           {
            "colorbar": {
             "outlinewidth": 0,
             "ticks": ""
            },
            "colorscale": [
             [
              0,
              "#0d0887"
             ],
             [
              0.1111111111111111,
              "#46039f"
             ],
             [
              0.2222222222222222,
              "#7201a8"
             ],
             [
              0.3333333333333333,
              "#9c179e"
             ],
             [
              0.4444444444444444,
              "#bd3786"
             ],
             [
              0.5555555555555556,
              "#d8576b"
             ],
             [
              0.6666666666666666,
              "#ed7953"
             ],
             [
              0.7777777777777778,
              "#fb9f3a"
             ],
             [
              0.8888888888888888,
              "#fdca26"
             ],
             [
              1,
              "#f0f921"
             ]
            ],
            "type": "heatmapgl"
           }
          ],
          "histogram": [
           {
            "marker": {
             "pattern": {
              "fillmode": "overlay",
              "size": 10,
              "solidity": 0.2
             }
            },
            "type": "histogram"
           }
          ],
          "histogram2d": [
           {
            "colorbar": {
             "outlinewidth": 0,
             "ticks": ""
            },
            "colorscale": [
             [
              0,
              "#0d0887"
             ],
             [
              0.1111111111111111,
              "#46039f"
             ],
             [
              0.2222222222222222,
              "#7201a8"
             ],
             [
              0.3333333333333333,
              "#9c179e"
             ],
             [
              0.4444444444444444,
              "#bd3786"
             ],
             [
              0.5555555555555556,
              "#d8576b"
             ],
             [
              0.6666666666666666,
              "#ed7953"
             ],
             [
              0.7777777777777778,
              "#fb9f3a"
             ],
             [
              0.8888888888888888,
              "#fdca26"
             ],
             [
              1,
              "#f0f921"
             ]
            ],
            "type": "histogram2d"
           }
          ],
          "histogram2dcontour": [
           {
            "colorbar": {
             "outlinewidth": 0,
             "ticks": ""
            },
            "colorscale": [
             [
              0,
              "#0d0887"
             ],
             [
              0.1111111111111111,
              "#46039f"
             ],
             [
              0.2222222222222222,
              "#7201a8"
             ],
             [
              0.3333333333333333,
              "#9c179e"
             ],
             [
              0.4444444444444444,
              "#bd3786"
             ],
             [
              0.5555555555555556,
              "#d8576b"
             ],
             [
              0.6666666666666666,
              "#ed7953"
             ],
             [
              0.7777777777777778,
              "#fb9f3a"
             ],
             [
              0.8888888888888888,
              "#fdca26"
             ],
             [
              1,
              "#f0f921"
             ]
            ],
            "type": "histogram2dcontour"
           }
          ],
          "mesh3d": [
           {
            "colorbar": {
             "outlinewidth": 0,
             "ticks": ""
            },
            "type": "mesh3d"
           }
          ],
          "parcoords": [
           {
            "line": {
             "colorbar": {
              "outlinewidth": 0,
              "ticks": ""
             }
            },
            "type": "parcoords"
           }
          ],
          "pie": [
           {
            "automargin": true,
            "type": "pie"
           }
          ],
          "scatter": [
           {
            "marker": {
             "colorbar": {
              "outlinewidth": 0,
              "ticks": ""
             }
            },
            "type": "scatter"
           }
          ],
          "scatter3d": [
           {
            "line": {
             "colorbar": {
              "outlinewidth": 0,
              "ticks": ""
             }
            },
            "marker": {
             "colorbar": {
              "outlinewidth": 0,
              "ticks": ""
             }
            },
            "type": "scatter3d"
           }
          ],
          "scattercarpet": [
           {
            "marker": {
             "colorbar": {
              "outlinewidth": 0,
              "ticks": ""
             }
            },
            "type": "scattercarpet"
           }
          ],
          "scattergeo": [
           {
            "marker": {
             "colorbar": {
              "outlinewidth": 0,
              "ticks": ""
             }
            },
            "type": "scattergeo"
           }
          ],
          "scattergl": [
           {
            "marker": {
             "colorbar": {
              "outlinewidth": 0,
              "ticks": ""
             }
            },
            "type": "scattergl"
           }
          ],
          "scattermapbox": [
           {
            "marker": {
             "colorbar": {
              "outlinewidth": 0,
              "ticks": ""
             }
            },
            "type": "scattermapbox"
           }
          ],
          "scatterpolar": [
           {
            "marker": {
             "colorbar": {
              "outlinewidth": 0,
              "ticks": ""
             }
            },
            "type": "scatterpolar"
           }
          ],
          "scatterpolargl": [
           {
            "marker": {
             "colorbar": {
              "outlinewidth": 0,
              "ticks": ""
             }
            },
            "type": "scatterpolargl"
           }
          ],
          "scatterternary": [
           {
            "marker": {
             "colorbar": {
              "outlinewidth": 0,
              "ticks": ""
             }
            },
            "type": "scatterternary"
           }
          ],
          "surface": [
           {
            "colorbar": {
             "outlinewidth": 0,
             "ticks": ""
            },
            "colorscale": [
             [
              0,
              "#0d0887"
             ],
             [
              0.1111111111111111,
              "#46039f"
             ],
             [
              0.2222222222222222,
              "#7201a8"
             ],
             [
              0.3333333333333333,
              "#9c179e"
             ],
             [
              0.4444444444444444,
              "#bd3786"
             ],
             [
              0.5555555555555556,
              "#d8576b"
             ],
             [
              0.6666666666666666,
              "#ed7953"
             ],
             [
              0.7777777777777778,
              "#fb9f3a"
             ],
             [
              0.8888888888888888,
              "#fdca26"
             ],
             [
              1,
              "#f0f921"
             ]
            ],
            "type": "surface"
           }
          ],
          "table": [
           {
            "cells": {
             "fill": {
              "color": "#EBF0F8"
             },
             "line": {
              "color": "white"
             }
            },
            "header": {
             "fill": {
              "color": "#C8D4E3"
             },
             "line": {
              "color": "white"
             }
            },
            "type": "table"
           }
          ]
         },
         "layout": {
          "annotationdefaults": {
           "arrowcolor": "#2a3f5f",
           "arrowhead": 0,
           "arrowwidth": 1
          },
          "autotypenumbers": "strict",
          "coloraxis": {
           "colorbar": {
            "outlinewidth": 0,
            "ticks": ""
           }
          },
          "colorscale": {
           "diverging": [
            [
             0,
             "#8e0152"
            ],
            [
             0.1,
             "#c51b7d"
            ],
            [
             0.2,
             "#de77ae"
            ],
            [
             0.3,
             "#f1b6da"
            ],
            [
             0.4,
             "#fde0ef"
            ],
            [
             0.5,
             "#f7f7f7"
            ],
            [
             0.6,
             "#e6f5d0"
            ],
            [
             0.7,
             "#b8e186"
            ],
            [
             0.8,
             "#7fbc41"
            ],
            [
             0.9,
             "#4d9221"
            ],
            [
             1,
             "#276419"
            ]
           ],
           "sequential": [
            [
             0,
             "#0d0887"
            ],
            [
             0.1111111111111111,
             "#46039f"
            ],
            [
             0.2222222222222222,
             "#7201a8"
            ],
            [
             0.3333333333333333,
             "#9c179e"
            ],
            [
             0.4444444444444444,
             "#bd3786"
            ],
            [
             0.5555555555555556,
             "#d8576b"
            ],
            [
             0.6666666666666666,
             "#ed7953"
            ],
            [
             0.7777777777777778,
             "#fb9f3a"
            ],
            [
             0.8888888888888888,
             "#fdca26"
            ],
            [
             1,
             "#f0f921"
            ]
           ],
           "sequentialminus": [
            [
             0,
             "#0d0887"
            ],
            [
             0.1111111111111111,
             "#46039f"
            ],
            [
             0.2222222222222222,
             "#7201a8"
            ],
            [
             0.3333333333333333,
             "#9c179e"
            ],
            [
             0.4444444444444444,
             "#bd3786"
            ],
            [
             0.5555555555555556,
             "#d8576b"
            ],
            [
             0.6666666666666666,
             "#ed7953"
            ],
            [
             0.7777777777777778,
             "#fb9f3a"
            ],
            [
             0.8888888888888888,
             "#fdca26"
            ],
            [
             1,
             "#f0f921"
            ]
           ]
          },
          "colorway": [
           "#636efa",
           "#EF553B",
           "#00cc96",
           "#ab63fa",
           "#FFA15A",
           "#19d3f3",
           "#FF6692",
           "#B6E880",
           "#FF97FF",
           "#FECB52"
          ],
          "font": {
           "color": "#2a3f5f"
          },
          "geo": {
           "bgcolor": "white",
           "lakecolor": "white",
           "landcolor": "#E5ECF6",
           "showlakes": true,
           "showland": true,
           "subunitcolor": "white"
          },
          "hoverlabel": {
           "align": "left"
          },
          "hovermode": "closest",
          "mapbox": {
           "style": "light"
          },
          "paper_bgcolor": "white",
          "plot_bgcolor": "#E5ECF6",
          "polar": {
           "angularaxis": {
            "gridcolor": "white",
            "linecolor": "white",
            "ticks": ""
           },
           "bgcolor": "#E5ECF6",
           "radialaxis": {
            "gridcolor": "white",
            "linecolor": "white",
            "ticks": ""
           }
          },
          "scene": {
           "xaxis": {
            "backgroundcolor": "#E5ECF6",
            "gridcolor": "white",
            "gridwidth": 2,
            "linecolor": "white",
            "showbackground": true,
            "ticks": "",
            "zerolinecolor": "white"
           },
           "yaxis": {
            "backgroundcolor": "#E5ECF6",
            "gridcolor": "white",
            "gridwidth": 2,
            "linecolor": "white",
            "showbackground": true,
            "ticks": "",
            "zerolinecolor": "white"
           },
           "zaxis": {
            "backgroundcolor": "#E5ECF6",
            "gridcolor": "white",
            "gridwidth": 2,
            "linecolor": "white",
            "showbackground": true,
            "ticks": "",
            "zerolinecolor": "white"
           }
          },
          "shapedefaults": {
           "line": {
            "color": "#2a3f5f"
           }
          },
          "ternary": {
           "aaxis": {
            "gridcolor": "white",
            "linecolor": "white",
            "ticks": ""
           },
           "baxis": {
            "gridcolor": "white",
            "linecolor": "white",
            "ticks": ""
           },
           "bgcolor": "#E5ECF6",
           "caxis": {
            "gridcolor": "white",
            "linecolor": "white",
            "ticks": ""
           }
          },
          "title": {
           "x": 0.05
          },
          "xaxis": {
           "automargin": true,
           "gridcolor": "white",
           "linecolor": "white",
           "ticks": "",
           "title": {
            "standoff": 15
           },
           "zerolinecolor": "white",
           "zerolinewidth": 2
          },
          "yaxis": {
           "automargin": true,
           "gridcolor": "white",
           "linecolor": "white",
           "ticks": "",
           "title": {
            "standoff": 15
           },
           "zerolinecolor": "white",
           "zerolinewidth": 2
          }
         }
        },
        "title": {
         "font": {
          "size": 20
         },
         "text": "<b>NUMBER OF PARCELS PER CARRIER</b>",
         "x": 0.5,
         "y": 0.9
        },
        "width": 1000,
        "xaxis": {
         "range": [
          0,
          4000
         ]
        }
       }
      }
     },
     "metadata": {},
     "output_type": "display_data"
    }
   ],
   "source": [
    "# PREPARE DATA\n",
    "from plotly.subplots import make_subplots\n",
    "summary_tbl = normal_edd_tbl.groupby('carrier_name').agg(\n",
    "    # EDD_count = ('parcel_id', 'count'),\n",
    "    parcels_count = ('parcel_id', 'nunique')\n",
    ").reset_index().sort_values('parcels_count', ascending=True)\n",
    "\n",
    "summary_tbl.iloc[:,1:3] = summary_tbl.iloc[:,1:3].astype(int)\n",
    "summary_tbl.set_index('carrier_name', inplace=True)\n",
    "summary_tbl.loc['All carriers',:] = summary_tbl.iloc[:,:].sum(axis=0, numeric_only=True)\n",
    "summary_tbl['perc_parcels_%'] = summary_tbl['parcels_count'] / TOTAL_PARCELS * 100\n",
    "summary_tbl.reset_index(inplace=True)\n",
    "summary_tbl.iloc[:,1] = summary_tbl.iloc[:,1].astype(int)\n",
    "display(summary_tbl)\n",
    "\n",
    "plot_data = summary_tbl.iloc[:-1].copy()\n",
    "# fig = make_subplots(specs=[[{\"secondary_y\": True}]])\n",
    "fig=go.Figure()\n",
    "fig.add_trace(go.Bar(\n",
    "                    y=plot_data['carrier_name'], \n",
    "                    x=plot_data['parcels_count'], orientation='h',\n",
    "                    name='Parcels count', marker_color='darkblue',\n",
    "                    customdata=plot_data['perc_parcels_%'],\n",
    "                    texttemplate = '%{x:,.0f} parcels<br>(%{customdata:.2f} %)',\n",
    "                    textposition='outside'\n",
    "                    ))\n",
    "# fig.add_trace(go.Scatter(\n",
    "#                     x=plot_data['carrier_name'], \n",
    "#                     y=plot_data['EDD_count'], name='EDDs count',\n",
    "#                     mode='markers+lines+text',\n",
    "#                     texttemplate = '%{y:,.0f}',\n",
    "#                     textposition='top right', textfont_color='red'\n",
    "# ))\n",
    "\n",
    "fig.update_layout(\n",
    "    width=1000,\n",
    "    height=500,\n",
    "    title='<b>NUMBER OF PARCELS PER CARRIER</b>', title_font={'size':20},\n",
    "    title_x=.5, title_y=.9,\n",
    "    xaxis={'range': [0,4000]}, \n",
    "    # yaxis2={'range': [0,4500]}, \n",
    ")\n",
    "fig.show()"
   ]
  },
  {
   "cell_type": "code",
   "execution_count": 3275,
   "metadata": {},
   "outputs": [
    {
     "name": "stdout",
     "output_type": "stream",
     "text": [
      "\n",
      "Initech has the highest amount of deliveries (3,069 parcels) which takes up 95.76 % of total deliveries.\n",
      "\n",
      "Where as Globex has the lowest volume (45 parcels) and take up 1.40 % of total volume.\n",
      "\n",
      "Massive's volume is also very low compared to Initech's, it has 91 parcels which account for 2.84 % total volume.\n"
     ]
    }
   ],
   "source": [
    "summary_tbl.set_index('carrier_name', inplace=True)\n",
    "\n",
    "print(f'''\n",
    "Initech has the highest amount of deliveries ({summary_tbl.loc[\"Initech\", \"parcels_count\"]:,.0f} parcels) which takes up {summary_tbl.loc[\"Initech\", \"perc_parcels_%\"]:.2f} % of total deliveries.\n",
    "\n",
    "Where as Globex has the lowest volume ({summary_tbl.loc[\"Globex\", \"parcels_count\"]:,.0f} parcels) and take up {summary_tbl.loc[\"Globex\", \"perc_parcels_%\"]:.2f} % of total volume.\n",
    "\n",
    "Massive's volume is also very low compared to Initech's, it has {summary_tbl.loc[\"Massive\", \"parcels_count\"]:,.0f} parcels which account for {summary_tbl.loc[\"Massive\", \"perc_parcels_%\"]:.2f} % total volume.''')"
   ]
  },
  {
   "cell_type": "markdown",
   "metadata": {},
   "source": [
    "#### 5. EDD FREQUENCY "
   ]
  },
  {
   "cell_type": "code",
   "execution_count": 3276,
   "metadata": {},
   "outputs": [
    {
     "name": "stdout",
     "output_type": "stream",
     "text": [
      "PERCENTAGE OF PARCELS HAVING ONLY 1 UNIQUE EDD = 80.37 % (2,576 parcels)\n",
      "PERCENTAGE OF PARCELS HAVING\t> 1 UNIQUE EDD = 19.63 % (629 parcels)\n"
     ]
    }
   ],
   "source": [
    "# PREPARE DATA\n",
    "# ADD INTERVAL BW LOGS COLUMN\n",
    "tmp = pd.concat([normal_edd_tbl[['parcel_id']], normal_edd_tbl.groupby('parcel_id')['log_timestamp'].shift(1)], axis=1) # SHIFT LOG_TIMESTAMP DOWN 1 ROW AND CONCAT TO ORIGINAL LOG\n",
    "tmp.columns = ['parcel_id', 'previous_log_timestamp']\n",
    "normal_edd_concat_tbl = normal_edd_tbl.merge(tmp[['previous_log_timestamp']], how='inner', left_index=True, right_index=True)\n",
    "normal_edd_concat_tbl['interval_bw_logs'] = (normal_edd_concat_tbl['log_timestamp'] - normal_edd_concat_tbl['previous_log_timestamp']) / pd.Timedelta(1, \"D\")\n",
    "\n",
    "# CALCULATE FREQ & INTERVAL PER PARCEL\n",
    "normal_edd_freq_interval = normal_edd_concat_tbl.groupby('parcel_id').agg(\n",
    "    EDD_freq_per_parcel = ('log_timestamp', 'count'),\n",
    "    avg_days_bw_EDD_per_parcel = ('interval_bw_logs', 'mean'),\n",
    "    # delivery_duration_days = ('delivery_duration_days', 'first')\n",
    ").reset_index()\n",
    "\n",
    "# PARCELS HAVING 1 EDD\n",
    "ONE_EDD_PARCELS = normal_edd_freq_interval[normal_edd_freq_interval['EDD_freq_per_parcel']==1].parcel_id.unique()\n",
    "COUNT_ONE_EDD = len(ONE_EDD_PARCELS)\n",
    "PERC_ONE_EDD_FREQ = COUNT_ONE_EDD / TOTAL_PARCELS * 100\n",
    "print(f'PERCENTAGE OF PARCELS HAVING ONLY 1 UNIQUE EDD = {PERC_ONE_EDD_FREQ:.2f} % ({COUNT_ONE_EDD:,} parcels)')\n",
    "\n",
    "# PARCELS HAVING > 1 EDD\n",
    "MULTI_EDD_PARCELS = normal_edd_freq_interval[normal_edd_freq_interval['EDD_freq_per_parcel'] > 1].parcel_id.unique()\n",
    "COUNT_MULTI_EDD = len(MULTI_EDD_PARCELS)\n",
    "PERC_MULTI_EDD_FREQ = COUNT_MULTI_EDD / TOTAL_PARCELS * 100\n",
    "print(f'PERCENTAGE OF PARCELS HAVING\\t> 1 UNIQUE EDD = {PERC_MULTI_EDD_FREQ:.2f} % ({COUNT_MULTI_EDD:,} parcels)')"
   ]
  },
  {
   "cell_type": "markdown",
   "metadata": {},
   "source": [
    "### **II. SUCCESSFUL DELIVERY PERCENTAGE ON FIRST ATTEMPT**"
   ]
  },
  {
   "cell_type": "markdown",
   "metadata": {},
   "source": [
    "##### 1. MULTI DELIVERY PERCENTAGE"
   ]
  },
  {
   "cell_type": "code",
   "execution_count": 3348,
   "metadata": {},
   "outputs": [
    {
     "name": "stdout",
     "output_type": "stream",
     "text": [
      "13.95% (447 parcels) PARCELS WERE DELIVERED AFTER MULTIPLE TIMES\n"
     ]
    }
   ],
   "source": [
    "COUNT_MULTI_DELIVERY = normal_edd_tbl[normal_edd_tbl['first_attempt_date'] != normal_edd_tbl['final_delivery_date']].parcel_id.nunique()\n",
    "PERC_MULTI_DELIVERY = COUNT_MULTI_DELIVERY / TOTAL_PARCELS * 100\n",
    "print(f'{round(PERC_MULTI_DELIVERY,2)}% ({COUNT_MULTI_DELIVERY:,} parcels) PARCELS WERE DELIVERED AFTER MULTIPLE TIMES')"
   ]
  },
  {
   "cell_type": "markdown",
   "metadata": {},
   "source": [
    "##### 2. ONE-TIME DELIVERY PERCENTAGE"
   ]
  },
  {
   "cell_type": "code",
   "execution_count": 3347,
   "metadata": {},
   "outputs": [
    {
     "name": "stdout",
     "output_type": "stream",
     "text": [
      "86.05% (2,758 parcels) PARCELS WERE DELIVERED AFTER ONE TIME\n"
     ]
    }
   ],
   "source": [
    "COUNT_ONETIME_DELIVERY = normal_edd_tbl[normal_edd_tbl['first_attempt_date'] == normal_edd_tbl['final_delivery_date']].parcel_id.nunique()\n",
    "PERC_ONETIME_DELIVERY = COUNT_ONETIME_DELIVERY / TOTAL_PARCELS * 100\n",
    "print(f'{round(PERC_ONETIME_DELIVERY,2)}% ({COUNT_ONETIME_DELIVERY:,} parcels) PARCELS WERE DELIVERED AFTER ONE TIME')"
   ]
  },
  {
   "cell_type": "markdown",
   "metadata": {},
   "source": [
    "##### 3. PERCENTAGE PLOT"
   ]
  },
  {
   "cell_type": "code",
   "execution_count": 3279,
   "metadata": {},
   "outputs": [
    {
     "data": {
      "application/vnd.plotly.v1+json": {
       "config": {
        "plotlyServerURL": "https://plot.ly"
       },
       "data": [
        {
         "marker": {
          "color": "darkblue"
         },
         "name": "is_onetime",
         "textfont": {
          "color": "white"
         },
         "textposition": "inside",
         "texttemplate": [
          "90.11%<br>(82 parcels)",
          "86.67%<br>(39 parcels)",
          "85.92%<br>(2,637 parcels)"
         ],
         "type": "bar",
         "x": [
          "Massive",
          "Globex",
          "Initech"
         ],
         "y": [
          90.10989010989012,
          86.66666666666667,
          85.92375366568915
         ]
        },
        {
         "marker": {
          "color": "cornflowerblue"
         },
         "name": "is_multitime",
         "textfont": {
          "color": "white"
         },
         "textposition": "inside",
         "texttemplate": [
          "9.89%<br>(9 parcels)",
          "13.33%<br>(6 parcels)",
          "14.08%<br>(432 parcels)"
         ],
         "type": "bar",
         "x": [
          "Massive",
          "Globex",
          "Initech"
         ],
         "y": [
          9.89010989010989,
          13.333333333333334,
          14.076246334310852
         ]
        }
       ],
       "layout": {
        "barmode": "stack",
        "height": 600,
        "template": {
         "data": {
          "bar": [
           {
            "error_x": {
             "color": "#2a3f5f"
            },
            "error_y": {
             "color": "#2a3f5f"
            },
            "marker": {
             "line": {
              "color": "#E5ECF6",
              "width": 0.5
             },
             "pattern": {
              "fillmode": "overlay",
              "size": 10,
              "solidity": 0.2
             }
            },
            "type": "bar"
           }
          ],
          "barpolar": [
           {
            "marker": {
             "line": {
              "color": "#E5ECF6",
              "width": 0.5
             },
             "pattern": {
              "fillmode": "overlay",
              "size": 10,
              "solidity": 0.2
             }
            },
            "type": "barpolar"
           }
          ],
          "carpet": [
           {
            "aaxis": {
             "endlinecolor": "#2a3f5f",
             "gridcolor": "white",
             "linecolor": "white",
             "minorgridcolor": "white",
             "startlinecolor": "#2a3f5f"
            },
            "baxis": {
             "endlinecolor": "#2a3f5f",
             "gridcolor": "white",
             "linecolor": "white",
             "minorgridcolor": "white",
             "startlinecolor": "#2a3f5f"
            },
            "type": "carpet"
           }
          ],
          "choropleth": [
           {
            "colorbar": {
             "outlinewidth": 0,
             "ticks": ""
            },
            "type": "choropleth"
           }
          ],
          "contour": [
           {
            "colorbar": {
             "outlinewidth": 0,
             "ticks": ""
            },
            "colorscale": [
             [
              0,
              "#0d0887"
             ],
             [
              0.1111111111111111,
              "#46039f"
             ],
             [
              0.2222222222222222,
              "#7201a8"
             ],
             [
              0.3333333333333333,
              "#9c179e"
             ],
             [
              0.4444444444444444,
              "#bd3786"
             ],
             [
              0.5555555555555556,
              "#d8576b"
             ],
             [
              0.6666666666666666,
              "#ed7953"
             ],
             [
              0.7777777777777778,
              "#fb9f3a"
             ],
             [
              0.8888888888888888,
              "#fdca26"
             ],
             [
              1,
              "#f0f921"
             ]
            ],
            "type": "contour"
           }
          ],
          "contourcarpet": [
           {
            "colorbar": {
             "outlinewidth": 0,
             "ticks": ""
            },
            "type": "contourcarpet"
           }
          ],
          "heatmap": [
           {
            "colorbar": {
             "outlinewidth": 0,
             "ticks": ""
            },
            "colorscale": [
             [
              0,
              "#0d0887"
             ],
             [
              0.1111111111111111,
              "#46039f"
             ],
             [
              0.2222222222222222,
              "#7201a8"
             ],
             [
              0.3333333333333333,
              "#9c179e"
             ],
             [
              0.4444444444444444,
              "#bd3786"
             ],
             [
              0.5555555555555556,
              "#d8576b"
             ],
             [
              0.6666666666666666,
              "#ed7953"
             ],
             [
              0.7777777777777778,
              "#fb9f3a"
             ],
             [
              0.8888888888888888,
              "#fdca26"
             ],
             [
              1,
              "#f0f921"
             ]
            ],
            "type": "heatmap"
           }
          ],
          "heatmapgl": [
           {
            "colorbar": {
             "outlinewidth": 0,
             "ticks": ""
            },
            "colorscale": [
             [
              0,
              "#0d0887"
             ],
             [
              0.1111111111111111,
              "#46039f"
             ],
             [
              0.2222222222222222,
              "#7201a8"
             ],
             [
              0.3333333333333333,
              "#9c179e"
             ],
             [
              0.4444444444444444,
              "#bd3786"
             ],
             [
              0.5555555555555556,
              "#d8576b"
             ],
             [
              0.6666666666666666,
              "#ed7953"
             ],
             [
              0.7777777777777778,
              "#fb9f3a"
             ],
             [
              0.8888888888888888,
              "#fdca26"
             ],
             [
              1,
              "#f0f921"
             ]
            ],
            "type": "heatmapgl"
           }
          ],
          "histogram": [
           {
            "marker": {
             "pattern": {
              "fillmode": "overlay",
              "size": 10,
              "solidity": 0.2
             }
            },
            "type": "histogram"
           }
          ],
          "histogram2d": [
           {
            "colorbar": {
             "outlinewidth": 0,
             "ticks": ""
            },
            "colorscale": [
             [
              0,
              "#0d0887"
             ],
             [
              0.1111111111111111,
              "#46039f"
             ],
             [
              0.2222222222222222,
              "#7201a8"
             ],
             [
              0.3333333333333333,
              "#9c179e"
             ],
             [
              0.4444444444444444,
              "#bd3786"
             ],
             [
              0.5555555555555556,
              "#d8576b"
             ],
             [
              0.6666666666666666,
              "#ed7953"
             ],
             [
              0.7777777777777778,
              "#fb9f3a"
             ],
             [
              0.8888888888888888,
              "#fdca26"
             ],
             [
              1,
              "#f0f921"
             ]
            ],
            "type": "histogram2d"
           }
          ],
          "histogram2dcontour": [
           {
            "colorbar": {
             "outlinewidth": 0,
             "ticks": ""
            },
            "colorscale": [
             [
              0,
              "#0d0887"
             ],
             [
              0.1111111111111111,
              "#46039f"
             ],
             [
              0.2222222222222222,
              "#7201a8"
             ],
             [
              0.3333333333333333,
              "#9c179e"
             ],
             [
              0.4444444444444444,
              "#bd3786"
             ],
             [
              0.5555555555555556,
              "#d8576b"
             ],
             [
              0.6666666666666666,
              "#ed7953"
             ],
             [
              0.7777777777777778,
              "#fb9f3a"
             ],
             [
              0.8888888888888888,
              "#fdca26"
             ],
             [
              1,
              "#f0f921"
             ]
            ],
            "type": "histogram2dcontour"
           }
          ],
          "mesh3d": [
           {
            "colorbar": {
             "outlinewidth": 0,
             "ticks": ""
            },
            "type": "mesh3d"
           }
          ],
          "parcoords": [
           {
            "line": {
             "colorbar": {
              "outlinewidth": 0,
              "ticks": ""
             }
            },
            "type": "parcoords"
           }
          ],
          "pie": [
           {
            "automargin": true,
            "type": "pie"
           }
          ],
          "scatter": [
           {
            "marker": {
             "colorbar": {
              "outlinewidth": 0,
              "ticks": ""
             }
            },
            "type": "scatter"
           }
          ],
          "scatter3d": [
           {
            "line": {
             "colorbar": {
              "outlinewidth": 0,
              "ticks": ""
             }
            },
            "marker": {
             "colorbar": {
              "outlinewidth": 0,
              "ticks": ""
             }
            },
            "type": "scatter3d"
           }
          ],
          "scattercarpet": [
           {
            "marker": {
             "colorbar": {
              "outlinewidth": 0,
              "ticks": ""
             }
            },
            "type": "scattercarpet"
           }
          ],
          "scattergeo": [
           {
            "marker": {
             "colorbar": {
              "outlinewidth": 0,
              "ticks": ""
             }
            },
            "type": "scattergeo"
           }
          ],
          "scattergl": [
           {
            "marker": {
             "colorbar": {
              "outlinewidth": 0,
              "ticks": ""
             }
            },
            "type": "scattergl"
           }
          ],
          "scattermapbox": [
           {
            "marker": {
             "colorbar": {
              "outlinewidth": 0,
              "ticks": ""
             }
            },
            "type": "scattermapbox"
           }
          ],
          "scatterpolar": [
           {
            "marker": {
             "colorbar": {
              "outlinewidth": 0,
              "ticks": ""
             }
            },
            "type": "scatterpolar"
           }
          ],
          "scatterpolargl": [
           {
            "marker": {
             "colorbar": {
              "outlinewidth": 0,
              "ticks": ""
             }
            },
            "type": "scatterpolargl"
           }
          ],
          "scatterternary": [
           {
            "marker": {
             "colorbar": {
              "outlinewidth": 0,
              "ticks": ""
             }
            },
            "type": "scatterternary"
           }
          ],
          "surface": [
           {
            "colorbar": {
             "outlinewidth": 0,
             "ticks": ""
            },
            "colorscale": [
             [
              0,
              "#0d0887"
             ],
             [
              0.1111111111111111,
              "#46039f"
             ],
             [
              0.2222222222222222,
              "#7201a8"
             ],
             [
              0.3333333333333333,
              "#9c179e"
             ],
             [
              0.4444444444444444,
              "#bd3786"
             ],
             [
              0.5555555555555556,
              "#d8576b"
             ],
             [
              0.6666666666666666,
              "#ed7953"
             ],
             [
              0.7777777777777778,
              "#fb9f3a"
             ],
             [
              0.8888888888888888,
              "#fdca26"
             ],
             [
              1,
              "#f0f921"
             ]
            ],
            "type": "surface"
           }
          ],
          "table": [
           {
            "cells": {
             "fill": {
              "color": "#EBF0F8"
             },
             "line": {
              "color": "white"
             }
            },
            "header": {
             "fill": {
              "color": "#C8D4E3"
             },
             "line": {
              "color": "white"
             }
            },
            "type": "table"
           }
          ]
         },
         "layout": {
          "annotationdefaults": {
           "arrowcolor": "#2a3f5f",
           "arrowhead": 0,
           "arrowwidth": 1
          },
          "autotypenumbers": "strict",
          "coloraxis": {
           "colorbar": {
            "outlinewidth": 0,
            "ticks": ""
           }
          },
          "colorscale": {
           "diverging": [
            [
             0,
             "#8e0152"
            ],
            [
             0.1,
             "#c51b7d"
            ],
            [
             0.2,
             "#de77ae"
            ],
            [
             0.3,
             "#f1b6da"
            ],
            [
             0.4,
             "#fde0ef"
            ],
            [
             0.5,
             "#f7f7f7"
            ],
            [
             0.6,
             "#e6f5d0"
            ],
            [
             0.7,
             "#b8e186"
            ],
            [
             0.8,
             "#7fbc41"
            ],
            [
             0.9,
             "#4d9221"
            ],
            [
             1,
             "#276419"
            ]
           ],
           "sequential": [
            [
             0,
             "#0d0887"
            ],
            [
             0.1111111111111111,
             "#46039f"
            ],
            [
             0.2222222222222222,
             "#7201a8"
            ],
            [
             0.3333333333333333,
             "#9c179e"
            ],
            [
             0.4444444444444444,
             "#bd3786"
            ],
            [
             0.5555555555555556,
             "#d8576b"
            ],
            [
             0.6666666666666666,
             "#ed7953"
            ],
            [
             0.7777777777777778,
             "#fb9f3a"
            ],
            [
             0.8888888888888888,
             "#fdca26"
            ],
            [
             1,
             "#f0f921"
            ]
           ],
           "sequentialminus": [
            [
             0,
             "#0d0887"
            ],
            [
             0.1111111111111111,
             "#46039f"
            ],
            [
             0.2222222222222222,
             "#7201a8"
            ],
            [
             0.3333333333333333,
             "#9c179e"
            ],
            [
             0.4444444444444444,
             "#bd3786"
            ],
            [
             0.5555555555555556,
             "#d8576b"
            ],
            [
             0.6666666666666666,
             "#ed7953"
            ],
            [
             0.7777777777777778,
             "#fb9f3a"
            ],
            [
             0.8888888888888888,
             "#fdca26"
            ],
            [
             1,
             "#f0f921"
            ]
           ]
          },
          "colorway": [
           "#636efa",
           "#EF553B",
           "#00cc96",
           "#ab63fa",
           "#FFA15A",
           "#19d3f3",
           "#FF6692",
           "#B6E880",
           "#FF97FF",
           "#FECB52"
          ],
          "font": {
           "color": "#2a3f5f"
          },
          "geo": {
           "bgcolor": "white",
           "lakecolor": "white",
           "landcolor": "#E5ECF6",
           "showlakes": true,
           "showland": true,
           "subunitcolor": "white"
          },
          "hoverlabel": {
           "align": "left"
          },
          "hovermode": "closest",
          "mapbox": {
           "style": "light"
          },
          "paper_bgcolor": "white",
          "plot_bgcolor": "#E5ECF6",
          "polar": {
           "angularaxis": {
            "gridcolor": "white",
            "linecolor": "white",
            "ticks": ""
           },
           "bgcolor": "#E5ECF6",
           "radialaxis": {
            "gridcolor": "white",
            "linecolor": "white",
            "ticks": ""
           }
          },
          "scene": {
           "xaxis": {
            "backgroundcolor": "#E5ECF6",
            "gridcolor": "white",
            "gridwidth": 2,
            "linecolor": "white",
            "showbackground": true,
            "ticks": "",
            "zerolinecolor": "white"
           },
           "yaxis": {
            "backgroundcolor": "#E5ECF6",
            "gridcolor": "white",
            "gridwidth": 2,
            "linecolor": "white",
            "showbackground": true,
            "ticks": "",
            "zerolinecolor": "white"
           },
           "zaxis": {
            "backgroundcolor": "#E5ECF6",
            "gridcolor": "white",
            "gridwidth": 2,
            "linecolor": "white",
            "showbackground": true,
            "ticks": "",
            "zerolinecolor": "white"
           }
          },
          "shapedefaults": {
           "line": {
            "color": "#2a3f5f"
           }
          },
          "ternary": {
           "aaxis": {
            "gridcolor": "white",
            "linecolor": "white",
            "ticks": ""
           },
           "baxis": {
            "gridcolor": "white",
            "linecolor": "white",
            "ticks": ""
           },
           "bgcolor": "#E5ECF6",
           "caxis": {
            "gridcolor": "white",
            "linecolor": "white",
            "ticks": ""
           }
          },
          "title": {
           "x": 0.05
          },
          "xaxis": {
           "automargin": true,
           "gridcolor": "white",
           "linecolor": "white",
           "ticks": "",
           "title": {
            "standoff": 15
           },
           "zerolinecolor": "white",
           "zerolinewidth": 2
          },
          "yaxis": {
           "automargin": true,
           "gridcolor": "white",
           "linecolor": "white",
           "ticks": "",
           "title": {
            "standoff": 15
           },
           "zerolinecolor": "white",
           "zerolinewidth": 2
          }
         }
        },
        "title": {
         "font": {
          "size": 20
         },
         "text": "<b>ONETIME VS MULTITIME DELIVERY PER CARRIER</b>",
         "x": 0.5,
         "y": 0.9
        },
        "width": 1000,
        "xaxis": {
         "showgrid": false
        },
        "yaxis": {
         "title": {
          "text": "Percentage %"
         }
        }
       }
      }
     },
     "metadata": {},
     "output_type": "display_data"
    }
   ],
   "source": [
    "def func(df):\n",
    "    cols = {\n",
    "    'is_onetime' : df[df['first_attempt_date'] == df['final_delivery_date']]['parcel_id'].nunique(),\n",
    "    'is_multitime' : df[df['first_attempt_date'] != df['final_delivery_date']]['parcel_id'].nunique(),\n",
    "    'perc_is_onetime' : df[df['first_attempt_date'] == df['final_delivery_date']]['parcel_id'].nunique() / df['parcel_id'].nunique() * 100,\n",
    "    'perc_is_multitime' : df[df['first_attempt_date'] != df['final_delivery_date']]['parcel_id'].nunique() / df['parcel_id'].nunique() * 100,\n",
    "    }\n",
    "    return pd.Series(cols)\n",
    "plot_data = normal_edd_tbl.groupby('carrier_name').apply(func).reset_index().sort_values('perc_is_onetime', ascending=False)\n",
    "\n",
    "fig = go.Figure()\n",
    "\n",
    "fig.add_trace(go.Bar(x=plot_data['carrier_name'], y=plot_data['perc_is_onetime'],\n",
    "                     texttemplate=[f'{x:.2f}%<br>({y:,.0f} parcels)' for x,y in zip(plot_data['perc_is_onetime'], plot_data['is_onetime'])],\n",
    "                      marker_color='darkblue', name='is_onetime'))\n",
    "fig.add_trace(go.Bar(x=plot_data['carrier_name'], y=plot_data['perc_is_multitime'], \n",
    "                     texttemplate=[f'{x:.2f}%<br>({y:,.0f} parcels)' for x,y in zip(plot_data['perc_is_multitime'], plot_data['is_multitime'])],\n",
    "                     marker_color='cornflowerblue', name='is_multitime'))\n",
    "\n",
    "fig.update_layout(barmode='stack')\n",
    "fig.update_traces(textposition='inside', textfont_color='white')\n",
    "fig.update_layout(\n",
    "    width=1000,\n",
    "    height=600,\n",
    "    title='<b>ONETIME VS MULTITIME DELIVERY PER CARRIER</b>', title_font={'size':20},\n",
    "    title_x=.5, title_y=.9,\n",
    "    xaxis={'showgrid':False}, \n",
    "    yaxis={'title':'Percentage %'}\n",
    ")\n",
    "fig.show()"
   ]
  },
  {
   "cell_type": "markdown",
   "metadata": {},
   "source": [
    "Higher onetime delivery % meaning carrier has more percentage of successful deliveriy on first attempt.\n",
    "\n",
    "Massive has the highest first attempt success rate whereas Globex has the lowest.\n",
    "\n",
    "All 3 carriers has > 85% first attempt successful delivery."
   ]
  },
  {
   "cell_type": "markdown",
   "metadata": {},
   "source": [
    "### **III. EDDs ACCURACY**"
   ]
  },
  {
   "cell_type": "markdown",
   "metadata": {},
   "source": [
    "#### 1. LAST NORMAL EDDs"
   ]
  },
  {
   "cell_type": "markdown",
   "metadata": {},
   "source": [
    "Here I will calculate accuracy of only the last EDD log per each normal parcel."
   ]
  },
  {
   "cell_type": "code",
   "execution_count": 3282,
   "metadata": {},
   "outputs": [
    {
     "data": {
      "text/html": [
       "<div>\n",
       "<style scoped>\n",
       "    .dataframe tbody tr th:only-of-type {\n",
       "        vertical-align: middle;\n",
       "    }\n",
       "\n",
       "    .dataframe tbody tr th {\n",
       "        vertical-align: top;\n",
       "    }\n",
       "\n",
       "    .dataframe thead th {\n",
       "        text-align: right;\n",
       "    }\n",
       "</style>\n",
       "<table border=\"1\" class=\"dataframe\">\n",
       "  <thead>\n",
       "    <tr style=\"text-align: right;\">\n",
       "      <th></th>\n",
       "      <th>carrier_name</th>\n",
       "      <th>total_parcels</th>\n",
       "      <th>parcels_with_accurate_EDDs</th>\n",
       "      <th>parcels_with_inaccurate_EDDs</th>\n",
       "      <th>perc_parcels_with_accurate_EDDs_%</th>\n",
       "      <th>perc_parcels_with_inaccurate_EDDs_%</th>\n",
       "    </tr>\n",
       "  </thead>\n",
       "  <tbody>\n",
       "    <tr>\n",
       "      <th>0</th>\n",
       "      <td>Globex</td>\n",
       "      <td>45</td>\n",
       "      <td>42</td>\n",
       "      <td>3</td>\n",
       "      <td>93.33</td>\n",
       "      <td>6.67</td>\n",
       "    </tr>\n",
       "    <tr>\n",
       "      <th>1</th>\n",
       "      <td>Initech</td>\n",
       "      <td>3069</td>\n",
       "      <td>1140</td>\n",
       "      <td>1929</td>\n",
       "      <td>37.15</td>\n",
       "      <td>62.85</td>\n",
       "    </tr>\n",
       "    <tr>\n",
       "      <th>2</th>\n",
       "      <td>Massive</td>\n",
       "      <td>91</td>\n",
       "      <td>28</td>\n",
       "      <td>63</td>\n",
       "      <td>30.77</td>\n",
       "      <td>69.23</td>\n",
       "    </tr>\n",
       "    <tr>\n",
       "      <th>3</th>\n",
       "      <td>All carriers</td>\n",
       "      <td>3205</td>\n",
       "      <td>1210</td>\n",
       "      <td>1995</td>\n",
       "      <td>37.75</td>\n",
       "      <td>62.25</td>\n",
       "    </tr>\n",
       "  </tbody>\n",
       "</table>\n",
       "</div>"
      ],
      "text/plain": [
       "   carrier_name  total_parcels  parcels_with_accurate_EDDs  \\\n",
       "0        Globex             45                          42   \n",
       "1       Initech           3069                        1140   \n",
       "2       Massive             91                          28   \n",
       "3  All carriers           3205                        1210   \n",
       "\n",
       "   parcels_with_inaccurate_EDDs  perc_parcels_with_accurate_EDDs_%  \\\n",
       "0                             3                              93.33   \n",
       "1                          1929                              37.15   \n",
       "2                            63                              30.77   \n",
       "3                          1995                              37.75   \n",
       "\n",
       "   perc_parcels_with_inaccurate_EDDs_%  \n",
       "0                                 6.67  \n",
       "1                                62.85  \n",
       "2                                69.23  \n",
       "3                                62.25  "
      ]
     },
     "execution_count": 3282,
     "metadata": {},
     "output_type": "execute_result"
    }
   ],
   "source": [
    "# PREPARE DATA\n",
    "def func_nunique(df):\n",
    "    cols = {\n",
    "        'total_parcels': df['parcel_id'].nunique(),\n",
    "        'parcels_with_accurate_EDDs': df[df['EDD_is_accurate']==True]['parcel_id'].nunique(),\n",
    "        'parcels_with_inaccurate_EDDs': df[df['EDD_is_accurate']==False]['parcel_id'].nunique(),\n",
    "        # 'perc_parcels_with_accurate_EDDs_%': df[df['EDD_is_accurate']==True]['parcel_id'].nunique() / df['parcel_id'].nunique() * 100\n",
    "    }\n",
    "    return pd.Series(cols)\n",
    "\n",
    "last_normal_edd_tbl = normal_edd_tbl.drop_duplicates('parcel_id', keep='last')\n",
    "last_normal_edd_accuracy = last_normal_edd_tbl.groupby('carrier_name').apply(func_nunique).reset_index()\n",
    "last_normal_edd_accuracy.iloc[:,1:3] = last_normal_edd_accuracy.iloc[:,1:3].astype(int)\n",
    "last_normal_edd_accuracy.set_index('carrier_name', inplace=True)\n",
    "last_normal_edd_accuracy.loc['All carriers',:] = last_normal_edd_accuracy.iloc[:,:].sum(axis=0, numeric_only=True)\n",
    "last_normal_edd_accuracy['perc_parcels_with_accurate_EDDs_%'] = last_normal_edd_accuracy['parcels_with_accurate_EDDs'] / last_normal_edd_accuracy['total_parcels'] * 100\n",
    "last_normal_edd_accuracy['perc_parcels_with_inaccurate_EDDs_%'] = last_normal_edd_accuracy['parcels_with_inaccurate_EDDs'] / last_normal_edd_accuracy['total_parcels'] * 100\n",
    "last_normal_edd_accuracy.reset_index(inplace=True)\n",
    "last_normal_edd_accuracy.iloc[:,1:4] = last_normal_edd_accuracy.iloc[:,1:4].astype(int)\n",
    "last_normal_edd_accuracy"
   ]
  },
  {
   "cell_type": "code",
   "execution_count": 3283,
   "metadata": {},
   "outputs": [
    {
     "data": {
      "application/vnd.plotly.v1+json": {
       "config": {
        "plotlyServerURL": "https://plot.ly"
       },
       "data": [
        {
         "customdata": [
          42,
          1140,
          28
         ],
         "marker": {
          "color": "darkblue"
         },
         "name": "accurate_EDDs",
         "textfont": {
          "color": "white"
         },
         "textposition": "auto",
         "texttemplate": "%{y:.2f} %<br>(%{customdata:,} parcels)",
         "type": "bar",
         "x": [
          "Globex",
          "Initech",
          "Massive"
         ],
         "y": [
          93.33333333333333,
          37.14565004887586,
          30.76923076923077
         ]
        },
        {
         "customdata": [
          3,
          1929,
          63
         ],
         "marker": {
          "color": "cornflowerblue"
         },
         "name": "inaccurate_EDDs",
         "textfont": {
          "color": "white"
         },
         "textposition": "auto",
         "texttemplate": "%{y:.2f} %<br>(%{customdata:,} parcels)",
         "type": "bar",
         "x": [
          "Globex",
          "Initech",
          "Massive"
         ],
         "y": [
          6.666666666666667,
          62.85434995112414,
          69.23076923076923
         ]
        }
       ],
       "layout": {
        "barmode": "stack",
        "height": 600,
        "template": {
         "data": {
          "bar": [
           {
            "error_x": {
             "color": "#2a3f5f"
            },
            "error_y": {
             "color": "#2a3f5f"
            },
            "marker": {
             "line": {
              "color": "#E5ECF6",
              "width": 0.5
             },
             "pattern": {
              "fillmode": "overlay",
              "size": 10,
              "solidity": 0.2
             }
            },
            "type": "bar"
           }
          ],
          "barpolar": [
           {
            "marker": {
             "line": {
              "color": "#E5ECF6",
              "width": 0.5
             },
             "pattern": {
              "fillmode": "overlay",
              "size": 10,
              "solidity": 0.2
             }
            },
            "type": "barpolar"
           }
          ],
          "carpet": [
           {
            "aaxis": {
             "endlinecolor": "#2a3f5f",
             "gridcolor": "white",
             "linecolor": "white",
             "minorgridcolor": "white",
             "startlinecolor": "#2a3f5f"
            },
            "baxis": {
             "endlinecolor": "#2a3f5f",
             "gridcolor": "white",
             "linecolor": "white",
             "minorgridcolor": "white",
             "startlinecolor": "#2a3f5f"
            },
            "type": "carpet"
           }
          ],
          "choropleth": [
           {
            "colorbar": {
             "outlinewidth": 0,
             "ticks": ""
            },
            "type": "choropleth"
           }
          ],
          "contour": [
           {
            "colorbar": {
             "outlinewidth": 0,
             "ticks": ""
            },
            "colorscale": [
             [
              0,
              "#0d0887"
             ],
             [
              0.1111111111111111,
              "#46039f"
             ],
             [
              0.2222222222222222,
              "#7201a8"
             ],
             [
              0.3333333333333333,
              "#9c179e"
             ],
             [
              0.4444444444444444,
              "#bd3786"
             ],
             [
              0.5555555555555556,
              "#d8576b"
             ],
             [
              0.6666666666666666,
              "#ed7953"
             ],
             [
              0.7777777777777778,
              "#fb9f3a"
             ],
             [
              0.8888888888888888,
              "#fdca26"
             ],
             [
              1,
              "#f0f921"
             ]
            ],
            "type": "contour"
           }
          ],
          "contourcarpet": [
           {
            "colorbar": {
             "outlinewidth": 0,
             "ticks": ""
            },
            "type": "contourcarpet"
           }
          ],
          "heatmap": [
           {
            "colorbar": {
             "outlinewidth": 0,
             "ticks": ""
            },
            "colorscale": [
             [
              0,
              "#0d0887"
             ],
             [
              0.1111111111111111,
              "#46039f"
             ],
             [
              0.2222222222222222,
              "#7201a8"
             ],
             [
              0.3333333333333333,
              "#9c179e"
             ],
             [
              0.4444444444444444,
              "#bd3786"
             ],
             [
              0.5555555555555556,
              "#d8576b"
             ],
             [
              0.6666666666666666,
              "#ed7953"
             ],
             [
              0.7777777777777778,
              "#fb9f3a"
             ],
             [
              0.8888888888888888,
              "#fdca26"
             ],
             [
              1,
              "#f0f921"
             ]
            ],
            "type": "heatmap"
           }
          ],
          "heatmapgl": [
           {
            "colorbar": {
             "outlinewidth": 0,
             "ticks": ""
            },
            "colorscale": [
             [
              0,
              "#0d0887"
             ],
             [
              0.1111111111111111,
              "#46039f"
             ],
             [
              0.2222222222222222,
              "#7201a8"
             ],
             [
              0.3333333333333333,
              "#9c179e"
             ],
             [
              0.4444444444444444,
              "#bd3786"
             ],
             [
              0.5555555555555556,
              "#d8576b"
             ],
             [
              0.6666666666666666,
              "#ed7953"
             ],
             [
              0.7777777777777778,
              "#fb9f3a"
             ],
             [
              0.8888888888888888,
              "#fdca26"
             ],
             [
              1,
              "#f0f921"
             ]
            ],
            "type": "heatmapgl"
           }
          ],
          "histogram": [
           {
            "marker": {
             "pattern": {
              "fillmode": "overlay",
              "size": 10,
              "solidity": 0.2
             }
            },
            "type": "histogram"
           }
          ],
          "histogram2d": [
           {
            "colorbar": {
             "outlinewidth": 0,
             "ticks": ""
            },
            "colorscale": [
             [
              0,
              "#0d0887"
             ],
             [
              0.1111111111111111,
              "#46039f"
             ],
             [
              0.2222222222222222,
              "#7201a8"
             ],
             [
              0.3333333333333333,
              "#9c179e"
             ],
             [
              0.4444444444444444,
              "#bd3786"
             ],
             [
              0.5555555555555556,
              "#d8576b"
             ],
             [
              0.6666666666666666,
              "#ed7953"
             ],
             [
              0.7777777777777778,
              "#fb9f3a"
             ],
             [
              0.8888888888888888,
              "#fdca26"
             ],
             [
              1,
              "#f0f921"
             ]
            ],
            "type": "histogram2d"
           }
          ],
          "histogram2dcontour": [
           {
            "colorbar": {
             "outlinewidth": 0,
             "ticks": ""
            },
            "colorscale": [
             [
              0,
              "#0d0887"
             ],
             [
              0.1111111111111111,
              "#46039f"
             ],
             [
              0.2222222222222222,
              "#7201a8"
             ],
             [
              0.3333333333333333,
              "#9c179e"
             ],
             [
              0.4444444444444444,
              "#bd3786"
             ],
             [
              0.5555555555555556,
              "#d8576b"
             ],
             [
              0.6666666666666666,
              "#ed7953"
             ],
             [
              0.7777777777777778,
              "#fb9f3a"
             ],
             [
              0.8888888888888888,
              "#fdca26"
             ],
             [
              1,
              "#f0f921"
             ]
            ],
            "type": "histogram2dcontour"
           }
          ],
          "mesh3d": [
           {
            "colorbar": {
             "outlinewidth": 0,
             "ticks": ""
            },
            "type": "mesh3d"
           }
          ],
          "parcoords": [
           {
            "line": {
             "colorbar": {
              "outlinewidth": 0,
              "ticks": ""
             }
            },
            "type": "parcoords"
           }
          ],
          "pie": [
           {
            "automargin": true,
            "type": "pie"
           }
          ],
          "scatter": [
           {
            "marker": {
             "colorbar": {
              "outlinewidth": 0,
              "ticks": ""
             }
            },
            "type": "scatter"
           }
          ],
          "scatter3d": [
           {
            "line": {
             "colorbar": {
              "outlinewidth": 0,
              "ticks": ""
             }
            },
            "marker": {
             "colorbar": {
              "outlinewidth": 0,
              "ticks": ""
             }
            },
            "type": "scatter3d"
           }
          ],
          "scattercarpet": [
           {
            "marker": {
             "colorbar": {
              "outlinewidth": 0,
              "ticks": ""
             }
            },
            "type": "scattercarpet"
           }
          ],
          "scattergeo": [
           {
            "marker": {
             "colorbar": {
              "outlinewidth": 0,
              "ticks": ""
             }
            },
            "type": "scattergeo"
           }
          ],
          "scattergl": [
           {
            "marker": {
             "colorbar": {
              "outlinewidth": 0,
              "ticks": ""
             }
            },
            "type": "scattergl"
           }
          ],
          "scattermapbox": [
           {
            "marker": {
             "colorbar": {
              "outlinewidth": 0,
              "ticks": ""
             }
            },
            "type": "scattermapbox"
           }
          ],
          "scatterpolar": [
           {
            "marker": {
             "colorbar": {
              "outlinewidth": 0,
              "ticks": ""
             }
            },
            "type": "scatterpolar"
           }
          ],
          "scatterpolargl": [
           {
            "marker": {
             "colorbar": {
              "outlinewidth": 0,
              "ticks": ""
             }
            },
            "type": "scatterpolargl"
           }
          ],
          "scatterternary": [
           {
            "marker": {
             "colorbar": {
              "outlinewidth": 0,
              "ticks": ""
             }
            },
            "type": "scatterternary"
           }
          ],
          "surface": [
           {
            "colorbar": {
             "outlinewidth": 0,
             "ticks": ""
            },
            "colorscale": [
             [
              0,
              "#0d0887"
             ],
             [
              0.1111111111111111,
              "#46039f"
             ],
             [
              0.2222222222222222,
              "#7201a8"
             ],
             [
              0.3333333333333333,
              "#9c179e"
             ],
             [
              0.4444444444444444,
              "#bd3786"
             ],
             [
              0.5555555555555556,
              "#d8576b"
             ],
             [
              0.6666666666666666,
              "#ed7953"
             ],
             [
              0.7777777777777778,
              "#fb9f3a"
             ],
             [
              0.8888888888888888,
              "#fdca26"
             ],
             [
              1,
              "#f0f921"
             ]
            ],
            "type": "surface"
           }
          ],
          "table": [
           {
            "cells": {
             "fill": {
              "color": "#EBF0F8"
             },
             "line": {
              "color": "white"
             }
            },
            "header": {
             "fill": {
              "color": "#C8D4E3"
             },
             "line": {
              "color": "white"
             }
            },
            "type": "table"
           }
          ]
         },
         "layout": {
          "annotationdefaults": {
           "arrowcolor": "#2a3f5f",
           "arrowhead": 0,
           "arrowwidth": 1
          },
          "autotypenumbers": "strict",
          "coloraxis": {
           "colorbar": {
            "outlinewidth": 0,
            "ticks": ""
           }
          },
          "colorscale": {
           "diverging": [
            [
             0,
             "#8e0152"
            ],
            [
             0.1,
             "#c51b7d"
            ],
            [
             0.2,
             "#de77ae"
            ],
            [
             0.3,
             "#f1b6da"
            ],
            [
             0.4,
             "#fde0ef"
            ],
            [
             0.5,
             "#f7f7f7"
            ],
            [
             0.6,
             "#e6f5d0"
            ],
            [
             0.7,
             "#b8e186"
            ],
            [
             0.8,
             "#7fbc41"
            ],
            [
             0.9,
             "#4d9221"
            ],
            [
             1,
             "#276419"
            ]
           ],
           "sequential": [
            [
             0,
             "#0d0887"
            ],
            [
             0.1111111111111111,
             "#46039f"
            ],
            [
             0.2222222222222222,
             "#7201a8"
            ],
            [
             0.3333333333333333,
             "#9c179e"
            ],
            [
             0.4444444444444444,
             "#bd3786"
            ],
            [
             0.5555555555555556,
             "#d8576b"
            ],
            [
             0.6666666666666666,
             "#ed7953"
            ],
            [
             0.7777777777777778,
             "#fb9f3a"
            ],
            [
             0.8888888888888888,
             "#fdca26"
            ],
            [
             1,
             "#f0f921"
            ]
           ],
           "sequentialminus": [
            [
             0,
             "#0d0887"
            ],
            [
             0.1111111111111111,
             "#46039f"
            ],
            [
             0.2222222222222222,
             "#7201a8"
            ],
            [
             0.3333333333333333,
             "#9c179e"
            ],
            [
             0.4444444444444444,
             "#bd3786"
            ],
            [
             0.5555555555555556,
             "#d8576b"
            ],
            [
             0.6666666666666666,
             "#ed7953"
            ],
            [
             0.7777777777777778,
             "#fb9f3a"
            ],
            [
             0.8888888888888888,
             "#fdca26"
            ],
            [
             1,
             "#f0f921"
            ]
           ]
          },
          "colorway": [
           "#636efa",
           "#EF553B",
           "#00cc96",
           "#ab63fa",
           "#FFA15A",
           "#19d3f3",
           "#FF6692",
           "#B6E880",
           "#FF97FF",
           "#FECB52"
          ],
          "font": {
           "color": "#2a3f5f"
          },
          "geo": {
           "bgcolor": "white",
           "lakecolor": "white",
           "landcolor": "#E5ECF6",
           "showlakes": true,
           "showland": true,
           "subunitcolor": "white"
          },
          "hoverlabel": {
           "align": "left"
          },
          "hovermode": "closest",
          "mapbox": {
           "style": "light"
          },
          "paper_bgcolor": "white",
          "plot_bgcolor": "#E5ECF6",
          "polar": {
           "angularaxis": {
            "gridcolor": "white",
            "linecolor": "white",
            "ticks": ""
           },
           "bgcolor": "#E5ECF6",
           "radialaxis": {
            "gridcolor": "white",
            "linecolor": "white",
            "ticks": ""
           }
          },
          "scene": {
           "xaxis": {
            "backgroundcolor": "#E5ECF6",
            "gridcolor": "white",
            "gridwidth": 2,
            "linecolor": "white",
            "showbackground": true,
            "ticks": "",
            "zerolinecolor": "white"
           },
           "yaxis": {
            "backgroundcolor": "#E5ECF6",
            "gridcolor": "white",
            "gridwidth": 2,
            "linecolor": "white",
            "showbackground": true,
            "ticks": "",
            "zerolinecolor": "white"
           },
           "zaxis": {
            "backgroundcolor": "#E5ECF6",
            "gridcolor": "white",
            "gridwidth": 2,
            "linecolor": "white",
            "showbackground": true,
            "ticks": "",
            "zerolinecolor": "white"
           }
          },
          "shapedefaults": {
           "line": {
            "color": "#2a3f5f"
           }
          },
          "ternary": {
           "aaxis": {
            "gridcolor": "white",
            "linecolor": "white",
            "ticks": ""
           },
           "baxis": {
            "gridcolor": "white",
            "linecolor": "white",
            "ticks": ""
           },
           "bgcolor": "#E5ECF6",
           "caxis": {
            "gridcolor": "white",
            "linecolor": "white",
            "ticks": ""
           }
          },
          "title": {
           "x": 0.05
          },
          "xaxis": {
           "automargin": true,
           "gridcolor": "white",
           "linecolor": "white",
           "ticks": "",
           "title": {
            "standoff": 15
           },
           "zerolinecolor": "white",
           "zerolinewidth": 2
          },
          "yaxis": {
           "automargin": true,
           "gridcolor": "white",
           "linecolor": "white",
           "ticks": "",
           "title": {
            "standoff": 15
           },
           "zerolinecolor": "white",
           "zerolinewidth": 2
          }
         }
        },
        "title": {
         "font": {
          "size": 20
         },
         "text": "<b>% PARCELS WITH ACCURATE EDDS<br>(on the last EDD)</b>",
         "x": 0.45,
         "y": 0.9
        },
        "width": 1000,
        "yaxis": {
         "range": [
          0,
          100
         ],
         "title": {
          "text": "Percentage %"
         }
        }
       }
      }
     },
     "metadata": {},
     "output_type": "display_data"
    }
   ],
   "source": [
    "plot_data = last_normal_edd_accuracy.iloc[:-1].sort_values('perc_parcels_with_accurate_EDDs_%', ascending=False)\n",
    "fig = go.Figure()\n",
    "\n",
    "fig.add_trace(go.Bar(\n",
    "    x= plot_data['carrier_name'],\n",
    "    y=plot_data['perc_parcels_with_accurate_EDDs_%'],\n",
    "    # orientation='h', \n",
    "    name='accurate_EDDs',\n",
    "    customdata=plot_data['parcels_with_accurate_EDDs'],\n",
    "    marker_color='darkblue',\n",
    "    texttemplate = '%{y:.2f} %<br>(%{customdata:,} parcels)'\n",
    "))\n",
    "fig.add_trace(go.Bar(\n",
    "    x= plot_data['carrier_name'],\n",
    "    y=plot_data['perc_parcels_with_inaccurate_EDDs_%'],\n",
    "    # orientation='h', \n",
    "    name='inaccurate_EDDs',\n",
    "    customdata=plot_data['parcels_with_inaccurate_EDDs'],\n",
    "    marker_color='cornflowerblue',\n",
    "    texttemplate = '%{y:.2f} %<br>(%{customdata:,} parcels)'\n",
    "))\n",
    "fig.update_traces(textposition='auto', textfont_color='white')\n",
    "fig.update_layout(\n",
    "    barmode='stack',\n",
    "    width=1000,\n",
    "    height=600,\n",
    "    title='<b>% PARCELS WITH ACCURATE EDDS<br>(on the last EDD)</b>', title_font={'size':20},\n",
    "    title_x=.45, title_y=.9,\n",
    "    yaxis={'title':'Percentage %', 'range':[0,100]},\n",
    ")\n",
    "fig.show()"
   ]
  },
  {
   "cell_type": "code",
   "execution_count": 3284,
   "metadata": {},
   "outputs": [
    {
     "name": "stdout",
     "output_type": "stream",
     "text": [
      "AVERAGE PARCELS WITH ACCURATE EDDS   = 37.75 %\n",
      "AVERAGE PARCELS WITH INACCURATE EDDS = 62.25 %\n"
     ]
    }
   ],
   "source": [
    "print(f'AVERAGE PARCELS WITH ACCURATE EDDS   = {round(last_normal_edd_accuracy.loc[3, \"perc_parcels_with_accurate_EDDs_%\"],2)} %')\n",
    "print(f'AVERAGE PARCELS WITH INACCURATE EDDS = {round(last_normal_edd_accuracy.loc[3, \"perc_parcels_with_inaccurate_EDDs_%\"],2)} %')"
   ]
  },
  {
   "cell_type": "code",
   "execution_count": 3309,
   "metadata": {},
   "outputs": [
    {
     "name": "stdout",
     "output_type": "stream",
     "text": [
      "\n",
      "There are 3,205 parcels which EDDs are normal.\n",
      "\n",
      "On average, there are 1,210 normal parcels (37.75 %) have accurate last EDDs.\n",
      "\n",
      "Globex has the highest accurate percentage (93.33 %), whereas Massive has the lowest (30.77 %).   \n",
      "\n"
     ]
    }
   ],
   "source": [
    "print(f'''\n",
    "There are {normal_edd_tbl['parcel_id'].nunique():,} parcels which EDDs are normal.\n",
    "\n",
    "On average, there are {last_normal_edd_accuracy.set_index(\"carrier_name\").loc[\"All carriers\", \"parcels_with_accurate_EDDs\"]:,} normal parcels ({last_normal_edd_accuracy.set_index(\"carrier_name\").loc[\"All carriers\", \"perc_parcels_with_accurate_EDDs_%\"]:.2f} %) have accurate last EDDs.\n",
    "\n",
    "Globex has the highest accurate percentage ({last_normal_edd_accuracy.set_index(\"carrier_name\").loc[\"Globex\", \"perc_parcels_with_accurate_EDDs_%\"]:.2f} %), whereas Massive has the lowest ({last_normal_edd_accuracy.set_index(\"carrier_name\").loc[\"Massive\", \"perc_parcels_with_accurate_EDDs_%\"]:.2f} %).   \n",
    "''')"
   ]
  },
  {
   "cell_type": "markdown",
   "metadata": {},
   "source": [
    "### **IV. CHARACTERISTICS OF ACCURATE EDDs PARCELS**"
   ]
  },
  {
   "cell_type": "markdown",
   "metadata": {},
   "source": [
    "#### 1. EDD FREQUENCY & INTERVAL"
   ]
  },
  {
   "cell_type": "code",
   "execution_count": null,
   "metadata": {},
   "outputs": [],
   "source": [
    "# PREPARE DATA\n",
    "# DATA OF ACCURATE EDD FROM LAST INACCURATE EDD\n",
    "normal_edd_tbl2 = normal_edd_tbl.sort_values('log_timestamp', ascending=False).copy() # SORT DATA IN DESCENDING TIME ORDER TO COUNT FLAG FROM LATEST FALSE EDD BACKWARDS\n",
    "normal_edd_tbl2['flag'] = normal_edd_tbl2['EDD_is_accurate'].eq(False)\n",
    "normal_edd_tbl2['flag'] = normal_edd_tbl2.groupby('parcel_id')['flag'].cumsum()\n",
    "normal_edd_tbl2 = normal_edd_tbl2[normal_edd_tbl2['flag']==0].sort_values('log_timestamp', ascending=True) # SORT DATA BACK TO ASCENDING TIME\n",
    "\n",
    "# CALCULATE INTERVAL BW LOGS\n",
    "# SHIFT LOG_TIMESTAMP DOWN 1 ROW AND CONCAT TO ORIGINAL LOG\n",
    "tmp = pd.concat([normal_edd_tbl2[['parcel_id']], normal_edd_tbl2.groupby('parcel_id')['log_timestamp'].shift(1)], axis=1)\n",
    "tmp.columns = ['parcel_id', 'previous_log_timestamp']\n",
    "\n",
    "normal_edd_concat_tbl = normal_edd_tbl2.merge(tmp[['previous_log_timestamp']], how='inner', left_index=True, right_index=True)\n",
    "# CALCULATE INTERVAL BW LOG_TIMESTAMP IN HOURS\n",
    "normal_edd_concat_tbl['diff_in_hours'] = (normal_edd_concat_tbl['log_timestamp'] - normal_edd_concat_tbl['previous_log_timestamp']) / pd.Timedelta(1, \"hour\")"
   ]
  },
  {
   "cell_type": "code",
   "execution_count": 3311,
   "metadata": {},
   "outputs": [
    {
     "name": "stdout",
     "output_type": "stream",
     "text": [
      "ACCURATE PARCELS HAVING ONLY 1 UNIQUE EDD = 31.01 % (994 parcels)\n",
      "ACCURATE PARCELS HAVING\t > 1 UNIQUE EDD = 6.74 % (216 parcels)\n"
     ]
    }
   ],
   "source": [
    "# PERCENTAGE\n",
    "# PERCENTAGE ACCURATE OF PARCELS HAVING ONLY 1 UNIQUE EDD\n",
    "COUNT_ONE_EDD_ACCURATE = normal_edd_tbl[(normal_edd_tbl['parcel_id'].isin(ONE_EDD_PARCELS) & (normal_edd_tbl['EDD_is_accurate']==True))]['parcel_id'].nunique()\n",
    "PERC_ONE_EDD_ACCURATE = COUNT_ONE_EDD_ACCURATE / TOTAL_PARCELS * 100\n",
    "print(f'ACCURATE PARCELS HAVING ONLY 1 UNIQUE EDD = {PERC_ONE_EDD_ACCURATE:.2f} % ({COUNT_ONE_EDD_ACCURATE:,} parcels)')\n",
    "\n",
    "# PERCENTAGE ACCURATE OF PARCELS HAVING > 1 UNIQUE EDD\n",
    "multi_edd_tbl = normal_edd_tbl[normal_edd_tbl['parcel_id'].isin(MULTI_EDD_PARCELS)].sort_values('log_timestamp')\n",
    "multi_edd_last_log_tbl = multi_edd_tbl.drop_duplicates('parcel_id', keep='last')\n",
    "COUNT_MULTI_EDD_ACCURATE = multi_edd_last_log_tbl[(multi_edd_last_log_tbl['parcel_id'].isin(MULTI_EDD_PARCELS) & \n",
    "                                                   (multi_edd_last_log_tbl['EDD_is_accurate']==True))\\\n",
    "                                                ]['parcel_id'].nunique()\n",
    "\n",
    "PERC_MULTI_EDD_ACCURATE = COUNT_MULTI_EDD_ACCURATE / TOTAL_PARCELS * 100\n",
    "print(f'ACCURATE PARCELS HAVING\\t > 1 UNIQUE EDD = {PERC_MULTI_EDD_ACCURATE:.2f} % ({COUNT_MULTI_EDD_ACCURATE:,} parcels)')"
   ]
  },
  {
   "cell_type": "code",
   "execution_count": 3288,
   "metadata": {},
   "outputs": [
    {
     "data": {
      "application/vnd.plotly.v1+json": {
       "config": {
        "plotlyServerURL": "https://plot.ly"
       },
       "data": [
        {
         "marker": {
          "color": "cornflowerblue"
         },
         "name": "Total parcels",
         "textposition": "outside",
         "texttemplate": "%{y:,} parcels<br>",
         "type": "bar",
         "x": [
          "Parcels with 1 EDD",
          "Parcels with multi EDDs"
         ],
         "y": [
          2576,
          629
         ]
        },
        {
         "customdata": [
          38.58695652173913,
          34.34022257551669
         ],
         "marker": {
          "color": "darkblue"
         },
         "name": "Accurate parcels",
         "textposition": "outside",
         "texttemplate": "%{y:,} parcels<br>(%{customdata:.2f} %)",
         "type": "bar",
         "x": [
          "Parcels with 1 EDD",
          "Parcels with multi EDDs"
         ],
         "y": [
          994,
          216
         ]
        }
       ],
       "layout": {
        "barmode": "group",
        "height": 600,
        "template": {
         "data": {
          "bar": [
           {
            "error_x": {
             "color": "#2a3f5f"
            },
            "error_y": {
             "color": "#2a3f5f"
            },
            "marker": {
             "line": {
              "color": "#E5ECF6",
              "width": 0.5
             },
             "pattern": {
              "fillmode": "overlay",
              "size": 10,
              "solidity": 0.2
             }
            },
            "type": "bar"
           }
          ],
          "barpolar": [
           {
            "marker": {
             "line": {
              "color": "#E5ECF6",
              "width": 0.5
             },
             "pattern": {
              "fillmode": "overlay",
              "size": 10,
              "solidity": 0.2
             }
            },
            "type": "barpolar"
           }
          ],
          "carpet": [
           {
            "aaxis": {
             "endlinecolor": "#2a3f5f",
             "gridcolor": "white",
             "linecolor": "white",
             "minorgridcolor": "white",
             "startlinecolor": "#2a3f5f"
            },
            "baxis": {
             "endlinecolor": "#2a3f5f",
             "gridcolor": "white",
             "linecolor": "white",
             "minorgridcolor": "white",
             "startlinecolor": "#2a3f5f"
            },
            "type": "carpet"
           }
          ],
          "choropleth": [
           {
            "colorbar": {
             "outlinewidth": 0,
             "ticks": ""
            },
            "type": "choropleth"
           }
          ],
          "contour": [
           {
            "colorbar": {
             "outlinewidth": 0,
             "ticks": ""
            },
            "colorscale": [
             [
              0,
              "#0d0887"
             ],
             [
              0.1111111111111111,
              "#46039f"
             ],
             [
              0.2222222222222222,
              "#7201a8"
             ],
             [
              0.3333333333333333,
              "#9c179e"
             ],
             [
              0.4444444444444444,
              "#bd3786"
             ],
             [
              0.5555555555555556,
              "#d8576b"
             ],
             [
              0.6666666666666666,
              "#ed7953"
             ],
             [
              0.7777777777777778,
              "#fb9f3a"
             ],
             [
              0.8888888888888888,
              "#fdca26"
             ],
             [
              1,
              "#f0f921"
             ]
            ],
            "type": "contour"
           }
          ],
          "contourcarpet": [
           {
            "colorbar": {
             "outlinewidth": 0,
             "ticks": ""
            },
            "type": "contourcarpet"
           }
          ],
          "heatmap": [
           {
            "colorbar": {
             "outlinewidth": 0,
             "ticks": ""
            },
            "colorscale": [
             [
              0,
              "#0d0887"
             ],
             [
              0.1111111111111111,
              "#46039f"
             ],
             [
              0.2222222222222222,
              "#7201a8"
             ],
             [
              0.3333333333333333,
              "#9c179e"
             ],
             [
              0.4444444444444444,
              "#bd3786"
             ],
             [
              0.5555555555555556,
              "#d8576b"
             ],
             [
              0.6666666666666666,
              "#ed7953"
             ],
             [
              0.7777777777777778,
              "#fb9f3a"
             ],
             [
              0.8888888888888888,
              "#fdca26"
             ],
             [
              1,
              "#f0f921"
             ]
            ],
            "type": "heatmap"
           }
          ],
          "heatmapgl": [
           {
            "colorbar": {
             "outlinewidth": 0,
             "ticks": ""
            },
            "colorscale": [
             [
              0,
              "#0d0887"
             ],
             [
              0.1111111111111111,
              "#46039f"
             ],
             [
              0.2222222222222222,
              "#7201a8"
             ],
             [
              0.3333333333333333,
              "#9c179e"
             ],
             [
              0.4444444444444444,
              "#bd3786"
             ],
             [
              0.5555555555555556,
              "#d8576b"
             ],
             [
              0.6666666666666666,
              "#ed7953"
             ],
             [
              0.7777777777777778,
              "#fb9f3a"
             ],
             [
              0.8888888888888888,
              "#fdca26"
             ],
             [
              1,
              "#f0f921"
             ]
            ],
            "type": "heatmapgl"
           }
          ],
          "histogram": [
           {
            "marker": {
             "pattern": {
              "fillmode": "overlay",
              "size": 10,
              "solidity": 0.2
             }
            },
            "type": "histogram"
           }
          ],
          "histogram2d": [
           {
            "colorbar": {
             "outlinewidth": 0,
             "ticks": ""
            },
            "colorscale": [
             [
              0,
              "#0d0887"
             ],
             [
              0.1111111111111111,
              "#46039f"
             ],
             [
              0.2222222222222222,
              "#7201a8"
             ],
             [
              0.3333333333333333,
              "#9c179e"
             ],
             [
              0.4444444444444444,
              "#bd3786"
             ],
             [
              0.5555555555555556,
              "#d8576b"
             ],
             [
              0.6666666666666666,
              "#ed7953"
             ],
             [
              0.7777777777777778,
              "#fb9f3a"
             ],
             [
              0.8888888888888888,
              "#fdca26"
             ],
             [
              1,
              "#f0f921"
             ]
            ],
            "type": "histogram2d"
           }
          ],
          "histogram2dcontour": [
           {
            "colorbar": {
             "outlinewidth": 0,
             "ticks": ""
            },
            "colorscale": [
             [
              0,
              "#0d0887"
             ],
             [
              0.1111111111111111,
              "#46039f"
             ],
             [
              0.2222222222222222,
              "#7201a8"
             ],
             [
              0.3333333333333333,
              "#9c179e"
             ],
             [
              0.4444444444444444,
              "#bd3786"
             ],
             [
              0.5555555555555556,
              "#d8576b"
             ],
             [
              0.6666666666666666,
              "#ed7953"
             ],
             [
              0.7777777777777778,
              "#fb9f3a"
             ],
             [
              0.8888888888888888,
              "#fdca26"
             ],
             [
              1,
              "#f0f921"
             ]
            ],
            "type": "histogram2dcontour"
           }
          ],
          "mesh3d": [
           {
            "colorbar": {
             "outlinewidth": 0,
             "ticks": ""
            },
            "type": "mesh3d"
           }
          ],
          "parcoords": [
           {
            "line": {
             "colorbar": {
              "outlinewidth": 0,
              "ticks": ""
             }
            },
            "type": "parcoords"
           }
          ],
          "pie": [
           {
            "automargin": true,
            "type": "pie"
           }
          ],
          "scatter": [
           {
            "marker": {
             "colorbar": {
              "outlinewidth": 0,
              "ticks": ""
             }
            },
            "type": "scatter"
           }
          ],
          "scatter3d": [
           {
            "line": {
             "colorbar": {
              "outlinewidth": 0,
              "ticks": ""
             }
            },
            "marker": {
             "colorbar": {
              "outlinewidth": 0,
              "ticks": ""
             }
            },
            "type": "scatter3d"
           }
          ],
          "scattercarpet": [
           {
            "marker": {
             "colorbar": {
              "outlinewidth": 0,
              "ticks": ""
             }
            },
            "type": "scattercarpet"
           }
          ],
          "scattergeo": [
           {
            "marker": {
             "colorbar": {
              "outlinewidth": 0,
              "ticks": ""
             }
            },
            "type": "scattergeo"
           }
          ],
          "scattergl": [
           {
            "marker": {
             "colorbar": {
              "outlinewidth": 0,
              "ticks": ""
             }
            },
            "type": "scattergl"
           }
          ],
          "scattermapbox": [
           {
            "marker": {
             "colorbar": {
              "outlinewidth": 0,
              "ticks": ""
             }
            },
            "type": "scattermapbox"
           }
          ],
          "scatterpolar": [
           {
            "marker": {
             "colorbar": {
              "outlinewidth": 0,
              "ticks": ""
             }
            },
            "type": "scatterpolar"
           }
          ],
          "scatterpolargl": [
           {
            "marker": {
             "colorbar": {
              "outlinewidth": 0,
              "ticks": ""
             }
            },
            "type": "scatterpolargl"
           }
          ],
          "scatterternary": [
           {
            "marker": {
             "colorbar": {
              "outlinewidth": 0,
              "ticks": ""
             }
            },
            "type": "scatterternary"
           }
          ],
          "surface": [
           {
            "colorbar": {
             "outlinewidth": 0,
             "ticks": ""
            },
            "colorscale": [
             [
              0,
              "#0d0887"
             ],
             [
              0.1111111111111111,
              "#46039f"
             ],
             [
              0.2222222222222222,
              "#7201a8"
             ],
             [
              0.3333333333333333,
              "#9c179e"
             ],
             [
              0.4444444444444444,
              "#bd3786"
             ],
             [
              0.5555555555555556,
              "#d8576b"
             ],
             [
              0.6666666666666666,
              "#ed7953"
             ],
             [
              0.7777777777777778,
              "#fb9f3a"
             ],
             [
              0.8888888888888888,
              "#fdca26"
             ],
             [
              1,
              "#f0f921"
             ]
            ],
            "type": "surface"
           }
          ],
          "table": [
           {
            "cells": {
             "fill": {
              "color": "#EBF0F8"
             },
             "line": {
              "color": "white"
             }
            },
            "header": {
             "fill": {
              "color": "#C8D4E3"
             },
             "line": {
              "color": "white"
             }
            },
            "type": "table"
           }
          ]
         },
         "layout": {
          "annotationdefaults": {
           "arrowcolor": "#2a3f5f",
           "arrowhead": 0,
           "arrowwidth": 1
          },
          "autotypenumbers": "strict",
          "coloraxis": {
           "colorbar": {
            "outlinewidth": 0,
            "ticks": ""
           }
          },
          "colorscale": {
           "diverging": [
            [
             0,
             "#8e0152"
            ],
            [
             0.1,
             "#c51b7d"
            ],
            [
             0.2,
             "#de77ae"
            ],
            [
             0.3,
             "#f1b6da"
            ],
            [
             0.4,
             "#fde0ef"
            ],
            [
             0.5,
             "#f7f7f7"
            ],
            [
             0.6,
             "#e6f5d0"
            ],
            [
             0.7,
             "#b8e186"
            ],
            [
             0.8,
             "#7fbc41"
            ],
            [
             0.9,
             "#4d9221"
            ],
            [
             1,
             "#276419"
            ]
           ],
           "sequential": [
            [
             0,
             "#0d0887"
            ],
            [
             0.1111111111111111,
             "#46039f"
            ],
            [
             0.2222222222222222,
             "#7201a8"
            ],
            [
             0.3333333333333333,
             "#9c179e"
            ],
            [
             0.4444444444444444,
             "#bd3786"
            ],
            [
             0.5555555555555556,
             "#d8576b"
            ],
            [
             0.6666666666666666,
             "#ed7953"
            ],
            [
             0.7777777777777778,
             "#fb9f3a"
            ],
            [
             0.8888888888888888,
             "#fdca26"
            ],
            [
             1,
             "#f0f921"
            ]
           ],
           "sequentialminus": [
            [
             0,
             "#0d0887"
            ],
            [
             0.1111111111111111,
             "#46039f"
            ],
            [
             0.2222222222222222,
             "#7201a8"
            ],
            [
             0.3333333333333333,
             "#9c179e"
            ],
            [
             0.4444444444444444,
             "#bd3786"
            ],
            [
             0.5555555555555556,
             "#d8576b"
            ],
            [
             0.6666666666666666,
             "#ed7953"
            ],
            [
             0.7777777777777778,
             "#fb9f3a"
            ],
            [
             0.8888888888888888,
             "#fdca26"
            ],
            [
             1,
             "#f0f921"
            ]
           ]
          },
          "colorway": [
           "#636efa",
           "#EF553B",
           "#00cc96",
           "#ab63fa",
           "#FFA15A",
           "#19d3f3",
           "#FF6692",
           "#B6E880",
           "#FF97FF",
           "#FECB52"
          ],
          "font": {
           "color": "#2a3f5f"
          },
          "geo": {
           "bgcolor": "white",
           "lakecolor": "white",
           "landcolor": "#E5ECF6",
           "showlakes": true,
           "showland": true,
           "subunitcolor": "white"
          },
          "hoverlabel": {
           "align": "left"
          },
          "hovermode": "closest",
          "mapbox": {
           "style": "light"
          },
          "paper_bgcolor": "white",
          "plot_bgcolor": "#E5ECF6",
          "polar": {
           "angularaxis": {
            "gridcolor": "white",
            "linecolor": "white",
            "ticks": ""
           },
           "bgcolor": "#E5ECF6",
           "radialaxis": {
            "gridcolor": "white",
            "linecolor": "white",
            "ticks": ""
           }
          },
          "scene": {
           "xaxis": {
            "backgroundcolor": "#E5ECF6",
            "gridcolor": "white",
            "gridwidth": 2,
            "linecolor": "white",
            "showbackground": true,
            "ticks": "",
            "zerolinecolor": "white"
           },
           "yaxis": {
            "backgroundcolor": "#E5ECF6",
            "gridcolor": "white",
            "gridwidth": 2,
            "linecolor": "white",
            "showbackground": true,
            "ticks": "",
            "zerolinecolor": "white"
           },
           "zaxis": {
            "backgroundcolor": "#E5ECF6",
            "gridcolor": "white",
            "gridwidth": 2,
            "linecolor": "white",
            "showbackground": true,
            "ticks": "",
            "zerolinecolor": "white"
           }
          },
          "shapedefaults": {
           "line": {
            "color": "#2a3f5f"
           }
          },
          "ternary": {
           "aaxis": {
            "gridcolor": "white",
            "linecolor": "white",
            "ticks": ""
           },
           "baxis": {
            "gridcolor": "white",
            "linecolor": "white",
            "ticks": ""
           },
           "bgcolor": "#E5ECF6",
           "caxis": {
            "gridcolor": "white",
            "linecolor": "white",
            "ticks": ""
           }
          },
          "title": {
           "x": 0.05
          },
          "xaxis": {
           "automargin": true,
           "gridcolor": "white",
           "linecolor": "white",
           "ticks": "",
           "title": {
            "standoff": 15
           },
           "zerolinecolor": "white",
           "zerolinewidth": 2
          },
          "yaxis": {
           "automargin": true,
           "gridcolor": "white",
           "linecolor": "white",
           "ticks": "",
           "title": {
            "standoff": 15
           },
           "zerolinecolor": "white",
           "zerolinewidth": 2
          }
         }
        },
        "title": {
         "font": {
          "size": 20
         },
         "text": "<b>NUMBER & PERCENTAGE OF ACCURATE PARCELS<b>",
         "x": 0.45,
         "y": 0.9
        },
        "width": 1000,
        "xaxis": {
         "showgrid": false
        },
        "yaxis": {
         "title": {
          "text": "Number of parcels"
         }
        }
       }
      }
     },
     "metadata": {},
     "output_type": "display_data"
    }
   ],
   "source": [
    "# PLOT\n",
    "x = ['Parcels with 1 EDD', 'Parcels with multi EDDs']\n",
    "\n",
    "fig = go.Figure(data=[\n",
    "    go.Bar(name='Total parcels', x=x, y=[COUNT_ONE_EDD, COUNT_MULTI_EDD], \n",
    "           marker_color='cornflowerblue',\n",
    "           texttemplate='%{y:,} parcels<br>', textposition = 'outside'\n",
    "           ),\n",
    "    go.Bar(name='Accurate parcels', x=x, y=[COUNT_ONE_EDD_ACCURATE, COUNT_MULTI_EDD_ACCURATE], \n",
    "           marker_color='darkblue', \n",
    "           customdata= [COUNT_ONE_EDD_ACCURATE/COUNT_ONE_EDD*100, COUNT_MULTI_EDD_ACCURATE/COUNT_MULTI_EDD*100], \n",
    "           texttemplate='%{y:,} parcels<br>(%{customdata:.2f} %)', textposition = 'outside'\n",
    "           )\n",
    "])\n",
    "fig.update_layout(\n",
    "    barmode='group',\n",
    "    width=1000,\n",
    "    height=600,\n",
    "    title='<b>NUMBER & PERCENTAGE OF ACCURATE PARCELS<b>', title_font={'size':20},\n",
    "    title_x=.45, title_y=.9,\n",
    "    xaxis={'showgrid':False}, \n",
    "    yaxis={'title':'Number of parcels'}\n",
    ")\n",
    "fig.show()"
   ]
  },
  {
   "cell_type": "code",
   "execution_count": 3289,
   "metadata": {},
   "outputs": [
    {
     "data": {
      "text/html": [
       "<div>\n",
       "<style scoped>\n",
       "    .dataframe tbody tr th:only-of-type {\n",
       "        vertical-align: middle;\n",
       "    }\n",
       "\n",
       "    .dataframe tbody tr th {\n",
       "        vertical-align: top;\n",
       "    }\n",
       "\n",
       "    .dataframe thead th {\n",
       "        text-align: right;\n",
       "    }\n",
       "</style>\n",
       "<table border=\"1\" class=\"dataframe\">\n",
       "  <thead>\n",
       "    <tr style=\"text-align: right;\">\n",
       "      <th></th>\n",
       "      <th>EDD_is_accurate</th>\n",
       "      <th>EDD_freq_per_parcel</th>\n",
       "    </tr>\n",
       "  </thead>\n",
       "  <tbody>\n",
       "    <tr>\n",
       "      <th>EDD_is_accurate</th>\n",
       "      <td>1.00</td>\n",
       "      <td>0.01</td>\n",
       "    </tr>\n",
       "    <tr>\n",
       "      <th>EDD_freq_per_parcel</th>\n",
       "      <td>0.01</td>\n",
       "      <td>1.00</td>\n",
       "    </tr>\n",
       "  </tbody>\n",
       "</table>\n",
       "</div>"
      ],
      "text/plain": [
       "                     EDD_is_accurate  EDD_freq_per_parcel\n",
       "EDD_is_accurate                 1.00                 0.01\n",
       "EDD_freq_per_parcel             0.01                 1.00"
      ]
     },
     "execution_count": 3289,
     "metadata": {},
     "output_type": "execute_result"
    }
   ],
   "source": [
    "# CORRELATION\n",
    "last_normal_edd_tbl[['parcel_id', 'EDD_is_accurate']]\\\n",
    "                .merge(normal_edd_freq_interval[['parcel_id', 'EDD_freq_per_parcel']], how='inner', on='parcel_id')\\\n",
    "                .corr()"
   ]
  },
  {
   "cell_type": "code",
   "execution_count": 3290,
   "metadata": {},
   "outputs": [
    {
     "name": "stdout",
     "output_type": "stream",
     "text": [
      "Among 2,576 parcels having only 1 unique EDD, there are 994 (31.01%) parcels have accurate EDD\n",
      "\n",
      "Among 629 parcels having mroe than 1 unique EDD, there are 216 (6.74%) parcels have accurate EDD\n",
      "\n",
      "The number of EDD frequency doesn't correlate with EDD accuracy.\n",
      "\n"
     ]
    }
   ],
   "source": [
    "print(f'''Among {COUNT_ONE_EDD:,} parcels having only 1 unique EDD, there are {COUNT_ONE_EDD_ACCURATE} ({PERC_ONE_EDD_ACCURATE:.2f}%) parcels have accurate EDD\n",
    "\n",
    "Among {COUNT_MULTI_EDD} parcels having mroe than 1 unique EDD, there are {COUNT_MULTI_EDD_ACCURATE} ({PERC_MULTI_EDD_ACCURATE:.2f}%) parcels have accurate EDD\n",
    "\n",
    "The number of EDD frequency doesn't correlate with EDD accuracy.\n",
    "''')"
   ]
  },
  {
   "cell_type": "markdown",
   "metadata": {},
   "source": [
    "#### 2. EARLIEST LOG TIMESTAMP FROM ACCURATE EDD TO FINAL DELIVERY DATE"
   ]
  },
  {
   "cell_type": "code",
   "execution_count": 3291,
   "metadata": {},
   "outputs": [
    {
     "data": {
      "text/html": [
       "<div>\n",
       "<style scoped>\n",
       "    .dataframe tbody tr th:only-of-type {\n",
       "        vertical-align: middle;\n",
       "    }\n",
       "\n",
       "    .dataframe tbody tr th {\n",
       "        vertical-align: top;\n",
       "    }\n",
       "\n",
       "    .dataframe thead th {\n",
       "        text-align: right;\n",
       "    }\n",
       "</style>\n",
       "<table border=\"1\" class=\"dataframe\">\n",
       "  <thead>\n",
       "    <tr style=\"text-align: right;\">\n",
       "      <th></th>\n",
       "      <th>carrier_name</th>\n",
       "      <th>min_days_bw_accurateEDD_FDD</th>\n",
       "    </tr>\n",
       "  </thead>\n",
       "  <tbody>\n",
       "    <tr>\n",
       "      <th>0</th>\n",
       "      <td>Initech</td>\n",
       "      <td>-8.84</td>\n",
       "    </tr>\n",
       "    <tr>\n",
       "      <th>1</th>\n",
       "      <td>Massive</td>\n",
       "      <td>-5.47</td>\n",
       "    </tr>\n",
       "    <tr>\n",
       "      <th>2</th>\n",
       "      <td>Globex</td>\n",
       "      <td>-2.89</td>\n",
       "    </tr>\n",
       "  </tbody>\n",
       "</table>\n",
       "</div>"
      ],
      "text/plain": [
       "  carrier_name  min_days_bw_accurateEDD_FDD\n",
       "0      Initech                        -8.84\n",
       "1      Massive                        -5.47\n",
       "2       Globex                        -2.89"
      ]
     },
     "execution_count": 3291,
     "metadata": {},
     "output_type": "execute_result"
    }
   ],
   "source": [
    "# PREPARE DATA\n",
    "normal_edd_tbl2 = normal_edd_tbl.sort_values('log_timestamp', ascending=False).copy() # SORT DATA IN DESCENDING TIME ORDER TO COUNT FLAG FROM LATEST FALSE EDD BACKWARDS\n",
    "normal_edd_tbl2['flag'] = normal_edd_tbl2['EDD_is_accurate'].eq(False)\n",
    "normal_edd_tbl2['flag'] = normal_edd_tbl2.groupby('parcel_id')['flag'].cumsum()\n",
    "normal_edd_tbl2 = normal_edd_tbl2[normal_edd_tbl2['flag']==0].sort_values('log_timestamp', ascending=True) # SORT DATA BACK TO ASCENDING TIME\n",
    "# normal_edd_tbl2.head() # DATA ONLY CONTAINS ACCURATE EDD STARTING FROM THE LAST INAACURATE EDD\n",
    "normal_edd_tbl2.groupby('carrier_name')[\"daydiff_log_FDD\"].min().sort_values(ascending=True).reset_index(name='min_days_bw_accurateEDD_FDD')"
   ]
  },
  {
   "cell_type": "code",
   "execution_count": 3292,
   "metadata": {},
   "outputs": [
    {
     "name": "stdout",
     "output_type": "stream",
     "text": [
      "Earliest day that EDD is predicted accurately is 8.84 days before final delivery date.\n"
     ]
    }
   ],
   "source": [
    "print(f'Earliest day that EDD is predicted accurately is {abs(normal_edd_tbl[normal_edd_tbl[\"EDD_is_accurate\"]==True][\"daydiff_log_FDD\"].min()):.2f} days before final delivery date.')"
   ]
  },
  {
   "cell_type": "code",
   "execution_count": 3293,
   "metadata": {},
   "outputs": [
    {
     "data": {
      "image/png": "[encoded data removed]",
      "text/plain": [
       "<Figure size 1440x864 with 3 Axes>"
      ]
     },
     "metadata": {
      "needs_background": "light"
     },
     "output_type": "display_data"
    }
   ],
   "source": [
    "plt.figure(figsize=(20,12))\n",
    "plt.subplot(311)\n",
    "plot_data = normal_edd_tbl2[normal_edd_tbl2['carrier_name']=='Initech'].groupby('parcel_id')['daydiff_log_FDD'].min()\n",
    "sns.boxplot(plot_data)\n",
    "plt.xlabel('Days')\n",
    "plt.title('Initech', size=18)\n",
    "\n",
    "plt.subplot(312)\n",
    "plot_data = normal_edd_tbl2[normal_edd_tbl2['carrier_name']=='Massive'].groupby('parcel_id')['daydiff_log_FDD'].min()\n",
    "sns.boxplot(plot_data)\n",
    "plt.xlabel('Days')\n",
    "plt.xlim(-6.2)\n",
    "plt.title('Massive', size=18)\n",
    "\n",
    "plt.subplot(313)\n",
    "plot_data = normal_edd_tbl2[normal_edd_tbl2['carrier_name']=='Globex'].groupby('parcel_id')['daydiff_log_FDD'].min()\n",
    "sns.boxplot(plot_data)\n",
    "plt.xlabel('Days')\n",
    "plt.title('Globex', size=18)\n",
    "\n",
    "plt.suptitle('EARLIEST DAY FROM ACCURATE EDD TO FINAL DELIVERY DATE PER PARCEL', size=22, y=1)\n",
    "plt.tight_layout()\n",
    "plt.show()"
   ]
  },
  {
   "cell_type": "markdown",
   "metadata": {},
   "source": [
    "#### 3. PARCELS WITH ACCURATE EDDs PER DELIVERY DURATION"
   ]
  },
  {
   "cell_type": "markdown",
   "metadata": {},
   "source": [
    "Delivery duration = final_delivery_date - out_for_delivery_date"
   ]
  },
  {
   "cell_type": "code",
   "execution_count": 3294,
   "metadata": {},
   "outputs": [
    {
     "data": {
      "text/html": [
       "<div>\n",
       "<style scoped>\n",
       "    .dataframe tbody tr th:only-of-type {\n",
       "        vertical-align: middle;\n",
       "    }\n",
       "\n",
       "    .dataframe tbody tr th {\n",
       "        vertical-align: top;\n",
       "    }\n",
       "\n",
       "    .dataframe thead th {\n",
       "        text-align: right;\n",
       "    }\n",
       "</style>\n",
       "<table border=\"1\" class=\"dataframe\">\n",
       "  <thead>\n",
       "    <tr style=\"text-align: right;\">\n",
       "      <th></th>\n",
       "      <th>dur_hour_group</th>\n",
       "      <th>total_parcels</th>\n",
       "      <th>parcels_with_accurate_EDDs</th>\n",
       "      <th>parcels_with_inaccurate_EDDs</th>\n",
       "      <th>perc_accurate_parcels %</th>\n",
       "    </tr>\n",
       "  </thead>\n",
       "  <tbody>\n",
       "    <tr>\n",
       "      <th>0</th>\n",
       "      <td>0 - 2.27 hrs</td>\n",
       "      <td>802</td>\n",
       "      <td>216</td>\n",
       "      <td>586</td>\n",
       "      <td>26.93</td>\n",
       "    </tr>\n",
       "    <tr>\n",
       "      <th>1</th>\n",
       "      <td>2.27 - 4.19 hrs</td>\n",
       "      <td>801</td>\n",
       "      <td>306</td>\n",
       "      <td>495</td>\n",
       "      <td>38.20</td>\n",
       "    </tr>\n",
       "    <tr>\n",
       "      <th>2</th>\n",
       "      <td>4.19 - 7.49 hrs</td>\n",
       "      <td>801</td>\n",
       "      <td>315</td>\n",
       "      <td>486</td>\n",
       "      <td>39.33</td>\n",
       "    </tr>\n",
       "    <tr>\n",
       "      <th>3</th>\n",
       "      <td>&gt; 7.49 hrs</td>\n",
       "      <td>801</td>\n",
       "      <td>373</td>\n",
       "      <td>428</td>\n",
       "      <td>46.57</td>\n",
       "    </tr>\n",
       "    <tr>\n",
       "      <th>4</th>\n",
       "      <td>All</td>\n",
       "      <td>3205</td>\n",
       "      <td>1210</td>\n",
       "      <td>1995</td>\n",
       "      <td>37.75</td>\n",
       "    </tr>\n",
       "  </tbody>\n",
       "</table>\n",
       "</div>"
      ],
      "text/plain": [
       "    dur_hour_group  total_parcels  parcels_with_accurate_EDDs  \\\n",
       "0     0 - 2.27 hrs            802                         216   \n",
       "1  2.27 - 4.19 hrs            801                         306   \n",
       "2  4.19 - 7.49 hrs            801                         315   \n",
       "3       > 7.49 hrs            801                         373   \n",
       "4              All           3205                        1210   \n",
       "\n",
       "   parcels_with_inaccurate_EDDs  perc_accurate_parcels %  \n",
       "0                           586                    26.93  \n",
       "1                           495                    38.20  \n",
       "2                           486                    39.33  \n",
       "3                           428                    46.57  \n",
       "4                          1995                    37.75  "
      ]
     },
     "execution_count": 3294,
     "metadata": {},
     "output_type": "execute_result"
    }
   ],
   "source": [
    "# PREPARE DATA\n",
    "last_normal_edd_tbl['delivery_duration_hours'] = (last_normal_edd_tbl['final_delivery_date'] - last_normal_edd_tbl['out_for_delivery_date']) / pd.Timedelta(1,'H')\n",
    "# last_normal_edd_tbl['delivery_duration_days'] = (last_normal_edd_tbl['final_delivery_date'] - last_normal_edd_tbl['out_for_delivery_date']) / pd.Timedelta(1,'D')\n",
    "def duration_hour_group(r):\n",
    "    q1 = last_normal_edd_tbl['delivery_duration_hours'].quantile(.25)\n",
    "    median = last_normal_edd_tbl['delivery_duration_hours'].median()\n",
    "    q3 = last_normal_edd_tbl['delivery_duration_hours'].quantile(.75)\n",
    "\n",
    "    if r <= q1:\n",
    "        return f'0 - {q1:.2f} hrs'\n",
    "    elif r <= median:\n",
    "        return f'{q1:.2f} - {median:.2f} hrs'\n",
    "    elif r <= q3:\n",
    "        return f'{median:.2f} - {q3:.2f} hrs'\n",
    "    else: \n",
    "        return f'> {q3:.2f} hrs'\n",
    "last_normal_edd_tbl['dur_hour_group'] = last_normal_edd_tbl['delivery_duration_hours'].apply(duration_hour_group) \n",
    "\n",
    "dur_hour_tbl = last_normal_edd_tbl.groupby('dur_hour_group')\\\n",
    "        .apply(func_nunique)\\\n",
    "\n",
    "dur_hour_tbl.loc['All',:] = dur_hour_tbl.iloc[:,:].sum(axis=0, numeric_only=True)\n",
    "dur_hour_tbl['perc_accurate_parcels %'] = dur_hour_tbl['parcels_with_accurate_EDDs'] / dur_hour_tbl['total_parcels'] * 100\n",
    "dur_hour_tbl.reset_index(inplace=True)\n",
    "dur_hour_tbl.iloc[:,1:4] = dur_hour_tbl.iloc[:,1:4].astype(int)\n",
    "dur_hour_tbl"
   ]
  },
  {
   "cell_type": "code",
   "execution_count": 3295,
   "metadata": {},
   "outputs": [
    {
     "data": {
      "application/vnd.plotly.v1+json": {
       "config": {
        "plotlyServerURL": "https://plot.ly"
       },
       "data": [
        {
         "marker": {
          "color": "cornflowerblue"
         },
         "name": "Total parcels",
         "textposition": "outside",
         "texttemplate": "%{y:,} parcels<br>",
         "type": "bar",
         "x": [
          "0 - 2.27 hrs",
          "2.27 - 4.19 hrs",
          "4.19 - 7.49 hrs",
          "> 7.49 hrs"
         ],
         "y": [
          802,
          801,
          801,
          801
         ]
        },
        {
         "customdata": [
          26.932668329177055,
          38.20224719101123,
          39.325842696629216,
          46.566791510611736
         ],
         "marker": {
          "color": "darkblue"
         },
         "name": "Accurate parcels",
         "textposition": "outside",
         "texttemplate": "%{y:,} parcels<br>(%{customdata:.2f} %)",
         "type": "bar",
         "x": [
          "0 - 2.27 hrs",
          "2.27 - 4.19 hrs",
          "4.19 - 7.49 hrs",
          "> 7.49 hrs"
         ],
         "y": [
          216,
          306,
          315,
          373
         ]
        }
       ],
       "layout": {
        "barmode": "group",
        "height": 600,
        "template": {
         "data": {
          "bar": [
           {
            "error_x": {
             "color": "#2a3f5f"
            },
            "error_y": {
             "color": "#2a3f5f"
            },
            "marker": {
             "line": {
              "color": "#E5ECF6",
              "width": 0.5
             },
             "pattern": {
              "fillmode": "overlay",
              "size": 10,
              "solidity": 0.2
             }
            },
            "type": "bar"
           }
          ],
          "barpolar": [
           {
            "marker": {
             "line": {
              "color": "#E5ECF6",
              "width": 0.5
             },
             "pattern": {
              "fillmode": "overlay",
              "size": 10,
              "solidity": 0.2
             }
            },
            "type": "barpolar"
           }
          ],
          "carpet": [
           {
            "aaxis": {
             "endlinecolor": "#2a3f5f",
             "gridcolor": "white",
             "linecolor": "white",
             "minorgridcolor": "white",
             "startlinecolor": "#2a3f5f"
            },
            "baxis": {
             "endlinecolor": "#2a3f5f",
             "gridcolor": "white",
             "linecolor": "white",
             "minorgridcolor": "white",
             "startlinecolor": "#2a3f5f"
            },
            "type": "carpet"
           }
          ],
          "choropleth": [
           {
            "colorbar": {
             "outlinewidth": 0,
             "ticks": ""
            },
            "type": "choropleth"
           }
          ],
          "contour": [
           {
            "colorbar": {
             "outlinewidth": 0,
             "ticks": ""
            },
            "colorscale": [
             [
              0,
              "#0d0887"
             ],
             [
              0.1111111111111111,
              "#46039f"
             ],
             [
              0.2222222222222222,
              "#7201a8"
             ],
             [
              0.3333333333333333,
              "#9c179e"
             ],
             [
              0.4444444444444444,
              "#bd3786"
             ],
             [
              0.5555555555555556,
              "#d8576b"
             ],
             [
              0.6666666666666666,
              "#ed7953"
             ],
             [
              0.7777777777777778,
              "#fb9f3a"
             ],
             [
              0.8888888888888888,
              "#fdca26"
             ],
             [
              1,
              "#f0f921"
             ]
            ],
            "type": "contour"
           }
          ],
          "contourcarpet": [
           {
            "colorbar": {
             "outlinewidth": 0,
             "ticks": ""
            },
            "type": "contourcarpet"
           }
          ],
          "heatmap": [
           {
            "colorbar": {
             "outlinewidth": 0,
             "ticks": ""
            },
            "colorscale": [
             [
              0,
              "#0d0887"
             ],
             [
              0.1111111111111111,
              "#46039f"
             ],
             [
              0.2222222222222222,
              "#7201a8"
             ],
             [
              0.3333333333333333,
              "#9c179e"
             ],
             [
              0.4444444444444444,
              "#bd3786"
             ],
             [
              0.5555555555555556,
              "#d8576b"
             ],
             [
              0.6666666666666666,
              "#ed7953"
             ],
             [
              0.7777777777777778,
              "#fb9f3a"
             ],
             [
              0.8888888888888888,
              "#fdca26"
             ],
             [
              1,
              "#f0f921"
             ]
            ],
            "type": "heatmap"
           }
          ],
          "heatmapgl": [
           {
            "colorbar": {
             "outlinewidth": 0,
             "ticks": ""
            },
            "colorscale": [
             [
              0,
              "#0d0887"
             ],
             [
              0.1111111111111111,
              "#46039f"
             ],
             [
              0.2222222222222222,
              "#7201a8"
             ],
             [
              0.3333333333333333,
              "#9c179e"
             ],
             [
              0.4444444444444444,
              "#bd3786"
             ],
             [
              0.5555555555555556,
              "#d8576b"
             ],
             [
              0.6666666666666666,
              "#ed7953"
             ],
             [
              0.7777777777777778,
              "#fb9f3a"
             ],
             [
              0.8888888888888888,
              "#fdca26"
             ],
             [
              1,
              "#f0f921"
             ]
            ],
            "type": "heatmapgl"
           }
          ],
          "histogram": [
           {
            "marker": {
             "pattern": {
              "fillmode": "overlay",
              "size": 10,
              "solidity": 0.2
             }
            },
            "type": "histogram"
           }
          ],
          "histogram2d": [
           {
            "colorbar": {
             "outlinewidth": 0,
             "ticks": ""
            },
            "colorscale": [
             [
              0,
              "#0d0887"
             ],
             [
              0.1111111111111111,
              "#46039f"
             ],
             [
              0.2222222222222222,
              "#7201a8"
             ],
             [
              0.3333333333333333,
              "#9c179e"
             ],
             [
              0.4444444444444444,
              "#bd3786"
             ],
             [
              0.5555555555555556,
              "#d8576b"
             ],
             [
              0.6666666666666666,
              "#ed7953"
             ],
             [
              0.7777777777777778,
              "#fb9f3a"
             ],
             [
              0.8888888888888888,
              "#fdca26"
             ],
             [
              1,
              "#f0f921"
             ]
            ],
            "type": "histogram2d"
           }
          ],
          "histogram2dcontour": [
           {
            "colorbar": {
             "outlinewidth": 0,
             "ticks": ""
            },
            "colorscale": [
             [
              0,
              "#0d0887"
             ],
             [
              0.1111111111111111,
              "#46039f"
             ],
             [
              0.2222222222222222,
              "#7201a8"
             ],
             [
              0.3333333333333333,
              "#9c179e"
             ],
             [
              0.4444444444444444,
              "#bd3786"
             ],
             [
              0.5555555555555556,
              "#d8576b"
             ],
             [
              0.6666666666666666,
              "#ed7953"
             ],
             [
              0.7777777777777778,
              "#fb9f3a"
             ],
             [
              0.8888888888888888,
              "#fdca26"
             ],
             [
              1,
              "#f0f921"
             ]
            ],
            "type": "histogram2dcontour"
           }
          ],
          "mesh3d": [
           {
            "colorbar": {
             "outlinewidth": 0,
             "ticks": ""
            },
            "type": "mesh3d"
           }
          ],
          "parcoords": [
           {
            "line": {
             "colorbar": {
              "outlinewidth": 0,
              "ticks": ""
             }
            },
            "type": "parcoords"
           }
          ],
          "pie": [
           {
            "automargin": true,
            "type": "pie"
           }
          ],
          "scatter": [
           {
            "marker": {
             "colorbar": {
              "outlinewidth": 0,
              "ticks": ""
             }
            },
            "type": "scatter"
           }
          ],
          "scatter3d": [
           {
            "line": {
             "colorbar": {
              "outlinewidth": 0,
              "ticks": ""
             }
            },
            "marker": {
             "colorbar": {
              "outlinewidth": 0,
              "ticks": ""
             }
            },
            "type": "scatter3d"
           }
          ],
          "scattercarpet": [
           {
            "marker": {
             "colorbar": {
              "outlinewidth": 0,
              "ticks": ""
             }
            },
            "type": "scattercarpet"
           }
          ],
          "scattergeo": [
           {
            "marker": {
             "colorbar": {
              "outlinewidth": 0,
              "ticks": ""
             }
            },
            "type": "scattergeo"
           }
          ],
          "scattergl": [
           {
            "marker": {
             "colorbar": {
              "outlinewidth": 0,
              "ticks": ""
             }
            },
            "type": "scattergl"
           }
          ],
          "scattermapbox": [
           {
            "marker": {
             "colorbar": {
              "outlinewidth": 0,
              "ticks": ""
             }
            },
            "type": "scattermapbox"
           }
          ],
          "scatterpolar": [
           {
            "marker": {
             "colorbar": {
              "outlinewidth": 0,
              "ticks": ""
             }
            },
            "type": "scatterpolar"
           }
          ],
          "scatterpolargl": [
           {
            "marker": {
             "colorbar": {
              "outlinewidth": 0,
              "ticks": ""
             }
            },
            "type": "scatterpolargl"
           }
          ],
          "scatterternary": [
           {
            "marker": {
             "colorbar": {
              "outlinewidth": 0,
              "ticks": ""
             }
            },
            "type": "scatterternary"
           }
          ],
          "surface": [
           {
            "colorbar": {
             "outlinewidth": 0,
             "ticks": ""
            },
            "colorscale": [
             [
              0,
              "#0d0887"
             ],
             [
              0.1111111111111111,
              "#46039f"
             ],
             [
              0.2222222222222222,
              "#7201a8"
             ],
             [
              0.3333333333333333,
              "#9c179e"
             ],
             [
              0.4444444444444444,
              "#bd3786"
             ],
             [
              0.5555555555555556,
              "#d8576b"
             ],
             [
              0.6666666666666666,
              "#ed7953"
             ],
             [
              0.7777777777777778,
              "#fb9f3a"
             ],
             [
              0.8888888888888888,
              "#fdca26"
             ],
             [
              1,
              "#f0f921"
             ]
            ],
            "type": "surface"
           }
          ],
          "table": [
           {
            "cells": {
             "fill": {
              "color": "#EBF0F8"
             },
             "line": {
              "color": "white"
             }
            },
            "header": {
             "fill": {
              "color": "#C8D4E3"
             },
             "line": {
              "color": "white"
             }
            },
            "type": "table"
           }
          ]
         },
         "layout": {
          "annotationdefaults": {
           "arrowcolor": "#2a3f5f",
           "arrowhead": 0,
           "arrowwidth": 1
          },
          "autotypenumbers": "strict",
          "coloraxis": {
           "colorbar": {
            "outlinewidth": 0,
            "ticks": ""
           }
          },
          "colorscale": {
           "diverging": [
            [
             0,
             "#8e0152"
            ],
            [
             0.1,
             "#c51b7d"
            ],
            [
             0.2,
             "#de77ae"
            ],
            [
             0.3,
             "#f1b6da"
            ],
            [
             0.4,
             "#fde0ef"
            ],
            [
             0.5,
             "#f7f7f7"
            ],
            [
             0.6,
             "#e6f5d0"
            ],
            [
             0.7,
             "#b8e186"
            ],
            [
             0.8,
             "#7fbc41"
            ],
            [
             0.9,
             "#4d9221"
            ],
            [
             1,
             "#276419"
            ]
           ],
           "sequential": [
            [
             0,
             "#0d0887"
            ],
            [
             0.1111111111111111,
             "#46039f"
            ],
            [
             0.2222222222222222,
             "#7201a8"
            ],
            [
             0.3333333333333333,
             "#9c179e"
            ],
            [
             0.4444444444444444,
             "#bd3786"
            ],
            [
             0.5555555555555556,
             "#d8576b"
            ],
            [
             0.6666666666666666,
             "#ed7953"
            ],
            [
             0.7777777777777778,
             "#fb9f3a"
            ],
            [
             0.8888888888888888,
             "#fdca26"
            ],
            [
             1,
             "#f0f921"
            ]
           ],
           "sequentialminus": [
            [
             0,
             "#0d0887"
            ],
            [
             0.1111111111111111,
             "#46039f"
            ],
            [
             0.2222222222222222,
             "#7201a8"
            ],
            [
             0.3333333333333333,
             "#9c179e"
            ],
            [
             0.4444444444444444,
             "#bd3786"
            ],
            [
             0.5555555555555556,
             "#d8576b"
            ],
            [
             0.6666666666666666,
             "#ed7953"
            ],
            [
             0.7777777777777778,
             "#fb9f3a"
            ],
            [
             0.8888888888888888,
             "#fdca26"
            ],
            [
             1,
             "#f0f921"
            ]
           ]
          },
          "colorway": [
           "#636efa",
           "#EF553B",
           "#00cc96",
           "#ab63fa",
           "#FFA15A",
           "#19d3f3",
           "#FF6692",
           "#B6E880",
           "#FF97FF",
           "#FECB52"
          ],
          "font": {
           "color": "#2a3f5f"
          },
          "geo": {
           "bgcolor": "white",
           "lakecolor": "white",
           "landcolor": "#E5ECF6",
           "showlakes": true,
           "showland": true,
           "subunitcolor": "white"
          },
          "hoverlabel": {
           "align": "left"
          },
          "hovermode": "closest",
          "mapbox": {
           "style": "light"
          },
          "paper_bgcolor": "white",
          "plot_bgcolor": "#E5ECF6",
          "polar": {
           "angularaxis": {
            "gridcolor": "white",
            "linecolor": "white",
            "ticks": ""
           },
           "bgcolor": "#E5ECF6",
           "radialaxis": {
            "gridcolor": "white",
            "linecolor": "white",
            "ticks": ""
           }
          },
          "scene": {
           "xaxis": {
            "backgroundcolor": "#E5ECF6",
            "gridcolor": "white",
            "gridwidth": 2,
            "linecolor": "white",
            "showbackground": true,
            "ticks": "",
            "zerolinecolor": "white"
           },
           "yaxis": {
            "backgroundcolor": "#E5ECF6",
            "gridcolor": "white",
            "gridwidth": 2,
            "linecolor": "white",
            "showbackground": true,
            "ticks": "",
            "zerolinecolor": "white"
           },
           "zaxis": {
            "backgroundcolor": "#E5ECF6",
            "gridcolor": "white",
            "gridwidth": 2,
            "linecolor": "white",
            "showbackground": true,
            "ticks": "",
            "zerolinecolor": "white"
           }
          },
          "shapedefaults": {
           "line": {
            "color": "#2a3f5f"
           }
          },
          "ternary": {
           "aaxis": {
            "gridcolor": "white",
            "linecolor": "white",
            "ticks": ""
           },
           "baxis": {
            "gridcolor": "white",
            "linecolor": "white",
            "ticks": ""
           },
           "bgcolor": "#E5ECF6",
           "caxis": {
            "gridcolor": "white",
            "linecolor": "white",
            "ticks": ""
           }
          },
          "title": {
           "x": 0.05
          },
          "xaxis": {
           "automargin": true,
           "gridcolor": "white",
           "linecolor": "white",
           "ticks": "",
           "title": {
            "standoff": 15
           },
           "zerolinecolor": "white",
           "zerolinewidth": 2
          },
          "yaxis": {
           "automargin": true,
           "gridcolor": "white",
           "linecolor": "white",
           "ticks": "",
           "title": {
            "standoff": 15
           },
           "zerolinecolor": "white",
           "zerolinewidth": 2
          }
         }
        },
        "title": {
         "font": {
          "size": 20
         },
         "text": "<b>NUMBER & PERCENTAGE OF ACCURATE PARCELS<br>PER DELIVERY DURATION GROUP<b>",
         "x": 0.45,
         "y": 0.9
        },
        "width": 1000,
        "xaxis": {
         "showgrid": false,
         "title": {
          "text": "Delivery duration"
         }
        },
        "yaxis": {
         "range": [
          0,
          875
         ],
         "title": {
          "text": "Number of parcels"
         }
        }
       }
      }
     },
     "metadata": {},
     "output_type": "display_data"
    }
   ],
   "source": [
    "# PLOT\n",
    "plot_data = dur_hour_tbl.iloc[:-1].copy()\n",
    "x = plot_data['dur_hour_group'].values\n",
    "\n",
    "fig = go.Figure(data=[\n",
    "    go.Bar(name='Total parcels', x=x, y=plot_data['total_parcels'], \n",
    "           marker_color='cornflowerblue',\n",
    "           texttemplate='%{y:,} parcels<br>'\n",
    "           ),\n",
    "    go.Bar(name='Accurate parcels', x=x, y=plot_data['parcels_with_accurate_EDDs'], \n",
    "           marker_color='darkblue', \n",
    "           customdata= plot_data['perc_accurate_parcels %'], \n",
    "           texttemplate='%{y:,} parcels<br>(%{customdata:.2f} %)'\n",
    "           )\n",
    "])\n",
    "fig.update_traces(textposition = 'outside')\n",
    "fig.update_layout(\n",
    "    barmode='group',\n",
    "    width=1000,\n",
    "    height=600,\n",
    "    title='<b>NUMBER & PERCENTAGE OF ACCURATE PARCELS<br>PER DELIVERY DURATION GROUP<b>', title_font={'size':20},\n",
    "    title_x=.45, title_y=.9,\n",
    "    xaxis={'title': 'Delivery duration', 'showgrid':False}, \n",
    "    yaxis={'title':'Number of parcels', 'range': [0,875]}\n",
    ")\n",
    "fig.show()"
   ]
  },
  {
   "cell_type": "markdown",
   "metadata": {},
   "source": [
    "LONGER DELIVERY DURATION HAS HIGHER EDD ACCURACY PER PARCEL AND VICE VERSA."
   ]
  },
  {
   "cell_type": "code",
   "execution_count": 3350,
   "metadata": {},
   "outputs": [
    {
     "name": "stdout",
     "output_type": "stream",
     "text": [
      "I DIVIDED TOTAL PARCELS INTO 4 GROUP OF DELIVERY DURATION, ALL OF WHICH CONTAINS 25% OF TOTAL PARCELS VOLUME (801-3205 PARCELS).\n",
      "\n",
      "DELIVERY DURATION > 7.49 hrs HAS THE HIGHEST ACCURACY PERCENTAGE (46.57 %)\n",
      "\n",
      "WHEREAS DURATION 0 - 2.27 hrs HAS THE LOWEST ACCURACY PERCENTAGE (26.93 %).\n"
     ]
    }
   ],
   "source": [
    "print(f'''I DIVIDED TOTAL PARCELS INTO 4 GROUP OF DELIVERY DURATION, ALL OF WHICH CONTAINS 25% OF TOTAL PARCELS VOLUME ({dur_hour_tbl[\"total_parcels\"].min()}-{dur_hour_tbl[\"total_parcels\"].max()} PARCELS).\n",
    "\n",
    "DELIVERY DURATION {dur_hour_tbl.iloc[-2,0]} HAS THE HIGHEST ACCURACY PERCENTAGE ({dur_hour_tbl.iloc[-2,-1]:.2f} %)\n",
    "\n",
    "WHEREAS DURATION {dur_hour_tbl.iloc[0,0]} HAS THE LOWEST ACCURACY PERCENTAGE ({dur_hour_tbl.iloc[0,-1]:.2f} %).''')"
   ]
  },
  {
   "cell_type": "markdown",
   "metadata": {},
   "source": [
    "#### 4. PARCELS WITH ACCURATE EDDs PER DELIVERY TIME"
   ]
  },
  {
   "cell_type": "code",
   "execution_count": 3297,
   "metadata": {},
   "outputs": [
    {
     "data": {
      "application/vnd.plotly.v1+json": {
       "config": {
        "plotlyServerURL": "https://plot.ly"
       },
       "data": [
        {
         "customdata": [
          74.32137285491419,
          25.6786271450858
         ],
         "marker": {
          "color": "cornflowerblue"
         },
         "name": "Total parcels",
         "textposition": "outside",
         "texttemplate": "%{y:,} parcels<br>(%{customdata:.2f} %)",
         "type": "bar",
         "x": [
          "0AM - 6AM (6hrs)",
          "6AM - 0AM (18 hrs)"
         ],
         "y": [
          2382,
          823
         ]
        },
        {
         "customdata": [
          41.39378673383711,
          27.217496962332927
         ],
         "marker": {
          "color": "darkblue"
         },
         "name": "Accurate parcels",
         "textposition": "outside",
         "texttemplate": "%{y:,} parcels<br>(%{customdata:.2f} %)",
         "type": "bar",
         "x": [
          "0AM - 6AM (6hrs)",
          "6AM - 0AM (18 hrs)"
         ],
         "y": [
          986,
          224
         ]
        }
       ],
       "layout": {
        "barmode": "group",
        "height": 600,
        "template": {
         "data": {
          "bar": [
           {
            "error_x": {
             "color": "#2a3f5f"
            },
            "error_y": {
             "color": "#2a3f5f"
            },
            "marker": {
             "line": {
              "color": "#E5ECF6",
              "width": 0.5
             },
             "pattern": {
              "fillmode": "overlay",
              "size": 10,
              "solidity": 0.2
             }
            },
            "type": "bar"
           }
          ],
          "barpolar": [
           {
            "marker": {
             "line": {
              "color": "#E5ECF6",
              "width": 0.5
             },
             "pattern": {
              "fillmode": "overlay",
              "size": 10,
              "solidity": 0.2
             }
            },
            "type": "barpolar"
           }
          ],
          "carpet": [
           {
            "aaxis": {
             "endlinecolor": "#2a3f5f",
             "gridcolor": "white",
             "linecolor": "white",
             "minorgridcolor": "white",
             "startlinecolor": "#2a3f5f"
            },
            "baxis": {
             "endlinecolor": "#2a3f5f",
             "gridcolor": "white",
             "linecolor": "white",
             "minorgridcolor": "white",
             "startlinecolor": "#2a3f5f"
            },
            "type": "carpet"
           }
          ],
          "choropleth": [
           {
            "colorbar": {
             "outlinewidth": 0,
             "ticks": ""
            },
            "type": "choropleth"
           }
          ],
          "contour": [
           {
            "colorbar": {
             "outlinewidth": 0,
             "ticks": ""
            },
            "colorscale": [
             [
              0,
              "#0d0887"
             ],
             [
              0.1111111111111111,
              "#46039f"
             ],
             [
              0.2222222222222222,
              "#7201a8"
             ],
             [
              0.3333333333333333,
              "#9c179e"
             ],
             [
              0.4444444444444444,
              "#bd3786"
             ],
             [
              0.5555555555555556,
              "#d8576b"
             ],
             [
              0.6666666666666666,
              "#ed7953"
             ],
             [
              0.7777777777777778,
              "#fb9f3a"
             ],
             [
              0.8888888888888888,
              "#fdca26"
             ],
             [
              1,
              "#f0f921"
             ]
            ],
            "type": "contour"
           }
          ],
          "contourcarpet": [
           {
            "colorbar": {
             "outlinewidth": 0,
             "ticks": ""
            },
            "type": "contourcarpet"
           }
          ],
          "heatmap": [
           {
            "colorbar": {
             "outlinewidth": 0,
             "ticks": ""
            },
            "colorscale": [
             [
              0,
              "#0d0887"
             ],
             [
              0.1111111111111111,
              "#46039f"
             ],
             [
              0.2222222222222222,
              "#7201a8"
             ],
             [
              0.3333333333333333,
              "#9c179e"
             ],
             [
              0.4444444444444444,
              "#bd3786"
             ],
             [
              0.5555555555555556,
              "#d8576b"
             ],
             [
              0.6666666666666666,
              "#ed7953"
             ],
             [
              0.7777777777777778,
              "#fb9f3a"
             ],
             [
              0.8888888888888888,
              "#fdca26"
             ],
             [
              1,
              "#f0f921"
             ]
            ],
            "type": "heatmap"
           }
          ],
          "heatmapgl": [
           {
            "colorbar": {
             "outlinewidth": 0,
             "ticks": ""
            },
            "colorscale": [
             [
              0,
              "#0d0887"
             ],
             [
              0.1111111111111111,
              "#46039f"
             ],
             [
              0.2222222222222222,
              "#7201a8"
             ],
             [
              0.3333333333333333,
              "#9c179e"
             ],
             [
              0.4444444444444444,
              "#bd3786"
             ],
             [
              0.5555555555555556,
              "#d8576b"
             ],
             [
              0.6666666666666666,
              "#ed7953"
             ],
             [
              0.7777777777777778,
              "#fb9f3a"
             ],
             [
              0.8888888888888888,
              "#fdca26"
             ],
             [
              1,
              "#f0f921"
             ]
            ],
            "type": "heatmapgl"
           }
          ],
          "histogram": [
           {
            "marker": {
             "pattern": {
              "fillmode": "overlay",
              "size": 10,
              "solidity": 0.2
             }
            },
            "type": "histogram"
           }
          ],
          "histogram2d": [
           {
            "colorbar": {
             "outlinewidth": 0,
             "ticks": ""
            },
            "colorscale": [
             [
              0,
              "#0d0887"
             ],
             [
              0.1111111111111111,
              "#46039f"
             ],
             [
              0.2222222222222222,
              "#7201a8"
             ],
             [
              0.3333333333333333,
              "#9c179e"
             ],
             [
              0.4444444444444444,
              "#bd3786"
             ],
             [
              0.5555555555555556,
              "#d8576b"
             ],
             [
              0.6666666666666666,
              "#ed7953"
             ],
             [
              0.7777777777777778,
              "#fb9f3a"
             ],
             [
              0.8888888888888888,
              "#fdca26"
             ],
             [
              1,
              "#f0f921"
             ]
            ],
            "type": "histogram2d"
           }
          ],
          "histogram2dcontour": [
           {
            "colorbar": {
             "outlinewidth": 0,
             "ticks": ""
            },
            "colorscale": [
             [
              0,
              "#0d0887"
             ],
             [
              0.1111111111111111,
              "#46039f"
             ],
             [
              0.2222222222222222,
              "#7201a8"
             ],
             [
              0.3333333333333333,
              "#9c179e"
             ],
             [
              0.4444444444444444,
              "#bd3786"
             ],
             [
              0.5555555555555556,
              "#d8576b"
             ],
             [
              0.6666666666666666,
              "#ed7953"
             ],
             [
              0.7777777777777778,
              "#fb9f3a"
             ],
             [
              0.8888888888888888,
              "#fdca26"
             ],
             [
              1,
              "#f0f921"
             ]
            ],
            "type": "histogram2dcontour"
           }
          ],
          "mesh3d": [
           {
            "colorbar": {
             "outlinewidth": 0,
             "ticks": ""
            },
            "type": "mesh3d"
           }
          ],
          "parcoords": [
           {
            "line": {
             "colorbar": {
              "outlinewidth": 0,
              "ticks": ""
             }
            },
            "type": "parcoords"
           }
          ],
          "pie": [
           {
            "automargin": true,
            "type": "pie"
           }
          ],
          "scatter": [
           {
            "marker": {
             "colorbar": {
              "outlinewidth": 0,
              "ticks": ""
             }
            },
            "type": "scatter"
           }
          ],
          "scatter3d": [
           {
            "line": {
             "colorbar": {
              "outlinewidth": 0,
              "ticks": ""
             }
            },
            "marker": {
             "colorbar": {
              "outlinewidth": 0,
              "ticks": ""
             }
            },
            "type": "scatter3d"
           }
          ],
          "scattercarpet": [
           {
            "marker": {
             "colorbar": {
              "outlinewidth": 0,
              "ticks": ""
             }
            },
            "type": "scattercarpet"
           }
          ],
          "scattergeo": [
           {
            "marker": {
             "colorbar": {
              "outlinewidth": 0,
              "ticks": ""
             }
            },
            "type": "scattergeo"
           }
          ],
          "scattergl": [
           {
            "marker": {
             "colorbar": {
              "outlinewidth": 0,
              "ticks": ""
             }
            },
            "type": "scattergl"
           }
          ],
          "scattermapbox": [
           {
            "marker": {
             "colorbar": {
              "outlinewidth": 0,
              "ticks": ""
             }
            },
            "type": "scattermapbox"
           }
          ],
          "scatterpolar": [
           {
            "marker": {
             "colorbar": {
              "outlinewidth": 0,
              "ticks": ""
             }
            },
            "type": "scatterpolar"
           }
          ],
          "scatterpolargl": [
           {
            "marker": {
             "colorbar": {
              "outlinewidth": 0,
              "ticks": ""
             }
            },
            "type": "scatterpolargl"
           }
          ],
          "scatterternary": [
           {
            "marker": {
             "colorbar": {
              "outlinewidth": 0,
              "ticks": ""
             }
            },
            "type": "scatterternary"
           }
          ],
          "surface": [
           {
            "colorbar": {
             "outlinewidth": 0,
             "ticks": ""
            },
            "colorscale": [
             [
              0,
              "#0d0887"
             ],
             [
              0.1111111111111111,
              "#46039f"
             ],
             [
              0.2222222222222222,
              "#7201a8"
             ],
             [
              0.3333333333333333,
              "#9c179e"
             ],
             [
              0.4444444444444444,
              "#bd3786"
             ],
             [
              0.5555555555555556,
              "#d8576b"
             ],
             [
              0.6666666666666666,
              "#ed7953"
             ],
             [
              0.7777777777777778,
              "#fb9f3a"
             ],
             [
              0.8888888888888888,
              "#fdca26"
             ],
             [
              1,
              "#f0f921"
             ]
            ],
            "type": "surface"
           }
          ],
          "table": [
           {
            "cells": {
             "fill": {
              "color": "#EBF0F8"
             },
             "line": {
              "color": "white"
             }
            },
            "header": {
             "fill": {
              "color": "#C8D4E3"
             },
             "line": {
              "color": "white"
             }
            },
            "type": "table"
           }
          ]
         },
         "layout": {
          "annotationdefaults": {
           "arrowcolor": "#2a3f5f",
           "arrowhead": 0,
           "arrowwidth": 1
          },
          "autotypenumbers": "strict",
          "coloraxis": {
           "colorbar": {
            "outlinewidth": 0,
            "ticks": ""
           }
          },
          "colorscale": {
           "diverging": [
            [
             0,
             "#8e0152"
            ],
            [
             0.1,
             "#c51b7d"
            ],
            [
             0.2,
             "#de77ae"
            ],
            [
             0.3,
             "#f1b6da"
            ],
            [
             0.4,
             "#fde0ef"
            ],
            [
             0.5,
             "#f7f7f7"
            ],
            [
             0.6,
             "#e6f5d0"
            ],
            [
             0.7,
             "#b8e186"
            ],
            [
             0.8,
             "#7fbc41"
            ],
            [
             0.9,
             "#4d9221"
            ],
            [
             1,
             "#276419"
            ]
           ],
           "sequential": [
            [
             0,
             "#0d0887"
            ],
            [
             0.1111111111111111,
             "#46039f"
            ],
            [
             0.2222222222222222,
             "#7201a8"
            ],
            [
             0.3333333333333333,
             "#9c179e"
            ],
            [
             0.4444444444444444,
             "#bd3786"
            ],
            [
             0.5555555555555556,
             "#d8576b"
            ],
            [
             0.6666666666666666,
             "#ed7953"
            ],
            [
             0.7777777777777778,
             "#fb9f3a"
            ],
            [
             0.8888888888888888,
             "#fdca26"
            ],
            [
             1,
             "#f0f921"
            ]
           ],
           "sequentialminus": [
            [
             0,
             "#0d0887"
            ],
            [
             0.1111111111111111,
             "#46039f"
            ],
            [
             0.2222222222222222,
             "#7201a8"
            ],
            [
             0.3333333333333333,
             "#9c179e"
            ],
            [
             0.4444444444444444,
             "#bd3786"
            ],
            [
             0.5555555555555556,
             "#d8576b"
            ],
            [
             0.6666666666666666,
             "#ed7953"
            ],
            [
             0.7777777777777778,
             "#fb9f3a"
            ],
            [
             0.8888888888888888,
             "#fdca26"
            ],
            [
             1,
             "#f0f921"
            ]
           ]
          },
          "colorway": [
           "#636efa",
           "#EF553B",
           "#00cc96",
           "#ab63fa",
           "#FFA15A",
           "#19d3f3",
           "#FF6692",
           "#B6E880",
           "#FF97FF",
           "#FECB52"
          ],
          "font": {
           "color": "#2a3f5f"
          },
          "geo": {
           "bgcolor": "white",
           "lakecolor": "white",
           "landcolor": "#E5ECF6",
           "showlakes": true,
           "showland": true,
           "subunitcolor": "white"
          },
          "hoverlabel": {
           "align": "left"
          },
          "hovermode": "closest",
          "mapbox": {
           "style": "light"
          },
          "paper_bgcolor": "white",
          "plot_bgcolor": "#E5ECF6",
          "polar": {
           "angularaxis": {
            "gridcolor": "white",
            "linecolor": "white",
            "ticks": ""
           },
           "bgcolor": "#E5ECF6",
           "radialaxis": {
            "gridcolor": "white",
            "linecolor": "white",
            "ticks": ""
           }
          },
          "scene": {
           "xaxis": {
            "backgroundcolor": "#E5ECF6",
            "gridcolor": "white",
            "gridwidth": 2,
            "linecolor": "white",
            "showbackground": true,
            "ticks": "",
            "zerolinecolor": "white"
           },
           "yaxis": {
            "backgroundcolor": "#E5ECF6",
            "gridcolor": "white",
            "gridwidth": 2,
            "linecolor": "white",
            "showbackground": true,
            "ticks": "",
            "zerolinecolor": "white"
           },
           "zaxis": {
            "backgroundcolor": "#E5ECF6",
            "gridcolor": "white",
            "gridwidth": 2,
            "linecolor": "white",
            "showbackground": true,
            "ticks": "",
            "zerolinecolor": "white"
           }
          },
          "shapedefaults": {
           "line": {
            "color": "#2a3f5f"
           }
          },
          "ternary": {
           "aaxis": {
            "gridcolor": "white",
            "linecolor": "white",
            "ticks": ""
           },
           "baxis": {
            "gridcolor": "white",
            "linecolor": "white",
            "ticks": ""
           },
           "bgcolor": "#E5ECF6",
           "caxis": {
            "gridcolor": "white",
            "linecolor": "white",
            "ticks": ""
           }
          },
          "title": {
           "x": 0.05
          },
          "xaxis": {
           "automargin": true,
           "gridcolor": "white",
           "linecolor": "white",
           "ticks": "",
           "title": {
            "standoff": 15
           },
           "zerolinecolor": "white",
           "zerolinewidth": 2
          },
          "yaxis": {
           "automargin": true,
           "gridcolor": "white",
           "linecolor": "white",
           "ticks": "",
           "title": {
            "standoff": 15
           },
           "zerolinecolor": "white",
           "zerolinewidth": 2
          }
         }
        },
        "title": {
         "font": {
          "size": 20
         },
         "text": "<b>NUMBER & PERCENTAGE OF ACCURATE PARCELS<br>PER DELIVERY TIME<b>",
         "x": 0.45,
         "y": 0.9
        },
        "width": 1000,
        "xaxis": {
         "showgrid": false,
         "title": {
          "text": "Delivery time of day"
         }
        },
        "yaxis": {
         "range": [
          0,
          2800
         ],
         "title": {
          "text": "Number of parcels"
         }
        }
       }
      }
     },
     "metadata": {},
     "output_type": "display_data"
    }
   ],
   "source": [
    "# PLOT\n",
    "x = ['0AM - 6AM (6hrs)', '6AM - 0AM (18 hrs)']\n",
    "COUNT_TOTAL_MIDNIGHT = last_normal_edd_tbl[last_normal_edd_tbl['final_delivery_date'].dt.hour<6].shape[0]\n",
    "COUNT_TOTAL_DAY = last_normal_edd_tbl[(last_normal_edd_tbl['final_delivery_date'].dt.hour>=6) & (last_normal_edd_tbl['final_delivery_date'].dt.hour<24)].shape[0]\n",
    "COUNT_ACCURATE_MIDNIGHT = last_normal_edd_tbl[(last_normal_edd_tbl['EDD_is_accurate']==True) & (last_normal_edd_tbl['final_delivery_date'].dt.hour<6)].shape[0]\n",
    "COUNT_ACCURATE_DAY = last_normal_edd_tbl[(last_normal_edd_tbl['EDD_is_accurate']==True) & \n",
    "                                       (last_normal_edd_tbl['final_delivery_date'].dt.hour>=6) \n",
    "                                       & (last_normal_edd_tbl['final_delivery_date'].dt.hour<24)].shape[0]\n",
    "PERC_ACCURATE_MIDNIGHT = COUNT_ACCURATE_MIDNIGHT/COUNT_TOTAL_MIDNIGHT*100\n",
    "PERC_ACCURATE_DAY = COUNT_ACCURATE_DAY/COUNT_TOTAL_DAY*100\n",
    "\n",
    "y_total_parcels = [COUNT_TOTAL_MIDNIGHT, COUNT_TOTAL_DAY]\n",
    "y_accurate_parcels = [COUNT_ACCURATE_MIDNIGHT, COUNT_ACCURATE_DAY]\n",
    "\n",
    "fig = go.Figure(data=[\n",
    "    go.Bar(name='Total parcels', x=x, y=y_total_parcels, \n",
    "           marker_color='cornflowerblue',\n",
    "           customdata= [y_total_parcels[i]/TOTAL_PARCELS*100 for i in range(len(y_total_parcels))], \n",
    "           texttemplate='%{y:,} parcels<br>(%{customdata:.2f} %)', textposition = 'outside'\n",
    "           ),\n",
    "    go.Bar(name='Accurate parcels', x=x, y=y_accurate_parcels, \n",
    "           marker_color='darkblue', \n",
    "           customdata= [y_accurate_parcels[i]/y_total_parcels[i]*100 for i in range(len(y_total_parcels))], \n",
    "           texttemplate='%{y:,} parcels<br>(%{customdata:.2f} %)', textposition = 'outside'\n",
    "           )\n",
    "])\n",
    "fig.update_layout(\n",
    "    barmode='group',\n",
    "    width=1000,\n",
    "    height=600,\n",
    "    title='<b>NUMBER & PERCENTAGE OF ACCURATE PARCELS<br>PER DELIVERY TIME<b>', title_font={'size':20},\n",
    "    title_x=.45, title_y=.9,\n",
    "    xaxis={'title': 'Delivery time of day', 'showgrid':False}, \n",
    "    yaxis={'title':'Number of parcels','range':[0,2800]}\n",
    ")\n",
    "fig.show()"
   ]
  },
  {
   "cell_type": "code",
   "execution_count": 3314,
   "metadata": {},
   "outputs": [
    {
     "name": "stdout",
     "output_type": "stream",
     "text": [
      "\n",
      "APPROXIMATELY 75% TOTAL PARCELS (2,382 PARCELS) WERE DELIVERED DURING MIDNIGHT HOURS FROM 0AM TO 6AM,\n",
      "    AND 41.39% OF THEM (986 PARCELS) HAVE ACCURATE EDDS.\n",
      "    \n",
      "WHEREAS ONLY 25% TOTAL PARCELS (823 PARCELS) WERE DELIVERED DURING DAYTIME FROM 6AM TO 0AM,\n",
      "    AND ONLY 27.22% OF THEM (224 PARCELS) HAVE ACCURATE EDDS.\n",
      "      \n"
     ]
    }
   ],
   "source": [
    "print(f'''\n",
    "APPROXIMATELY 75% TOTAL PARCELS ({COUNT_TOTAL_MIDNIGHT:,} PARCELS) WERE DELIVERED DURING MIDNIGHT HOURS FROM 0AM TO 6AM,\n",
    "    AND {PERC_ACCURATE_MIDNIGHT:.2F}% OF THEM ({COUNT_ACCURATE_MIDNIGHT:,} PARCELS) HAVE ACCURATE EDDS.\n",
    "    \n",
    "WHEREAS ONLY 25% TOTAL PARCELS ({COUNT_TOTAL_DAY:,} PARCELS) WERE DELIVERED DURING DAYTIME FROM 6AM TO 0AM,\n",
    "    AND ONLY {PERC_ACCURATE_DAY:.2F}% OF THEM ({COUNT_ACCURATE_DAY:,} PARCELS) HAVE ACCURATE EDDS.\n",
    "      ''')"
   ]
  },
  {
   "cell_type": "markdown",
   "metadata": {},
   "source": [
    "### **V. CHARACTERISTICS OF INACCURATE EDDs PARCELS**\n",
    "\n",
    "Possible reasons/factors why a parcel EDD is predicted inaccurately:\n",
    "\n",
    "- Parcels predicted to be delivered before date of prediction.\n",
    "\n",
    "- Days between prediction and delivery date (FDD). \n",
    "\n",
    "    - Some parcels predicted very close to FDD but are still inaccurate\n",
    "\n",
    "- Final delivery time of day"
   ]
  },
  {
   "cell_type": "code",
   "execution_count": 3299,
   "metadata": {},
   "outputs": [
    {
     "data": {
      "image/png": "[encoded data removed]",
      "text/plain": [
       "<Figure size 1080x576 with 1 Axes>"
      ]
     },
     "metadata": {
      "needs_background": "light"
     },
     "output_type": "display_data"
    }
   ],
   "source": [
    "# PLOT\n",
    "plt.figure(figsize=(15,8))\n",
    "ax = sns.scatterplot(x=last_normal_edd_tbl['daydiff_log_FDD'], \n",
    "                y=last_normal_edd_tbl['daydiff_bw_FDD_EDD'], \n",
    "                hue=last_normal_edd_tbl['EDD_is_accurate'], \n",
    "                palette=['C0', 'red']\n",
    ")\n",
    "plt.axhline(0, color='green', linestyle='-')\n",
    "# plt.text(-17.5,-1.3, 'Perfect prediction')\n",
    "plt.axvline(0, color='green', linestyle='dashed')\n",
    "# plt.text(0.1, -15, 'Final delivery date', c='r')\n",
    "# plt.axvline(-3.5, color='r', linestyle='dashed')\n",
    "# plt.text(-6.05, -15, '3.5 days before FDD', color='r')\n",
    "\n",
    "# AXIS LABEL\n",
    "plt.xlabel('Predicted x days before delivery', size=12)\n",
    "plt.ylabel('y days from delivery date to EDD', size=12)\n",
    "\n",
    "plt.grid(axis='both', which='both', linestyle='--')\n",
    "ax.spines[['right', 'top', 'left', 'bottom']].set_visible(False)\n",
    "plt.legend(title = 'EDD is accurate', fontsize='x-large', title_fontsize='20')\n",
    "plt.suptitle('LAST EXPECTED DELIVERY DATE COMPARED TO FINAL DELIVERY DATE', size=20)\n",
    "plt.show()"
   ]
  },
  {
   "cell_type": "markdown",
   "metadata": {},
   "source": [
    "THIS GRAPH SHOWS WHEN THE LAST EDD PER EACH PARCEL IS MADE COMPARED TO FINAL_DELIVERY_DATE (FDD) AND THE TIME DIFFERENCE BETWEEN EDD AND FDD.\n",
    "\n",
    "From this graph we can see that:\n",
    "\n",
    "- There are lots of last EDDs made far from FDD.\n",
    "\n",
    "- Many EDDs made very close to FDD but are still inaccurate."
   ]
  },
  {
   "cell_type": "markdown",
   "metadata": {},
   "source": [
    "#### 1. PARCELS PREDICTED TO BE DELIVERED BEFORE DATE OF PREDICTION"
   ]
  },
  {
   "cell_type": "markdown",
   "metadata": {},
   "source": [
    "Days difference = EDD prediction date - EDD"
   ]
  },
  {
   "cell_type": "code",
   "execution_count": 3346,
   "metadata": {},
   "outputs": [
    {
     "data": {
      "image/png": "[encoded data removed]",
      "text/plain": [
       "<Figure size 1152x576 with 1 Axes>"
      ]
     },
     "metadata": {
      "needs_background": "light"
     },
     "output_type": "display_data"
    }
   ],
   "source": [
    "plt.figure(figsize=(16,8))\n",
    "sns.histplot(tmp['daydiff_log_EDD'])\n",
    "plt.axvline(x=0, color='red', linestyle='--')\n",
    "plt.text(0.3, 400, 'log date = EDD', c='red')\n",
    "plt.suptitle('DAYS DIFFERENCE BETWEEN\\nPREDICTION LOG DATE & EXPECTED DELIVERY DATE', size=20)\n",
    "plt.xlabel('Days')\n",
    "plt.show()"
   ]
  },
  {
   "cell_type": "code",
   "execution_count": 3351,
   "metadata": {},
   "outputs": [
    {
     "name": "stdout",
     "output_type": "stream",
     "text": [
      "41 PARCELS (1.28%) WERE PREDICTED TO BE DELIVERED BEFORE PREDICTION DATE, WHICH IS OBVIOUSLY INACCURATE.\n"
     ]
    }
   ],
   "source": [
    "tmp = last_normal_edd_tbl[(last_normal_edd_tbl['log_timestamp'].dt.date > last_normal_edd_tbl['new_parcel_expected_time_first_end'].dt.date) # LOG DATE AFTER EDD RANGE\n",
    "              | ((last_normal_edd_tbl['new_parcel_expected_time_first_end'].isna()) & (last_normal_edd_tbl['log_timestamp'].dt.date > last_normal_edd_tbl['new_parcel_expected_time_first_start'].dt.date)) # LOG DATE IS AFTER EDD\n",
    "              | ((last_normal_edd_tbl['new_parcel_expected_time_first_start'].isna()) & (last_normal_edd_tbl['log_timestamp'].dt.date > last_normal_edd_tbl['new_parcel_expected_time_first_end'].dt.date))]\n",
    "COUNT_TMP = tmp[\"EDD_is_accurate\"].shape[0]\n",
    "PERC_TMP = tmp[\"EDD_is_accurate\"].shape[0] / TOTAL_PARCELS * 100\n",
    "print(f'{COUNT_TMP} PARCELS ({PERC_TMP:.2f}%) WERE PREDICTED TO BE DELIVERED BEFORE PREDICTION DATE, WHICH IS OBVIOUSLY INACCURATE.')"
   ]
  },
  {
   "cell_type": "markdown",
   "metadata": {},
   "source": [
    "#### 2. DAYS BETWEEN PREDICTION AND DELIVERY DATE (FDD)"
   ]
  },
  {
   "cell_type": "code",
   "execution_count": 3301,
   "metadata": {},
   "outputs": [
    {
     "data": {
      "text/html": [
       "<div>\n",
       "<style scoped>\n",
       "    .dataframe tbody tr th:only-of-type {\n",
       "        vertical-align: middle;\n",
       "    }\n",
       "\n",
       "    .dataframe tbody tr th {\n",
       "        vertical-align: top;\n",
       "    }\n",
       "\n",
       "    .dataframe thead th {\n",
       "        text-align: right;\n",
       "    }\n",
       "</style>\n",
       "<table border=\"1\" class=\"dataframe\">\n",
       "  <thead>\n",
       "    <tr style=\"text-align: right;\">\n",
       "      <th></th>\n",
       "      <th>predicted_days_before_FDD</th>\n",
       "      <th>total_parcels</th>\n",
       "      <th>parcels_with_accurate_EDDs</th>\n",
       "      <th>parcels_with_inaccurate_EDDs</th>\n",
       "      <th>perc_accurate_parcels %</th>\n",
       "      <th>perc_inaccurate_parcels %</th>\n",
       "    </tr>\n",
       "  </thead>\n",
       "  <tbody>\n",
       "    <tr>\n",
       "      <th>0</th>\n",
       "      <td>0 - 0.13</td>\n",
       "      <td>801</td>\n",
       "      <td>228</td>\n",
       "      <td>573</td>\n",
       "      <td>28.46</td>\n",
       "      <td>71.54</td>\n",
       "    </tr>\n",
       "    <tr>\n",
       "      <th>1</th>\n",
       "      <td>0.13 - 0.21</td>\n",
       "      <td>801</td>\n",
       "      <td>300</td>\n",
       "      <td>501</td>\n",
       "      <td>37.45</td>\n",
       "      <td>62.55</td>\n",
       "    </tr>\n",
       "    <tr>\n",
       "      <th>2</th>\n",
       "      <td>0.21 - 0.35</td>\n",
       "      <td>801</td>\n",
       "      <td>333</td>\n",
       "      <td>468</td>\n",
       "      <td>41.57</td>\n",
       "      <td>58.43</td>\n",
       "    </tr>\n",
       "    <tr>\n",
       "      <th>3</th>\n",
       "      <td>0.35 - 17.05</td>\n",
       "      <td>802</td>\n",
       "      <td>349</td>\n",
       "      <td>453</td>\n",
       "      <td>43.52</td>\n",
       "      <td>56.48</td>\n",
       "    </tr>\n",
       "    <tr>\n",
       "      <th>4</th>\n",
       "      <td>All</td>\n",
       "      <td>3205</td>\n",
       "      <td>1210</td>\n",
       "      <td>1995</td>\n",
       "      <td>37.75</td>\n",
       "      <td>62.25</td>\n",
       "    </tr>\n",
       "  </tbody>\n",
       "</table>\n",
       "</div>"
      ],
      "text/plain": [
       "  predicted_days_before_FDD  total_parcels  parcels_with_accurate_EDDs  \\\n",
       "0                  0 - 0.13            801                         228   \n",
       "1               0.13 - 0.21            801                         300   \n",
       "2               0.21 - 0.35            801                         333   \n",
       "3              0.35 - 17.05            802                         349   \n",
       "4                       All           3205                        1210   \n",
       "\n",
       "   parcels_with_inaccurate_EDDs  perc_accurate_parcels %  \\\n",
       "0                           573                    28.46   \n",
       "1                           501                    37.45   \n",
       "2                           468                    41.57   \n",
       "3                           453                    43.52   \n",
       "4                          1995                    37.75   \n",
       "\n",
       "   perc_inaccurate_parcels %  \n",
       "0                      71.54  \n",
       "1                      62.55  \n",
       "2                      58.43  \n",
       "3                      56.48  \n",
       "4                      62.25  "
      ]
     },
     "execution_count": 3301,
     "metadata": {},
     "output_type": "execute_result"
    }
   ],
   "source": [
    "# PREPARE DATA\n",
    "def group_daydiff_log_FDD(r):\n",
    "    '''\n",
    "    Function to devide daydiff_log_FDD into 4 groups\n",
    "    '''\n",
    "    min = (last_normal_edd_tbl['daydiff_log_FDD'].min())\n",
    "    q1 = last_normal_edd_tbl['daydiff_log_FDD'].quantile(.25)\n",
    "    median = last_normal_edd_tbl['daydiff_log_FDD'].median()\n",
    "    q3 = last_normal_edd_tbl['daydiff_log_FDD'].quantile(.75)\n",
    "\n",
    "    if r<= q1:\n",
    "        return f'{abs(q1):.2f} - {abs(min):.2f}'\n",
    "    elif r <= median:\n",
    "        return f'{abs(median):.2f} - {abs(q1):.2f}'\n",
    "    elif r <= q3:\n",
    "        return f'{abs(q3):.2f} - {abs(median):.2f}'\n",
    "    else: \n",
    "        return f'0 - {abs(q3):.2f}'\n",
    "    \n",
    "last_normal_edd_tbl['predicted_days_before_FDD'] = last_normal_edd_tbl['daydiff_log_FDD'].apply(group_daydiff_log_FDD)\n",
    "\n",
    "daydiff_log_FDD_tbl = last_normal_edd_tbl.groupby('predicted_days_before_FDD').apply(func_nunique)\n",
    "daydiff_log_FDD_tbl.loc['All',:] = daydiff_log_FDD_tbl.iloc[:,:].sum(axis=0, numeric_only=True)\n",
    "daydiff_log_FDD_tbl['perc_accurate_parcels %'] = daydiff_log_FDD_tbl['parcels_with_accurate_EDDs'] / daydiff_log_FDD_tbl['total_parcels'] * 100\n",
    "daydiff_log_FDD_tbl['perc_inaccurate_parcels %'] = daydiff_log_FDD_tbl['parcels_with_inaccurate_EDDs'] / daydiff_log_FDD_tbl['total_parcels'] * 100\n",
    "daydiff_log_FDD_tbl = daydiff_log_FDD_tbl.sort_values('predicted_days_before_FDD')\n",
    "daydiff_log_FDD_tbl.reset_index(inplace=True)\n",
    "daydiff_log_FDD_tbl.iloc[:,1:4] = daydiff_log_FDD_tbl.iloc[:,1:4].astype(int)\n",
    "daydiff_log_FDD_tbl"
   ]
  },
  {
   "cell_type": "markdown",
   "metadata": {},
   "source": [
    "EDD PREDICTED CLOSER TO FINAL DELIVERY DATE (FDD) HAS HIGHER EDD INACCURACY PER PARCEL AND VICE VERSA.\n",
    "\n"
   ]
  },
  {
   "cell_type": "code",
   "execution_count": 3303,
   "metadata": {},
   "outputs": [
    {
     "name": "stdout",
     "output_type": "stream",
     "text": [
      "I divided total parcels into 4 group of days difference between log date & FDD, \n",
      "      \n",
      "    all of which contains 25% of total parcels volume (801-802 parcels).\n",
      "\n",
      "Parcels predicted 0 - 0.13 days before FDD has the highest inaccuracy percentage (71.54 %)\n",
      "\n",
      "Whereas parcels predicted 0.35 - 17.05 days before FDD has the lowest inaccuracy percentage (56.48 %).\n"
     ]
    }
   ],
   "source": [
    "print(f'''I divided total parcels into 4 group of days difference between log date & FDD, \n",
    "      \n",
    "    all of which contains 25% of total parcels volume ({plot_data[\"total_parcels\"].min()}-{plot_data[\"total_parcels\"].max()} parcels).\n",
    "\n",
    "Parcels predicted {plot_data.iloc[0,0]} days before FDD has the highest inaccuracy percentage ({plot_data.iloc[0,-1]:.2f} %)\n",
    "\n",
    "Whereas parcels predicted {plot_data.iloc[-1,0]} days before FDD has the lowest inaccuracy percentage ({plot_data.iloc[-1,-1]:.2f} %).''')"
   ]
  },
  {
   "cell_type": "code",
   "execution_count": 3302,
   "metadata": {},
   "outputs": [
    {
     "data": {
      "application/vnd.plotly.v1+json": {
       "config": {
        "plotlyServerURL": "https://plot.ly"
       },
       "data": [
        {
         "marker": {
          "color": "cornflowerblue"
         },
         "name": "Total parcels",
         "textposition": "outside",
         "texttemplate": "%{y:,} parcels<br>",
         "type": "bar",
         "x": [
          "0 - 0.13",
          "0.13 - 0.21",
          "0.21 - 0.35",
          "0.35 - 17.05"
         ],
         "y": [
          801,
          801,
          801,
          802
         ]
        },
        {
         "customdata": [
          71.53558052434457,
          62.546816479400746,
          58.42696629213483,
          56.48379052369077
         ],
         "marker": {
          "color": "darkblue"
         },
         "name": "Inaccurate parcels",
         "textposition": "outside",
         "texttemplate": "%{y:,} parcels<br>(%{customdata:.2f} %)",
         "type": "bar",
         "x": [
          "0 - 0.13",
          "0.13 - 0.21",
          "0.21 - 0.35",
          "0.35 - 17.05"
         ],
         "y": [
          573,
          501,
          468,
          453
         ]
        }
       ],
       "layout": {
        "barmode": "group",
        "height": 600,
        "template": {
         "data": {
          "bar": [
           {
            "error_x": {
             "color": "#2a3f5f"
            },
            "error_y": {
             "color": "#2a3f5f"
            },
            "marker": {
             "line": {
              "color": "#E5ECF6",
              "width": 0.5
             },
             "pattern": {
              "fillmode": "overlay",
              "size": 10,
              "solidity": 0.2
             }
            },
            "type": "bar"
           }
          ],
          "barpolar": [
           {
            "marker": {
             "line": {
              "color": "#E5ECF6",
              "width": 0.5
             },
             "pattern": {
              "fillmode": "overlay",
              "size": 10,
              "solidity": 0.2
             }
            },
            "type": "barpolar"
           }
          ],
          "carpet": [
           {
            "aaxis": {
             "endlinecolor": "#2a3f5f",
             "gridcolor": "white",
             "linecolor": "white",
             "minorgridcolor": "white",
             "startlinecolor": "#2a3f5f"
            },
            "baxis": {
             "endlinecolor": "#2a3f5f",
             "gridcolor": "white",
             "linecolor": "white",
             "minorgridcolor": "white",
             "startlinecolor": "#2a3f5f"
            },
            "type": "carpet"
           }
          ],
          "choropleth": [
           {
            "colorbar": {
             "outlinewidth": 0,
             "ticks": ""
            },
            "type": "choropleth"
           }
          ],
          "contour": [
           {
            "colorbar": {
             "outlinewidth": 0,
             "ticks": ""
            },
            "colorscale": [
             [
              0,
              "#0d0887"
             ],
             [
              0.1111111111111111,
              "#46039f"
             ],
             [
              0.2222222222222222,
              "#7201a8"
             ],
             [
              0.3333333333333333,
              "#9c179e"
             ],
             [
              0.4444444444444444,
              "#bd3786"
             ],
             [
              0.5555555555555556,
              "#d8576b"
             ],
             [
              0.6666666666666666,
              "#ed7953"
             ],
             [
              0.7777777777777778,
              "#fb9f3a"
             ],
             [
              0.8888888888888888,
              "#fdca26"
             ],
             [
              1,
              "#f0f921"
             ]
            ],
            "type": "contour"
           }
          ],
          "contourcarpet": [
           {
            "colorbar": {
             "outlinewidth": 0,
             "ticks": ""
            },
            "type": "contourcarpet"
           }
          ],
          "heatmap": [
           {
            "colorbar": {
             "outlinewidth": 0,
             "ticks": ""
            },
            "colorscale": [
             [
              0,
              "#0d0887"
             ],
             [
              0.1111111111111111,
              "#46039f"
             ],
             [
              0.2222222222222222,
              "#7201a8"
             ],
             [
              0.3333333333333333,
              "#9c179e"
             ],
             [
              0.4444444444444444,
              "#bd3786"
             ],
             [
              0.5555555555555556,
              "#d8576b"
             ],
             [
              0.6666666666666666,
              "#ed7953"
             ],
             [
              0.7777777777777778,
              "#fb9f3a"
             ],
             [
              0.8888888888888888,
              "#fdca26"
             ],
             [
              1,
              "#f0f921"
             ]
            ],
            "type": "heatmap"
           }
          ],
          "heatmapgl": [
           {
            "colorbar": {
             "outlinewidth": 0,
             "ticks": ""
            },
            "colorscale": [
             [
              0,
              "#0d0887"
             ],
             [
              0.1111111111111111,
              "#46039f"
             ],
             [
              0.2222222222222222,
              "#7201a8"
             ],
             [
              0.3333333333333333,
              "#9c179e"
             ],
             [
              0.4444444444444444,
              "#bd3786"
             ],
             [
              0.5555555555555556,
              "#d8576b"
             ],
             [
              0.6666666666666666,
              "#ed7953"
             ],
             [
              0.7777777777777778,
              "#fb9f3a"
             ],
             [
              0.8888888888888888,
              "#fdca26"
             ],
             [
              1,
              "#f0f921"
             ]
            ],
            "type": "heatmapgl"
           }
          ],
          "histogram": [
           {
            "marker": {
             "pattern": {
              "fillmode": "overlay",
              "size": 10,
              "solidity": 0.2
             }
            },
            "type": "histogram"
           }
          ],
          "histogram2d": [
           {
            "colorbar": {
             "outlinewidth": 0,
             "ticks": ""
            },
            "colorscale": [
             [
              0,
              "#0d0887"
             ],
             [
              0.1111111111111111,
              "#46039f"
             ],
             [
              0.2222222222222222,
              "#7201a8"
             ],
             [
              0.3333333333333333,
              "#9c179e"
             ],
             [
              0.4444444444444444,
              "#bd3786"
             ],
             [
              0.5555555555555556,
              "#d8576b"
             ],
             [
              0.6666666666666666,
              "#ed7953"
             ],
             [
              0.7777777777777778,
              "#fb9f3a"
             ],
             [
              0.8888888888888888,
              "#fdca26"
             ],
             [
              1,
              "#f0f921"
             ]
            ],
            "type": "histogram2d"
           }
          ],
          "histogram2dcontour": [
           {
            "colorbar": {
             "outlinewidth": 0,
             "ticks": ""
            },
            "colorscale": [
             [
              0,
              "#0d0887"
             ],
             [
              0.1111111111111111,
              "#46039f"
             ],
             [
              0.2222222222222222,
              "#7201a8"
             ],
             [
              0.3333333333333333,
              "#9c179e"
             ],
             [
              0.4444444444444444,
              "#bd3786"
             ],
             [
              0.5555555555555556,
              "#d8576b"
             ],
             [
              0.6666666666666666,
              "#ed7953"
             ],
             [
              0.7777777777777778,
              "#fb9f3a"
             ],
             [
              0.8888888888888888,
              "#fdca26"
             ],
             [
              1,
              "#f0f921"
             ]
            ],
            "type": "histogram2dcontour"
           }
          ],
          "mesh3d": [
           {
            "colorbar": {
             "outlinewidth": 0,
             "ticks": ""
            },
            "type": "mesh3d"
           }
          ],
          "parcoords": [
           {
            "line": {
             "colorbar": {
              "outlinewidth": 0,
              "ticks": ""
             }
            },
            "type": "parcoords"
           }
          ],
          "pie": [
           {
            "automargin": true,
            "type": "pie"
           }
          ],
          "scatter": [
           {
            "marker": {
             "colorbar": {
              "outlinewidth": 0,
              "ticks": ""
             }
            },
            "type": "scatter"
           }
          ],
          "scatter3d": [
           {
            "line": {
             "colorbar": {
              "outlinewidth": 0,
              "ticks": ""
             }
            },
            "marker": {
             "colorbar": {
              "outlinewidth": 0,
              "ticks": ""
             }
            },
            "type": "scatter3d"
           }
          ],
          "scattercarpet": [
           {
            "marker": {
             "colorbar": {
              "outlinewidth": 0,
              "ticks": ""
             }
            },
            "type": "scattercarpet"
           }
          ],
          "scattergeo": [
           {
            "marker": {
             "colorbar": {
              "outlinewidth": 0,
              "ticks": ""
             }
            },
            "type": "scattergeo"
           }
          ],
          "scattergl": [
           {
            "marker": {
             "colorbar": {
              "outlinewidth": 0,
              "ticks": ""
             }
            },
            "type": "scattergl"
           }
          ],
          "scattermapbox": [
           {
            "marker": {
             "colorbar": {
              "outlinewidth": 0,
              "ticks": ""
             }
            },
            "type": "scattermapbox"
           }
          ],
          "scatterpolar": [
           {
            "marker": {
             "colorbar": {
              "outlinewidth": 0,
              "ticks": ""
             }
            },
            "type": "scatterpolar"
           }
          ],
          "scatterpolargl": [
           {
            "marker": {
             "colorbar": {
              "outlinewidth": 0,
              "ticks": ""
             }
            },
            "type": "scatterpolargl"
           }
          ],
          "scatterternary": [
           {
            "marker": {
             "colorbar": {
              "outlinewidth": 0,
              "ticks": ""
             }
            },
            "type": "scatterternary"
           }
          ],
          "surface": [
           {
            "colorbar": {
             "outlinewidth": 0,
             "ticks": ""
            },
            "colorscale": [
             [
              0,
              "#0d0887"
             ],
             [
              0.1111111111111111,
              "#46039f"
             ],
             [
              0.2222222222222222,
              "#7201a8"
             ],
             [
              0.3333333333333333,
              "#9c179e"
             ],
             [
              0.4444444444444444,
              "#bd3786"
             ],
             [
              0.5555555555555556,
              "#d8576b"
             ],
             [
              0.6666666666666666,
              "#ed7953"
             ],
             [
              0.7777777777777778,
              "#fb9f3a"
             ],
             [
              0.8888888888888888,
              "#fdca26"
             ],
             [
              1,
              "#f0f921"
             ]
            ],
            "type": "surface"
           }
          ],
          "table": [
           {
            "cells": {
             "fill": {
              "color": "#EBF0F8"
             },
             "line": {
              "color": "white"
             }
            },
            "header": {
             "fill": {
              "color": "#C8D4E3"
             },
             "line": {
              "color": "white"
             }
            },
            "type": "table"
           }
          ]
         },
         "layout": {
          "annotationdefaults": {
           "arrowcolor": "#2a3f5f",
           "arrowhead": 0,
           "arrowwidth": 1
          },
          "autotypenumbers": "strict",
          "coloraxis": {
           "colorbar": {
            "outlinewidth": 0,
            "ticks": ""
           }
          },
          "colorscale": {
           "diverging": [
            [
             0,
             "#8e0152"
            ],
            [
             0.1,
             "#c51b7d"
            ],
            [
             0.2,
             "#de77ae"
            ],
            [
             0.3,
             "#f1b6da"
            ],
            [
             0.4,
             "#fde0ef"
            ],
            [
             0.5,
             "#f7f7f7"
            ],
            [
             0.6,
             "#e6f5d0"
            ],
            [
             0.7,
             "#b8e186"
            ],
            [
             0.8,
             "#7fbc41"
            ],
            [
             0.9,
             "#4d9221"
            ],
            [
             1,
             "#276419"
            ]
           ],
           "sequential": [
            [
             0,
             "#0d0887"
            ],
            [
             0.1111111111111111,
             "#46039f"
            ],
            [
             0.2222222222222222,
             "#7201a8"
            ],
            [
             0.3333333333333333,
             "#9c179e"
            ],
            [
             0.4444444444444444,
             "#bd3786"
            ],
            [
             0.5555555555555556,
             "#d8576b"
            ],
            [
             0.6666666666666666,
             "#ed7953"
            ],
            [
             0.7777777777777778,
             "#fb9f3a"
            ],
            [
             0.8888888888888888,
             "#fdca26"
            ],
            [
             1,
             "#f0f921"
            ]
           ],
           "sequentialminus": [
            [
             0,
             "#0d0887"
            ],
            [
             0.1111111111111111,
             "#46039f"
            ],
            [
             0.2222222222222222,
             "#7201a8"
            ],
            [
             0.3333333333333333,
             "#9c179e"
            ],
            [
             0.4444444444444444,
             "#bd3786"
            ],
            [
             0.5555555555555556,
             "#d8576b"
            ],
            [
             0.6666666666666666,
             "#ed7953"
            ],
            [
             0.7777777777777778,
             "#fb9f3a"
            ],
            [
             0.8888888888888888,
             "#fdca26"
            ],
            [
             1,
             "#f0f921"
            ]
           ]
          },
          "colorway": [
           "#636efa",
           "#EF553B",
           "#00cc96",
           "#ab63fa",
           "#FFA15A",
           "#19d3f3",
           "#FF6692",
           "#B6E880",
           "#FF97FF",
           "#FECB52"
          ],
          "font": {
           "color": "#2a3f5f"
          },
          "geo": {
           "bgcolor": "white",
           "lakecolor": "white",
           "landcolor": "#E5ECF6",
           "showlakes": true,
           "showland": true,
           "subunitcolor": "white"
          },
          "hoverlabel": {
           "align": "left"
          },
          "hovermode": "closest",
          "mapbox": {
           "style": "light"
          },
          "paper_bgcolor": "white",
          "plot_bgcolor": "#E5ECF6",
          "polar": {
           "angularaxis": {
            "gridcolor": "white",
            "linecolor": "white",
            "ticks": ""
           },
           "bgcolor": "#E5ECF6",
           "radialaxis": {
            "gridcolor": "white",
            "linecolor": "white",
            "ticks": ""
           }
          },
          "scene": {
           "xaxis": {
            "backgroundcolor": "#E5ECF6",
            "gridcolor": "white",
            "gridwidth": 2,
            "linecolor": "white",
            "showbackground": true,
            "ticks": "",
            "zerolinecolor": "white"
           },
           "yaxis": {
            "backgroundcolor": "#E5ECF6",
            "gridcolor": "white",
            "gridwidth": 2,
            "linecolor": "white",
            "showbackground": true,
            "ticks": "",
            "zerolinecolor": "white"
           },
           "zaxis": {
            "backgroundcolor": "#E5ECF6",
            "gridcolor": "white",
            "gridwidth": 2,
            "linecolor": "white",
            "showbackground": true,
            "ticks": "",
            "zerolinecolor": "white"
           }
          },
          "shapedefaults": {
           "line": {
            "color": "#2a3f5f"
           }
          },
          "ternary": {
           "aaxis": {
            "gridcolor": "white",
            "linecolor": "white",
            "ticks": ""
           },
           "baxis": {
            "gridcolor": "white",
            "linecolor": "white",
            "ticks": ""
           },
           "bgcolor": "#E5ECF6",
           "caxis": {
            "gridcolor": "white",
            "linecolor": "white",
            "ticks": ""
           }
          },
          "title": {
           "x": 0.05
          },
          "xaxis": {
           "automargin": true,
           "gridcolor": "white",
           "linecolor": "white",
           "ticks": "",
           "title": {
            "standoff": 15
           },
           "zerolinecolor": "white",
           "zerolinewidth": 2
          },
          "yaxis": {
           "automargin": true,
           "gridcolor": "white",
           "linecolor": "white",
           "ticks": "",
           "title": {
            "standoff": 15
           },
           "zerolinecolor": "white",
           "zerolinewidth": 2
          }
         }
        },
        "title": {
         "font": {
          "size": 20
         },
         "text": "<b>NUMBER & PERCENTAGE OF INACCURATE PARCELS<br>PER <b>",
         "x": 0.45,
         "y": 0.9
        },
        "width": 1000,
        "xaxis": {
         "showgrid": false,
         "title": {
          "text": "x days predicted before FDD"
         }
        },
        "yaxis": {
         "range": [
          0,
          875
         ],
         "title": {
          "text": "Number of parcels"
         }
        }
       }
      }
     },
     "metadata": {},
     "output_type": "display_data"
    }
   ],
   "source": [
    "# PLOT\n",
    "plot_data = daydiff_log_FDD_tbl.iloc[:-1].copy()\n",
    "x = plot_data['predicted_days_before_FDD'].values\n",
    "\n",
    "fig = go.Figure(data=[\n",
    "    go.Bar(name='Total parcels', \n",
    "            x=x, y=plot_data['total_parcels'], \n",
    "           marker_color='cornflowerblue',\n",
    "           texttemplate='%{y:,} parcels<br>'\n",
    "           ),\n",
    "    go.Bar(name='Inaccurate parcels', \n",
    "            x=x, y=plot_data['parcels_with_inaccurate_EDDs'], \n",
    "           marker_color='darkblue', \n",
    "           customdata= plot_data['perc_inaccurate_parcels %'], \n",
    "           texttemplate='%{y:,} parcels<br>(%{customdata:.2f} %)'\n",
    "           )\n",
    "])\n",
    "fig.update_traces(textposition = 'outside')\n",
    "fig.update_layout(\n",
    "    barmode='group',\n",
    "    width=1000,\n",
    "    height=600,\n",
    "    title='<b>NUMBER & PERCENTAGE OF INACCURATE PARCELS<br>PER <b>', title_font={'size':20},\n",
    "    title_x=.45, title_y=.9,\n",
    "    xaxis={'title': 'x days predicted before FDD', 'showgrid':False}, \n",
    "    yaxis={'title':'Number of parcels', 'range': [0,875]}\n",
    ")\n",
    "fig.show()"
   ]
  },
  {
   "cell_type": "markdown",
   "metadata": {},
   "source": [
    "**WHY PARCELS HAVING EDD PREDICTED 3 HOURS BEFORE DELIVERY DATE ARE STILL INACCURATE?**"
   ]
  },
  {
   "cell_type": "code",
   "execution_count": 3304,
   "metadata": {},
   "outputs": [
    {
     "data": {
      "text/html": [
       "<div>\n",
       "<style scoped>\n",
       "    .dataframe tbody tr th:only-of-type {\n",
       "        vertical-align: middle;\n",
       "    }\n",
       "\n",
       "    .dataframe tbody tr th {\n",
       "        vertical-align: top;\n",
       "    }\n",
       "\n",
       "    .dataframe thead th {\n",
       "        text-align: right;\n",
       "    }\n",
       "</style>\n",
       "<table border=\"1\" class=\"dataframe\">\n",
       "  <thead>\n",
       "    <tr style=\"text-align: right;\">\n",
       "      <th></th>\n",
       "      <th>days_from_FDD_to_EDD</th>\n",
       "      <th>total_inaccurate_parcels</th>\n",
       "      <th>percentage %</th>\n",
       "    </tr>\n",
       "  </thead>\n",
       "  <tbody>\n",
       "    <tr>\n",
       "      <th>0</th>\n",
       "      <td>-17.99 to -2.49</td>\n",
       "      <td>228</td>\n",
       "      <td>39.79</td>\n",
       "    </tr>\n",
       "    <tr>\n",
       "      <th>1</th>\n",
       "      <td>-2.49 to -1.37</td>\n",
       "      <td>192</td>\n",
       "      <td>33.51</td>\n",
       "    </tr>\n",
       "    <tr>\n",
       "      <th>2</th>\n",
       "      <td>-1.37 to -0.20</td>\n",
       "      <td>85</td>\n",
       "      <td>14.83</td>\n",
       "    </tr>\n",
       "    <tr>\n",
       "      <th>3</th>\n",
       "      <td>-0.20 to 14.55</td>\n",
       "      <td>68</td>\n",
       "      <td>11.87</td>\n",
       "    </tr>\n",
       "    <tr>\n",
       "      <th>4</th>\n",
       "      <td>All parcels predicted 3 hrs before FDD</td>\n",
       "      <td>573</td>\n",
       "      <td>100.00</td>\n",
       "    </tr>\n",
       "  </tbody>\n",
       "</table>\n",
       "</div>"
      ],
      "text/plain": [
       "                     days_from_FDD_to_EDD  total_inaccurate_parcels  \\\n",
       "0                         -17.99 to -2.49                       228   \n",
       "1                          -2.49 to -1.37                       192   \n",
       "2                          -1.37 to -0.20                        85   \n",
       "3                          -0.20 to 14.55                        68   \n",
       "4  All parcels predicted 3 hrs before FDD                       573   \n",
       "\n",
       "   percentage %  \n",
       "0         39.79  \n",
       "1         33.51  \n",
       "2         14.83  \n",
       "3         11.87  \n",
       "4        100.00  "
      ]
     },
     "execution_count": 3304,
     "metadata": {},
     "output_type": "execute_result"
    }
   ],
   "source": [
    "# PREPARE DATA\n",
    "def group_daydiff_FDD_EDD(r):\n",
    "    '''\n",
    "    Function to devide daydiff_bw_FDD_EDD into 4 groups\n",
    "    '''\n",
    "    min = last_normal_edd_tbl['daydiff_bw_FDD_EDD'].min()\n",
    "    q1 = last_normal_edd_tbl['daydiff_bw_FDD_EDD'].quantile(.25)\n",
    "    median = last_normal_edd_tbl['daydiff_bw_FDD_EDD'].median()\n",
    "    q3 = last_normal_edd_tbl['daydiff_bw_FDD_EDD'].quantile(.75)\n",
    "    max = last_normal_edd_tbl['daydiff_bw_FDD_EDD'].max()\n",
    "\n",
    "    if r <= q1:\n",
    "        return f'{min:.2f} to {q1:.2f}'\n",
    "    elif r <= median:\n",
    "        return f'{q1:.2f} to {median:.2f}'\n",
    "    elif r <= q3:\n",
    "        return f'{median:.2f} to {q3:.2f}'\n",
    "    else: \n",
    "        return f'{q3:.2f} to {max:.2f}'\n",
    "    \n",
    "last_normal_edd_tbl['days_from_FDD_to_EDD'] = last_normal_edd_tbl['daydiff_bw_FDD_EDD'].apply(group_daydiff_FDD_EDD)\n",
    "\n",
    "# WHY PARCELS PREDICTED 3 HOURS BEFORE FDD STILL INACCURATE?\n",
    "tmp_tbl = last_normal_edd_tbl[(last_normal_edd_tbl['predicted_days_before_FDD']=='0 - 0.13') & (last_normal_edd_tbl['EDD_is_accurate']==False)] \n",
    "daydiff_FDD_EDD_tbl_2 = tmp_tbl.groupby('days_from_FDD_to_EDD')['parcel_id'].nunique().reset_index(name='total_inaccurate_parcels').set_index('days_from_FDD_to_EDD')\n",
    "daydiff_FDD_EDD_tbl_2.loc['All parcels predicted 3 hrs before FDD',:] = daydiff_FDD_EDD_tbl_2.iloc[:,:].sum(axis=0, numeric_only=True)\n",
    "daydiff_FDD_EDD_tbl_2['percentage %'] = daydiff_FDD_EDD_tbl_2['total_inaccurate_parcels'] / daydiff_FDD_EDD_tbl_2.iloc[-1,0] * 100\n",
    "order_map = {'-17.99 to -2.49':1,\n",
    "         '-2.49 to -1.37':2,\n",
    "         '-1.37 to -0.20':3,\n",
    "        '-0.20 to 14.55':4,\n",
    "        'All':5}\n",
    "daydiff_FDD_EDD_tbl_2 = daydiff_FDD_EDD_tbl_2.sort_values(by='days_from_FDD_to_EDD', key=lambda x: x.map(order_map))\n",
    "daydiff_FDD_EDD_tbl_2.reset_index(inplace=True)\n",
    "daydiff_FDD_EDD_tbl_2['total_inaccurate_parcels'] = daydiff_FDD_EDD_tbl_2['total_inaccurate_parcels'].astype(int)\n",
    "daydiff_FDD_EDD_tbl_2"
   ]
  },
  {
   "cell_type": "markdown",
   "metadata": {},
   "source": [
    "According to previous analysis, 71.54% (573 parcels) having last EDD predicted about 3 hours before final delivery date (FDD) are inaccurate.\n",
    "\n",
    "Among them, 39.79% (228 parcels) were predicted to be delivered at least 2.5 after final delivery date."
   ]
  },
  {
   "cell_type": "markdown",
   "metadata": {},
   "source": [
    "#### 3. FINAL DELIVERY TIME OF DAY"
   ]
  },
  {
   "cell_type": "code",
   "execution_count": 3305,
   "metadata": {},
   "outputs": [
    {
     "data": {
      "text/html": [
       "<div>\n",
       "<style scoped>\n",
       "    .dataframe tbody tr th:only-of-type {\n",
       "        vertical-align: middle;\n",
       "    }\n",
       "\n",
       "    .dataframe tbody tr th {\n",
       "        vertical-align: top;\n",
       "    }\n",
       "\n",
       "    .dataframe thead th {\n",
       "        text-align: right;\n",
       "    }\n",
       "</style>\n",
       "<table border=\"1\" class=\"dataframe\">\n",
       "  <thead>\n",
       "    <tr style=\"text-align: right;\">\n",
       "      <th></th>\n",
       "      <th>FDD_hour_of_day_group</th>\n",
       "      <th>total_parcels</th>\n",
       "      <th>parcels_with_accurate_EDDs</th>\n",
       "      <th>parcels_with_inaccurate_EDDs</th>\n",
       "      <th>perc_accurate_parcels %</th>\n",
       "      <th>perc_inaccurate_parcels %</th>\n",
       "    </tr>\n",
       "  </thead>\n",
       "  <tbody>\n",
       "    <tr>\n",
       "      <th>0</th>\n",
       "      <td>0-1.72</td>\n",
       "      <td>805</td>\n",
       "      <td>296</td>\n",
       "      <td>509</td>\n",
       "      <td>36.77</td>\n",
       "      <td>63.23</td>\n",
       "    </tr>\n",
       "    <tr>\n",
       "      <th>1</th>\n",
       "      <td>1.72-3.42</td>\n",
       "      <td>801</td>\n",
       "      <td>359</td>\n",
       "      <td>442</td>\n",
       "      <td>44.82</td>\n",
       "      <td>55.18</td>\n",
       "    </tr>\n",
       "    <tr>\n",
       "      <th>2</th>\n",
       "      <td>3.42-6.08</td>\n",
       "      <td>800</td>\n",
       "      <td>339</td>\n",
       "      <td>461</td>\n",
       "      <td>42.38</td>\n",
       "      <td>57.63</td>\n",
       "    </tr>\n",
       "    <tr>\n",
       "      <th>3</th>\n",
       "      <td>6.08-0</td>\n",
       "      <td>799</td>\n",
       "      <td>216</td>\n",
       "      <td>583</td>\n",
       "      <td>27.03</td>\n",
       "      <td>72.97</td>\n",
       "    </tr>\n",
       "    <tr>\n",
       "      <th>4</th>\n",
       "      <td>All</td>\n",
       "      <td>3205</td>\n",
       "      <td>1210</td>\n",
       "      <td>1995</td>\n",
       "      <td>37.75</td>\n",
       "      <td>62.25</td>\n",
       "    </tr>\n",
       "  </tbody>\n",
       "</table>\n",
       "</div>"
      ],
      "text/plain": [
       "  FDD_hour_of_day_group  total_parcels  parcels_with_accurate_EDDs  \\\n",
       "0                0-1.72            805                         296   \n",
       "1             1.72-3.42            801                         359   \n",
       "2             3.42-6.08            800                         339   \n",
       "3                6.08-0            799                         216   \n",
       "4                   All           3205                        1210   \n",
       "\n",
       "   parcels_with_inaccurate_EDDs  perc_accurate_parcels %  \\\n",
       "0                           509                    36.77   \n",
       "1                           442                    44.82   \n",
       "2                           461                    42.38   \n",
       "3                           583                    27.03   \n",
       "4                          1995                    37.75   \n",
       "\n",
       "   perc_inaccurate_parcels %  \n",
       "0                      63.23  \n",
       "1                      55.18  \n",
       "2                      57.63  \n",
       "3                      72.97  \n",
       "4                      62.25  "
      ]
     },
     "execution_count": 3305,
     "metadata": {},
     "output_type": "execute_result"
    }
   ],
   "source": [
    "# PREPARE DATA\n",
    "last_normal_edd_tbl['FDD_hour'] = last_normal_edd_tbl['final_delivery_date'].dt.hour + last_normal_edd_tbl['final_delivery_date'].dt.minute / 60\n",
    "# last_normal_edd_tbl['FDD_hour'].describe()\n",
    "\n",
    "def fdd_hour_group(r):\n",
    "    '''\n",
    "    Function to devide final_delivery_date into 4 groups:\n",
    "    0-6 AM (midnight), 6-12PM (morning), 12-18PM (afternoon), 18-0AM (night)\n",
    "    '''\n",
    "    q1 = last_normal_edd_tbl['FDD_hour'].quantile(.25)\n",
    "    median = last_normal_edd_tbl['FDD_hour'].median()\n",
    "    q3 = last_normal_edd_tbl['FDD_hour'].quantile(.75)\n",
    "\n",
    "    if r<= q1:\n",
    "        return f'0-{q1:.2f}'\n",
    "    elif r <= median:\n",
    "        return f'{q1:.2f}-{median:.2f}'\n",
    "    elif r <= q3:\n",
    "        return f'{median:.2f}-{q3:.2f}'\n",
    "    else: \n",
    "        return f'{q3:.2f}-0'\n",
    "\n",
    "last_normal_edd_tbl['FDD_hour_of_day_group'] = last_normal_edd_tbl['FDD_hour'].apply(fdd_hour_group)\n",
    "# DROP UNESCESSARY COLUMN\n",
    "last_normal_edd_tbl.drop('FDD_hour', axis=1, inplace=True)\n",
    "\n",
    "fdd_hour_tbl = last_normal_edd_tbl.groupby('FDD_hour_of_day_group').apply(func_nunique)\n",
    "fdd_hour_tbl.loc['All',:] = fdd_hour_tbl.iloc[:,:].sum(axis=0, numeric_only=True)\n",
    "fdd_hour_tbl['perc_accurate_parcels %'] = fdd_hour_tbl['parcels_with_accurate_EDDs'] / fdd_hour_tbl['total_parcels'] * 100\n",
    "fdd_hour_tbl['perc_inaccurate_parcels %'] = fdd_hour_tbl['parcels_with_inaccurate_EDDs'] / fdd_hour_tbl['total_parcels'] * 100\n",
    "fdd_hour_tbl['FDD_hour_group_start'] = [float(fdd_hour_tbl.iloc[:-1].index[i].split('-')[0]) for i in range(len(fdd_hour_tbl)-1)].append('All')\n",
    "fdd_hour_tbl = fdd_hour_tbl.sort_values('FDD_hour_group_start').drop('FDD_hour_group_start', axis=1)\n",
    "fdd_hour_tbl.reset_index(inplace=True)\n",
    "fdd_hour_tbl.iloc[:,1:4] = fdd_hour_tbl.iloc[:,1:4].astype(int)\n",
    "fdd_hour_tbl"
   ]
  },
  {
   "cell_type": "code",
   "execution_count": 3306,
   "metadata": {},
   "outputs": [
    {
     "name": "stdout",
     "output_type": "stream",
     "text": [
      "I divided total parcels into 4 group of delivery time, all of which contains 25% of total parcels volume (799-3,205 parcels).\n",
      "\n",
      "Delivery time 6.08-0 of day (from morning till before midnight) has the highest inaccuracy percentage (72.97 %)\n",
      "\n",
      "Whereas delivery time 1.72-3.42 of day has the lowest inaccuracy percentage (55.18 %).\n"
     ]
    }
   ],
   "source": [
    "print(f'''I divided total parcels into 4 group of delivery time, all of which contains 25% of total parcels volume ({fdd_hour_tbl[\"total_parcels\"].min():,}-{fdd_hour_tbl[\"total_parcels\"].max():,} parcels).\n",
    "\n",
    "Delivery time {fdd_hour_tbl.iloc[-2,0]} of day (from morning till before midnight) has the highest inaccuracy percentage ({fdd_hour_tbl.iloc[-2,-1]:.2f} %)\n",
    "\n",
    "Whereas delivery time {fdd_hour_tbl.iloc[1,0]} of day has the lowest inaccuracy percentage ({fdd_hour_tbl.iloc[1,-1]:.2f} %).''')"
   ]
  },
  {
   "cell_type": "markdown",
   "metadata": {},
   "source": [
    "## E. CONCLUSION"
   ]
  },
  {
   "cell_type": "markdown",
   "metadata": {},
   "source": [
    "**1. CARRIERS' VOLUME AND EDD ACCURACY**\n",
    "\n",
    "- 37.75% of total volume (1,210 parcels) have accurate EDDs.\n",
    "\n",
    "- Globex has the lowest parcels volume (45 parcels), but highest percentage of accurate EDD parcels (93.33%).\n",
    "\n",
    "- Initech has the highest parcels volume (3,069 parcels), but low percentage of accurate EDD parcels (37.15%).\n",
    "\n",
    "**2. SUCCESSFUL DELIVERY RATE**\n",
    "\n",
    "- 86.05% (2,758) of total parcels were delivered on first attempt.\n",
    "\n",
    "- All 3 carriers has > 85% successful delivery percentage on first attempt.\n",
    "\n",
    "**3. CHARACTERISTICS OF ACCURATE EDDs PARCELS**\n",
    "\n",
    "i. EDDs Frequency\n",
    "\n",
    "- Among 80.67% (2,576) parcels having only 1 unique EDD, there are 994 (31.01%) parcels have accurate EDDs.\n",
    "\n",
    "- Only 19.63% (629) parcels have more than 1 unique EDD, and 6.74% (216) of which have accurate EDDs.\n",
    "\n",
    "ii. Earliest day that all EDDs per parcel were predicted accurately is 8.84 days before the final delivery date.\n",
    "\n",
    "iii. Longer delivery duration has higher EDD accuracy per parcel.\n",
    "\n",
    "iv. Final delivery time of day\n",
    "\n",
    "- 75% total parcels (2,382 parcels) were delivered during midnight hours from 0am to 6am, and 41.39% of them (986 parcels) have accurate EDDs.\n",
    "\n",
    "- Only 25% total parcels (823 parcels) were delivered during daytime from 6am to 0am, and only 27.22% of them (224 parcels) have accurate EDDs\n",
    "\n",
    "**4. CHARACTERISTICS OF INACCURATE EDDs PARCELS**\n",
    "\n",
    "- EDD predicted closer to final delivery date has higher edd inaccuracy per parcel and vice versa.\n",
    "\n",
    "- Delivery time of day from 6am to 0am has highest inaccuratcy edd percentage.\n",
    "\n",
    "- 1.28% parcels were predicted to be delivered before prediction date, which is obviously inaccurate."
   ]
  }
 ],
 "metadata": {
  "kernelspec": {
   "display_name": "dsenv_clone",
   "language": "python",
   "name": "python3"
  },
  "language_info": {
   "codemirror_mode": {
    "name": "ipython",
    "version": 3
   },
   "file_extension": ".py",
   "mimetype": "text/x-python",
   "name": "python",
   "nbconvert_exporter": "python",
   "pygments_lexer": "ipython3",
   "version": "3.8.12"
  }
 },
 "nbformat": 4,
 "nbformat_minor": 2
}
